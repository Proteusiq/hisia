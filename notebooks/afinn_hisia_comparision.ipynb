{
 "cells": [
  {
   "cell_type": "markdown",
   "metadata": {
    "jupyter": {
     "outputs_hidden": true
    }
   },
   "source": [
    "## Install afinn and hisia from PyPI"
   ]
  },
  {
   "cell_type": "code",
   "execution_count": 1,
   "metadata": {},
   "outputs": [],
   "source": [
    "#!python -m pip install --user afinn hisia"
   ]
  },
  {
   "cell_type": "code",
   "execution_count": 2,
   "metadata": {},
   "outputs": [],
   "source": [
    "import pandas as pd\n",
    "\n",
    "from afinn import Afinn\n",
    "from hisia import Hisia"
   ]
  },
  {
   "cell_type": "markdown",
   "metadata": {},
   "source": [
    "## Hisia and Afinn"
   ]
  },
  {
   "cell_type": "code",
   "execution_count": 3,
   "metadata": {},
   "outputs": [
    {
     "data": {
      "text/plain": [
       "Sentiment(sentiment=positive, positive_probability=0.845, negative_probability=0.155)"
      ]
     },
     "execution_count": 3,
     "metadata": {},
     "output_type": "execute_result"
    }
   ],
   "source": [
    "Hisia('jeg elsker det')"
   ]
  },
  {
   "cell_type": "code",
   "execution_count": 4,
   "metadata": {},
   "outputs": [
    {
     "data": {
      "text/plain": [
       "Sentiment(sentiment=positive, positive_probability=0.695, negative_probability=0.305)"
      ]
     },
     "execution_count": 4,
     "metadata": {},
     "output_type": "execute_result"
    }
   ],
   "source": [
    "Hisia('jeg elsker det ikke')"
   ]
  },
  {
   "cell_type": "code",
   "execution_count": 5,
   "metadata": {},
   "outputs": [
    {
     "data": {
      "text/plain": [
       "Sentiment(sentiment=negative, positive_probability=0.279, negative_probability=0.721)"
      ]
     },
     "execution_count": 5,
     "metadata": {},
     "output_type": "execute_result"
    }
   ],
   "source": [
    "Hisia('jeg elsker det slet ikke')"
   ]
  },
  {
   "cell_type": "code",
   "execution_count": 6,
   "metadata": {},
   "outputs": [
    {
     "data": {
      "text/plain": [
       "{'decision': -0.9486986657196259,\n",
       " 'intercept': 0.9959111721097562,\n",
       " 'features': {('elsker', 0.6979194308004358),\n",
       "  ('ikke', -3.425370797679455),\n",
       "  ('slet', -2.481326445401143),\n",
       "  ('slet ikke', -1.307716737138593)}}"
      ]
     },
     "execution_count": 6,
     "metadata": {},
     "output_type": "execute_result"
    }
   ],
   "source": [
    "Hisia('jeg elsker det slet ikke').explain"
   ]
  },
  {
   "cell_type": "code",
   "execution_count": 7,
   "metadata": {},
   "outputs": [
    {
     "data": {
      "text/plain": [
       "2.0"
      ]
     },
     "execution_count": 7,
     "metadata": {},
     "output_type": "execute_result"
    }
   ],
   "source": [
    "afinn = Afinn(language='da', emoticons=True)\n",
    "afinn.score('jeg elsker det')"
   ]
  },
  {
   "cell_type": "code",
   "execution_count": 8,
   "metadata": {},
   "outputs": [
    {
     "data": {
      "text/plain": [
       "2.0"
      ]
     },
     "execution_count": 8,
     "metadata": {},
     "output_type": "execute_result"
    }
   ],
   "source": [
    "afinn.score('jeg elsker det ikke')"
   ]
  },
  {
   "cell_type": "code",
   "execution_count": 9,
   "metadata": {},
   "outputs": [
    {
     "data": {
      "text/plain": [
       "2.0"
      ]
     },
     "execution_count": 9,
     "metadata": {},
     "output_type": "execute_result"
    }
   ],
   "source": [
    "afinn.score('jeg elsker det slet ikke')"
   ]
  },
  {
   "cell_type": "code",
   "execution_count": 10,
   "metadata": {},
   "outputs": [
    {
     "data": {
      "text/plain": [
       "[2]"
      ]
     },
     "execution_count": 10,
     "metadata": {},
     "output_type": "execute_result"
    }
   ],
   "source": [
    "afinn.scores('jeg elsker det slet ikke')"
   ]
  },
  {
   "cell_type": "markdown",
   "metadata": {},
   "source": [
    "### Tweet context:\n",
    "@HenrikOslo tweets \n",
    "> \"I Norge vises utenlandske filmer og tv-programmer på originalspråket med norsk tekst på skjermen. Det har gjort oss bedre i engelsk, som i sin tur har ført til at Norge har mer handel med utlandet og dermed bedre økonomi. \n",
    "@teksterne @sprakradet @Trinesg\"\n",
    "\n",
    "@kirstenmarie replies \n",
    "> \"Lur mig, om præcis det samme ikke også gælder for Danmark. Med andre ord: Det er min skyld, at I er så gode til engelsk, folkens. #glorie #hurra #undertekster #undertekstning #sprogdk'\""
   ]
  },
  {
   "cell_type": "code",
   "execution_count": 11,
   "metadata": {},
   "outputs": [
    {
     "data": {
      "text/plain": [
       "[2, -2]"
      ]
     },
     "execution_count": 11,
     "metadata": {},
     "output_type": "execute_result"
    }
   ],
   "source": [
    "# remove #hurra. Kirsten comment is positive (:) I think)\n",
    "kirsten = 'Lur mig, om præcis det samme ikke også gælder for Danmark. Med andre ord: Det er min skyld, at I er så gode til engelsk, folkens'\n",
    "afinn.scores(kirsten)"
   ]
  },
  {
   "cell_type": "code",
   "execution_count": 12,
   "metadata": {},
   "outputs": [
    {
     "data": {
      "text/plain": [
       "0.0"
      ]
     },
     "execution_count": 12,
     "metadata": {},
     "output_type": "execute_result"
    }
   ],
   "source": [
    "afinn.score(kirsten) # præcis=2, skuld=-2 => 0"
   ]
  },
  {
   "cell_type": "code",
   "execution_count": 13,
   "metadata": {},
   "outputs": [
    {
     "data": {
      "text/plain": [
       "Sentiment(sentiment=positive, positive_probability=0.796, negative_probability=0.204)"
      ]
     },
     "execution_count": 13,
     "metadata": {},
     "output_type": "execute_result"
    }
   ],
   "source": [
    "Hisia(kirsten)"
   ]
  },
  {
   "cell_type": "code",
   "execution_count": 14,
   "metadata": {},
   "outputs": [
    {
     "data": {
      "text/plain": [
       "{'decision': 1.3627933222101034,\n",
       " 'intercept': 0.9959111721097562,\n",
       " 'features': {('d:', -0.7156050921422374),\n",
       "  ('danmark', 0.0505246013812673),\n",
       "  ('engelsk', -0.752514842976842),\n",
       "  ('god', 8.10696711640702),\n",
       "  ('gælde', 0.6065832619650474),\n",
       "  ('ikke', -3.425370797679455),\n",
       "  ('ikke gælde', -0.9519030904157224),\n",
       "  ('lure', -0.3810356168616799),\n",
       "  ('ord', 0.06294446930482087),\n",
       "  ('præcis', 3.21636462116231),\n",
       "  ('præcis samme', -1.5145388685004244),\n",
       "  ('samme', -0.1477936239995621),\n",
       "  ('samme ikke', -0.1697967332198241),\n",
       "  ('skylde', 1.7154996587486273)}}"
      ]
     },
     "execution_count": 14,
     "metadata": {},
     "output_type": "execute_result"
    }
   ],
   "source": [
    "Hisia(kirsten).explain # debatable but this is what the model learnt "
   ]
  },
  {
   "cell_type": "markdown",
   "metadata": {},
   "source": [
    "## Comparing Afinn and Hisia"
   ]
  },
  {
   "cell_type": "code",
   "execution_count": 15,
   "metadata": {},
   "outputs": [],
   "source": [
    "# Note: Afinn returns 0 if there is no word found, or the words cancel each other\n",
    "\n",
    "# Data Sources\n",
    "# Manual Tripadvisor dansk\n",
    "# twitter search lang:da #lort\n",
    "#                lang:da \":)\", \":(\",  \"ikke dårligt\", \"ikke godt\"\n",
    "# - * remove the :)|:( and place sentiment 1 for :) and -1 for :( in twitter\n",
    "#     remove #hurra replace # and add # sentiment 1   \n",
    "\n",
    "# - ** Dig og mig ved daggry af Sanne Mink Jensen, Glenn Rintved\n",
    "\n",
    "columns = ['text','sentiment']\n",
    "data_set = [\n",
    "    ('Lur mig, om præcis det samme ikke også gælder for Danmark. Med andre ord: Det er min skyld, '\n",
    "     'at I er så gode til engelsk, folkens. # [...]', 1),\n",
    "    ('Så er jeg klar til min halvårlige ‘gløgg’, hvor jeg inviterer alle mine fb-venner ud af ekkokammeret '\n",
    "     'og hjem til mig. Vi plejer at være 100 og jeg elsker hvert et øjeblik', 1),\n",
    "    ('I går havde bloggen 10 års jubilæum! Tak til alle jer, der kommer med indspark og søde kommentarer: [...] #', 1),\n",
    "    ('Vedvarende energi billigere end fossile brændsler inden for ti år, spår FN-rapport #', 1),\n",
    "    ('Hvad i alverden skal det gøre godt for? Pouting face #dumt #dyrt',-1),\n",
    "    ('Fantastisk flot billede af DK`s suverænt pæneste “benzinstation”. Ærgerligt vi ikke har flere af dem *',1),\n",
    "    ('Herligt👍🏼 De gode timer, der trods alt er, kommer ikke dårligt tilbage', 1),\n",
    "    ('Lad dem bare. Det er tragisk at de ikke har noget bedre at tage sig til *', 1),\n",
    "    ('Nej, nej, nej...brutal politivold er ikke slut i USA. Det bliver ved...og '\n",
    "     'ved...og ved, så længe ansvarlige politikere både nationalt og lokalt lader den her slags sadisme foregå *', -1),\n",
    "    ('Det er der når en eller anden hacker ens computer så man ingen kontrol har, så bliver man nødt til at nulstille *', -1),\n",
    "    ('Så gerne der blev lagt “bannere” hen over de tomme pladser. En form for tifo etc. Så man i tv ikke ser alle '\n",
    "     'de tomme pladser. Har set det brugt i USA på store stadions og det hjælper på den tomhed man oplever. '\n",
    "     'Allerhelst tilskuere tilbage men går jo nok noget tid *', -1),\n",
    "    ('Endnu et vildt lavpunkt fra Trump, som fuldkommen grundløst bliver ved med at påstå, at kritisk tv-vært '\n",
    "      'og tidligere republikansk kongresmedlem er morder * Prøv et sekund at forestille dig, at Mette F påstod, '\n",
    "      'at Hans Engell var morder. Det er så langt ude. Suk.', -1),\n",
    "    ('De fleste jeg kender og møder har ikke tillid til politiet. Og de har det til fælles, at de engang havde tillid til '\n",
    "     'politiet, men da de skulle bruge politiet blev de svigtet og dermed opstod mistilliden så.', 0),\n",
    "    ('Jeg nikkede, og han kyssede mig i panden og strøg mig over håret. Det var okay. Det var helt okay, det hele'\n",
    "    'Det var ham, der ikke havde passet godt nok pår mig, det var slet ikke min skyld. **', -1),\n",
    "    ('Shit, Torben! Det ser ikke godt ud, det ser slet ikke godt ud! Er det her en løsning?', -1),\n",
    "    ('Udemærket hotel. Små værelser men det ved man jo.. Damen der var var utrolig sød og hjælpsom.'\n",
    "     ' Havde ikke morgenmad med,da jeg syntes det er for dyrt når man ikke spiser så meget.'\n",
    "     ' Kommer gerne igen', 1),\n",
    "    ('En skøn rundtur i den gamle landsby fra 1800 tallet. Fine gamle huse, og nogle steder med arbejdende frivillige. '\n",
    "     'Skønne udskårne dyr i træ i naturlig størrelse og mange levende dyr af gamle racer. Bestemt et besøg værd, også '\n",
    "     'for børnefamilier.', 1),\n",
    "    ('Vi tog en tur til landsbyen men det var en kedelig besøg der var ingen aktivitet og det er ret kedeligt at se '\n",
    "     'gamle huse uden at der er historien med anden en en kort tekst', -1),\n",
    "    ('Have store forventninger til stedet, hvis mad - desværre - ikke levede op til mine forventninger. Det drejede sig '\n",
    "     'om konsistens og tørhed samt mængden af fyld, hvortil personalet (desværre) opførte sig meget uprofessionelt'\n",
    "     'grænsende til arrogant.', -1),\n",
    "    (' Fatter ikke at man kan gå så højt op i dyr mad.', -1),\n",
    "    ('Befriende bog, der stiller sig kritisk mod alle de gængse selvhjælpsbøger, og tager fat i det det virkelig handler om; '\n",
    "     'at være fucking ligeglad med alt det der ikke er i overensstemmelse med vores livs værdier.', 0),\n",
    "    ('Det her er nyt for mig. Det er stærkt bekymrende, at København slår sig op på at være grøn, men smider '\n",
    "     'kloakvand i Øresund. Det er uansvarligt og ulækkert. Og naturligvis findes der andre løsninger, selvom '\n",
    "     'forvaltningen siger de ikke findes.', -1),\n",
    "    ('Nogen der ved hvorfor #netto spammer mig?', -1),\n",
    "    ('hvordan fanden har de overhoved fået penge for at lave kino.dk ?! det er jo håbløst at finde noget som helst!', -1),\n",
    "    ('Det er ikke dårligt tænkt! Det lyder ihvertfald meget nemmere', 1),\n",
    "    ('Et sted på twitter samles voksne mennesker i forsøg på at overgå hinanden i morsomheder på bekostning af en '\n",
    "     'navngiven, kendt person. Jeg forstår det ikke. Og nej, jeg deler det ikke. Det er ikke godt for nogen og '\n",
    "     'vidner om en betændt kultur i en vis branche.', -1), \n",
    "    ('Jeg afblæser streamen i aften fordi jeg føler mig virkelig dårlig.. er svimmel og har det generelt skidt med'\n",
    "     'ingen appetit. Det har været et par gode dage med streamen, men må sgu stå over i dag *',-1),\n",
    "    ('Uha, det lyder skræmmende at skulle undvære de mange daglige fix, men måske skal jeg bare kaste mig ud i det *', 1),\n",
    "    ('Lidt skuffende men jeg tror bare at i skal spille lidt flere kampe sammen så i får en form for flow. Jeg tror på jer drenge *',1),\n",
    "    ('Læs dog hvad der står før du bliver fornærmet. Og vis du er bedre end dem. Det er vel holdet du elsker, ikke fansene?', 0),\n",
    "    \n",
    "]\n",
    "\n",
    "df = pd.DataFrame(data_set, columns=columns)\n",
    "df['sentiment'] = df['sentiment'].map({1:'positive', 0:'neutral', -1:'negative'})"
   ]
  },
  {
   "cell_type": "code",
   "execution_count": null,
   "metadata": {},
   "outputs": [],
   "source": []
  },
  {
   "cell_type": "code",
   "execution_count": 16,
   "metadata": {},
   "outputs": [
    {
     "data": {
      "text/html": [
       "<div>\n",
       "<style scoped>\n",
       "    .dataframe tbody tr th:only-of-type {\n",
       "        vertical-align: middle;\n",
       "    }\n",
       "\n",
       "    .dataframe tbody tr th {\n",
       "        vertical-align: top;\n",
       "    }\n",
       "\n",
       "    .dataframe thead th {\n",
       "        text-align: right;\n",
       "    }\n",
       "</style>\n",
       "<table border=\"1\" class=\"dataframe\">\n",
       "  <thead>\n",
       "    <tr style=\"text-align: right;\">\n",
       "      <th></th>\n",
       "      <th>text</th>\n",
       "      <th>sentiment</th>\n",
       "      <th>afinn_score</th>\n",
       "      <th>hisia_score</th>\n",
       "    </tr>\n",
       "  </thead>\n",
       "  <tbody>\n",
       "    <tr>\n",
       "      <th>0</th>\n",
       "      <td>Lur mig, om præcis det samme ikke også gælder for Danmark. Med andre ord: Det er min skyld, at I er så gode til engelsk, folkens. # [...]</td>\n",
       "      <td>positive</td>\n",
       "      <td>0</td>\n",
       "      <td>(positive, 0.796, 0.204)</td>\n",
       "    </tr>\n",
       "    <tr>\n",
       "      <th>1</th>\n",
       "      <td>Så er jeg klar til min halvårlige ‘gløgg’, hvor jeg inviterer alle mine fb-venner ud af ekkokammeret og hjem til mig. Vi plejer at være ...</td>\n",
       "      <td>positive</td>\n",
       "      <td>3</td>\n",
       "      <td>(positive, 0.804, 0.196)</td>\n",
       "    </tr>\n",
       "    <tr>\n",
       "      <th>2</th>\n",
       "      <td>I går havde bloggen 10 års jubilæum! Tak til alle jer, der kommer med indspark og søde kommentarer: [...] #</td>\n",
       "      <td>positive</td>\n",
       "      <td>4</td>\n",
       "      <td>(positive, 0.756, 0.244)</td>\n",
       "    </tr>\n",
       "    <tr>\n",
       "      <th>3</th>\n",
       "      <td>Vedvarende energi billigere end fossile brændsler inden for ti år, spår FN-rapport #</td>\n",
       "      <td>positive</td>\n",
       "      <td>0</td>\n",
       "      <td>(positive, 0.545, 0.455)</td>\n",
       "    </tr>\n",
       "    <tr>\n",
       "      <th>4</th>\n",
       "      <td>Hvad i alverden skal det gøre godt for? Pouting face #dumt #dyrt</td>\n",
       "      <td>negative</td>\n",
       "      <td>4</td>\n",
       "      <td>(negative, 0.334, 0.666)</td>\n",
       "    </tr>\n",
       "    <tr>\n",
       "      <th>5</th>\n",
       "      <td>Fantastisk flot billede af DK`s suverænt pæneste “benzinstation”. Ærgerligt vi ikke har flere af dem *</td>\n",
       "      <td>positive</td>\n",
       "      <td>5</td>\n",
       "      <td>(positive, 0.905, 0.095)</td>\n",
       "    </tr>\n",
       "    <tr>\n",
       "      <th>6</th>\n",
       "      <td>Herligt👍🏼 De gode timer, der trods alt er, kommer ikke dårligt tilbage</td>\n",
       "      <td>positive</td>\n",
       "      <td>0</td>\n",
       "      <td>(positive, 0.848, 0.152)</td>\n",
       "    </tr>\n",
       "    <tr>\n",
       "      <th>7</th>\n",
       "      <td>Lad dem bare. Det er tragisk at de ikke har noget bedre at tage sig til *</td>\n",
       "      <td>positive</td>\n",
       "      <td>0</td>\n",
       "      <td>(positive, 0.99, 0.01)</td>\n",
       "    </tr>\n",
       "    <tr>\n",
       "      <th>8</th>\n",
       "      <td>Nej, nej, nej...brutal politivold er ikke slut i USA. Det bliver ved...og ved...og ved, så længe ansvarlige politikere både nationalt og...</td>\n",
       "      <td>negative</td>\n",
       "      <td>-3</td>\n",
       "      <td>(negative, 0.459, 0.541)</td>\n",
       "    </tr>\n",
       "    <tr>\n",
       "      <th>9</th>\n",
       "      <td>Det er der når en eller anden hacker ens computer så man ingen kontrol har, så bliver man nødt til at nulstille *</td>\n",
       "      <td>negative</td>\n",
       "      <td>1</td>\n",
       "      <td>(negative, 0.326, 0.674)</td>\n",
       "    </tr>\n",
       "    <tr>\n",
       "      <th>10</th>\n",
       "      <td>Så gerne der blev lagt “bannere” hen over de tomme pladser. En form for tifo etc. Så man i tv ikke ser alle de tomme pladser. Har set de...</td>\n",
       "      <td>negative</td>\n",
       "      <td>1</td>\n",
       "      <td>(negative, 0.054, 0.946)</td>\n",
       "    </tr>\n",
       "    <tr>\n",
       "      <th>11</th>\n",
       "      <td>Endnu et vildt lavpunkt fra Trump, som fuldkommen grundløst bliver ved med at påstå, at kritisk tv-vært og tidligere republikansk kongre...</td>\n",
       "      <td>negative</td>\n",
       "      <td>-8</td>\n",
       "      <td>(negative, 0.053, 0.947)</td>\n",
       "    </tr>\n",
       "    <tr>\n",
       "      <th>12</th>\n",
       "      <td>De fleste jeg kender og møder har ikke tillid til politiet. Og de har det til fælles, at de engang havde tillid til politiet, men da de ...</td>\n",
       "      <td>neutral</td>\n",
       "      <td>2</td>\n",
       "      <td>(positive, 0.687, 0.313)</td>\n",
       "    </tr>\n",
       "    <tr>\n",
       "      <th>13</th>\n",
       "      <td>Jeg nikkede, og han kyssede mig i panden og strøg mig over håret. Det var okay. Det var helt okay, det heleDet var ham, der ikke havde p...</td>\n",
       "      <td>negative</td>\n",
       "      <td>1</td>\n",
       "      <td>(negative, 0.129, 0.871)</td>\n",
       "    </tr>\n",
       "    <tr>\n",
       "      <th>14</th>\n",
       "      <td>Shit, Torben! Det ser ikke godt ud, det ser slet ikke godt ud! Er det her en løsning?</td>\n",
       "      <td>negative</td>\n",
       "      <td>3</td>\n",
       "      <td>(negative, 0.074, 0.926)</td>\n",
       "    </tr>\n",
       "    <tr>\n",
       "      <th>15</th>\n",
       "      <td>Udemærket hotel. Små værelser men det ved man jo.. Damen der var var utrolig sød og hjælpsom. Havde ikke morgenmad med,da jeg syntes det...</td>\n",
       "      <td>positive</td>\n",
       "      <td>8</td>\n",
       "      <td>(positive, 0.608, 0.392)</td>\n",
       "    </tr>\n",
       "    <tr>\n",
       "      <th>16</th>\n",
       "      <td>En skøn rundtur i den gamle landsby fra 1800 tallet. Fine gamle huse, og nogle steder med arbejdende frivillige. Skønne udskårne dyr i t...</td>\n",
       "      <td>positive</td>\n",
       "      <td>9</td>\n",
       "      <td>(positive, 0.552, 0.448)</td>\n",
       "    </tr>\n",
       "    <tr>\n",
       "      <th>17</th>\n",
       "      <td>Vi tog en tur til landsbyen men det var en kedelig besøg der var ingen aktivitet og det er ret kedeligt at se gamle huse uden at der er ...</td>\n",
       "      <td>negative</td>\n",
       "      <td>-5</td>\n",
       "      <td>(negative, 0.064, 0.936)</td>\n",
       "    </tr>\n",
       "    <tr>\n",
       "      <th>18</th>\n",
       "      <td>Have store forventninger til stedet, hvis mad - desværre - ikke levede op til mine forventninger. Det drejede sig om konsistens og tørhe...</td>\n",
       "      <td>negative</td>\n",
       "      <td>-6</td>\n",
       "      <td>(negative, 0.169, 0.831)</td>\n",
       "    </tr>\n",
       "    <tr>\n",
       "      <th>19</th>\n",
       "      <td>Fatter ikke at man kan gå så højt op i dyr mad.</td>\n",
       "      <td>negative</td>\n",
       "      <td>0</td>\n",
       "      <td>(negative, 0.309, 0.691)</td>\n",
       "    </tr>\n",
       "    <tr>\n",
       "      <th>20</th>\n",
       "      <td>Befriende bog, der stiller sig kritisk mod alle de gængse selvhjælpsbøger, og tager fat i det det virkelig handler om; at være fucking l...</td>\n",
       "      <td>neutral</td>\n",
       "      <td>0</td>\n",
       "      <td>(negative, 0.158, 0.842)</td>\n",
       "    </tr>\n",
       "    <tr>\n",
       "      <th>21</th>\n",
       "      <td>Det her er nyt for mig. Det er stærkt bekymrende, at København slår sig op på at være grøn, men smider kloakvand i Øresund. Det er uansv...</td>\n",
       "      <td>negative</td>\n",
       "      <td>-4</td>\n",
       "      <td>(negative, 0.045, 0.955)</td>\n",
       "    </tr>\n",
       "    <tr>\n",
       "      <th>22</th>\n",
       "      <td>Nogen der ved hvorfor #netto spammer mig?</td>\n",
       "      <td>negative</td>\n",
       "      <td>-3</td>\n",
       "      <td>(negative, 0.085, 0.915)</td>\n",
       "    </tr>\n",
       "    <tr>\n",
       "      <th>23</th>\n",
       "      <td>hvordan fanden har de overhoved fået penge for at lave kino.dk ?! det er jo håbløst at finde noget som helst!</td>\n",
       "      <td>negative</td>\n",
       "      <td>-4</td>\n",
       "      <td>(negative, 0.029, 0.971)</td>\n",
       "    </tr>\n",
       "    <tr>\n",
       "      <th>24</th>\n",
       "      <td>Det er ikke dårligt tænkt! Det lyder ihvertfald meget nemmere</td>\n",
       "      <td>positive</td>\n",
       "      <td>-3</td>\n",
       "      <td>(positive, 0.646, 0.354)</td>\n",
       "    </tr>\n",
       "    <tr>\n",
       "      <th>25</th>\n",
       "      <td>Et sted på twitter samles voksne mennesker i forsøg på at overgå hinanden i morsomheder på bekostning af en navngiven, kendt person. Jeg...</td>\n",
       "      <td>negative</td>\n",
       "      <td>0</td>\n",
       "      <td>(negative, 0.047, 0.953)</td>\n",
       "    </tr>\n",
       "    <tr>\n",
       "      <th>26</th>\n",
       "      <td>Jeg afblæser streamen i aften fordi jeg føler mig virkelig dårlig.. er svimmel og har det generelt skidt medingen appetit. Det har været...</td>\n",
       "      <td>negative</td>\n",
       "      <td>-7</td>\n",
       "      <td>(negative, 0.072, 0.928)</td>\n",
       "    </tr>\n",
       "    <tr>\n",
       "      <th>27</th>\n",
       "      <td>Uha, det lyder skræmmende at skulle undvære de mange daglige fix, men måske skal jeg bare kaste mig ud i det *</td>\n",
       "      <td>positive</td>\n",
       "      <td>-2</td>\n",
       "      <td>(negative, 0.329, 0.671)</td>\n",
       "    </tr>\n",
       "    <tr>\n",
       "      <th>28</th>\n",
       "      <td>Lidt skuffende men jeg tror bare at i skal spille lidt flere kampe sammen så i får en form for flow. Jeg tror på jer drenge *</td>\n",
       "      <td>positive</td>\n",
       "      <td>-3</td>\n",
       "      <td>(negative, 0.076, 0.924)</td>\n",
       "    </tr>\n",
       "    <tr>\n",
       "      <th>29</th>\n",
       "      <td>Læs dog hvad der står før du bliver fornærmet. Og vis du er bedre end dem. Det er vel holdet du elsker, ikke fansene?</td>\n",
       "      <td>neutral</td>\n",
       "      <td>2</td>\n",
       "      <td>(negative, 0.171, 0.829)</td>\n",
       "    </tr>\n",
       "  </tbody>\n",
       "</table>\n",
       "</div>"
      ],
      "text/plain": [
       "                                                                                                                                           text  \\\n",
       "0     Lur mig, om præcis det samme ikke også gælder for Danmark. Med andre ord: Det er min skyld, at I er så gode til engelsk, folkens. # [...]   \n",
       "1   Så er jeg klar til min halvårlige ‘gløgg’, hvor jeg inviterer alle mine fb-venner ud af ekkokammeret og hjem til mig. Vi plejer at være ...   \n",
       "2                                   I går havde bloggen 10 års jubilæum! Tak til alle jer, der kommer med indspark og søde kommentarer: [...] #   \n",
       "3                                                          Vedvarende energi billigere end fossile brændsler inden for ti år, spår FN-rapport #   \n",
       "4                                                                              Hvad i alverden skal det gøre godt for? Pouting face #dumt #dyrt   \n",
       "5                                        Fantastisk flot billede af DK`s suverænt pæneste “benzinstation”. Ærgerligt vi ikke har flere af dem *   \n",
       "6                                                                        Herligt👍🏼 De gode timer, der trods alt er, kommer ikke dårligt tilbage   \n",
       "7                                                                     Lad dem bare. Det er tragisk at de ikke har noget bedre at tage sig til *   \n",
       "8   Nej, nej, nej...brutal politivold er ikke slut i USA. Det bliver ved...og ved...og ved, så længe ansvarlige politikere både nationalt og...   \n",
       "9                             Det er der når en eller anden hacker ens computer så man ingen kontrol har, så bliver man nødt til at nulstille *   \n",
       "10  Så gerne der blev lagt “bannere” hen over de tomme pladser. En form for tifo etc. Så man i tv ikke ser alle de tomme pladser. Har set de...   \n",
       "11  Endnu et vildt lavpunkt fra Trump, som fuldkommen grundløst bliver ved med at påstå, at kritisk tv-vært og tidligere republikansk kongre...   \n",
       "12  De fleste jeg kender og møder har ikke tillid til politiet. Og de har det til fælles, at de engang havde tillid til politiet, men da de ...   \n",
       "13  Jeg nikkede, og han kyssede mig i panden og strøg mig over håret. Det var okay. Det var helt okay, det heleDet var ham, der ikke havde p...   \n",
       "14                                                        Shit, Torben! Det ser ikke godt ud, det ser slet ikke godt ud! Er det her en løsning?   \n",
       "15  Udemærket hotel. Små værelser men det ved man jo.. Damen der var var utrolig sød og hjælpsom. Havde ikke morgenmad med,da jeg syntes det...   \n",
       "16  En skøn rundtur i den gamle landsby fra 1800 tallet. Fine gamle huse, og nogle steder med arbejdende frivillige. Skønne udskårne dyr i t...   \n",
       "17  Vi tog en tur til landsbyen men det var en kedelig besøg der var ingen aktivitet og det er ret kedeligt at se gamle huse uden at der er ...   \n",
       "18  Have store forventninger til stedet, hvis mad - desværre - ikke levede op til mine forventninger. Det drejede sig om konsistens og tørhe...   \n",
       "19                                                                                              Fatter ikke at man kan gå så højt op i dyr mad.   \n",
       "20  Befriende bog, der stiller sig kritisk mod alle de gængse selvhjælpsbøger, og tager fat i det det virkelig handler om; at være fucking l...   \n",
       "21  Det her er nyt for mig. Det er stærkt bekymrende, at København slår sig op på at være grøn, men smider kloakvand i Øresund. Det er uansv...   \n",
       "22                                                                                                    Nogen der ved hvorfor #netto spammer mig?   \n",
       "23                                hvordan fanden har de overhoved fået penge for at lave kino.dk ?! det er jo håbløst at finde noget som helst!   \n",
       "24                                                                                Det er ikke dårligt tænkt! Det lyder ihvertfald meget nemmere   \n",
       "25  Et sted på twitter samles voksne mennesker i forsøg på at overgå hinanden i morsomheder på bekostning af en navngiven, kendt person. Jeg...   \n",
       "26  Jeg afblæser streamen i aften fordi jeg føler mig virkelig dårlig.. er svimmel og har det generelt skidt medingen appetit. Det har været...   \n",
       "27                               Uha, det lyder skræmmende at skulle undvære de mange daglige fix, men måske skal jeg bare kaste mig ud i det *   \n",
       "28                Lidt skuffende men jeg tror bare at i skal spille lidt flere kampe sammen så i får en form for flow. Jeg tror på jer drenge *   \n",
       "29                        Læs dog hvad der står før du bliver fornærmet. Og vis du er bedre end dem. Det er vel holdet du elsker, ikke fansene?   \n",
       "\n",
       "   sentiment  afinn_score               hisia_score  \n",
       "0   positive            0  (positive, 0.796, 0.204)  \n",
       "1   positive            3  (positive, 0.804, 0.196)  \n",
       "2   positive            4  (positive, 0.756, 0.244)  \n",
       "3   positive            0  (positive, 0.545, 0.455)  \n",
       "4   negative            4  (negative, 0.334, 0.666)  \n",
       "5   positive            5  (positive, 0.905, 0.095)  \n",
       "6   positive            0  (positive, 0.848, 0.152)  \n",
       "7   positive            0    (positive, 0.99, 0.01)  \n",
       "8   negative           -3  (negative, 0.459, 0.541)  \n",
       "9   negative            1  (negative, 0.326, 0.674)  \n",
       "10  negative            1  (negative, 0.054, 0.946)  \n",
       "11  negative           -8  (negative, 0.053, 0.947)  \n",
       "12   neutral            2  (positive, 0.687, 0.313)  \n",
       "13  negative            1  (negative, 0.129, 0.871)  \n",
       "14  negative            3  (negative, 0.074, 0.926)  \n",
       "15  positive            8  (positive, 0.608, 0.392)  \n",
       "16  positive            9  (positive, 0.552, 0.448)  \n",
       "17  negative           -5  (negative, 0.064, 0.936)  \n",
       "18  negative           -6  (negative, 0.169, 0.831)  \n",
       "19  negative            0  (negative, 0.309, 0.691)  \n",
       "20   neutral            0  (negative, 0.158, 0.842)  \n",
       "21  negative           -4  (negative, 0.045, 0.955)  \n",
       "22  negative           -3  (negative, 0.085, 0.915)  \n",
       "23  negative           -4  (negative, 0.029, 0.971)  \n",
       "24  positive           -3  (positive, 0.646, 0.354)  \n",
       "25  negative            0  (negative, 0.047, 0.953)  \n",
       "26  negative           -7  (negative, 0.072, 0.928)  \n",
       "27  positive           -2  (negative, 0.329, 0.671)  \n",
       "28  positive           -3  (negative, 0.076, 0.924)  \n",
       "29   neutral            2  (negative, 0.171, 0.829)  "
      ]
     },
     "execution_count": 16,
     "metadata": {},
     "output_type": "execute_result"
    }
   ],
   "source": [
    "df['afinn_score'] = df['text'].apply(afinn.score).astype(int)\n",
    "df['hisia_score'] = df['text'].apply(lambda x: Hisia(x).sentiment)\n",
    "pd.set_option('display.max_colwidth', 140)\n",
    "df"
   ]
  }
 ],
 "metadata": {
  "kernelspec": {
   "display_name": "Hisia",
   "language": "python",
   "name": "hisia"
  },
  "language_info": {
   "codemirror_mode": {
    "name": "ipython",
    "version": 3
   },
   "file_extension": ".py",
   "mimetype": "text/x-python",
   "name": "python",
   "nbconvert_exporter": "python",
   "pygments_lexer": "ipython3",
   "version": "3.7.6"
  }
 },
 "nbformat": 4,
 "nbformat_minor": 4
}
