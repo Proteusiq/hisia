{
 "cells": [
  {
   "cell_type": "markdown",
   "metadata": {},
   "source": [
    "## Interactive Model Training \n",
    "Run the cells to reproduce the results\n",
    "\n",
    "### Data and Models Used in Hisia\n",
    "\n",
    "**Data:** 2016 TrustPilot's 254,464 Danish reviews' body and stars and [8 fake reviews]*20 see notes for the explanation.<br>\n",
    "&ensp; _Update_: 2021-10-02: Political Data from [Sentiment Analysis on Comments from Danish Political Articles on Social Media](https://github.com/steffan267/Sentiment-Analysis-on-Danish-Social-Media)\n",
    "\n",
    "**Models**<br>\n",
    "Hisia, _LogisticRegression_ with SAGA, a variant of Stochastic Average Gradient (SAG), as a solver. L2 penalty was select for the base model. Test score **accuracy is ca. 93%** and **recall of 93%**. SAGA is a faster solver for large datasets (both rows and columns wise). As a stochastic gradient, the memory of the previous gradient is incorporated/feed-forward to achieve faster convergence rate. Seeds of 42 was set in data split, and 42 in a model for reproducibility.\n",
    "\n",
    "HisiaTrain, _SGDClassifier_, Stochastic Gradient Descent learner with smooth loss 'modified_huber as loss function and L2 penalty. Test score **accurance  94%** and **recall of 94%**. SGDClassifier was select because of partial_fit. It allows batch/online training.\n",
    "\n",
    "**Note:** This score reflects models in regards to TrustPilot reviews style of writing.<b>\n",
    " >8*10 fake reviews. TrustPilot reviews are directed toward products and services. Words like 'elsker'(love) or 'hader'(hate) are rarely used. To make sure the model learns such a relationship, I added 8 reviews and duplicated them 10 times. These new sentences did not increase or decrease the model accurance but added the correct coefficient of love, hate and (ikke dårligt) not bad."
   ]
  },
  {
   "cell_type": "code",
   "execution_count": 1,
   "metadata": {},
   "outputs": [
    {
     "name": "stdout",
     "output_type": "stream",
     "text": [
      "Author: Author Prayson W. Daniel\n",
      "\n",
      "Last updated: 2022-02-11T12:33:02.742619+01:00\n",
      "\n",
      "Python implementation: CPython\n",
      "Python version       : 3.8.12\n",
      "IPython version      : 8.0.1\n",
      "\n",
      "pandas      : 1.4.0\n",
      "numpy       : 1.22.2\n",
      "matplotlib  : 3.5.1\n",
      "scikit-learn: 1.0.2\n",
      "lemmy       : 2.1.0\n",
      "dill        : 0.3.4\n",
      "\n",
      "Compiler    : GCC 9.3.0\n",
      "OS          : Linux\n",
      "Release     : 5.10.16.3-microsoft-standard-WSL2\n",
      "Machine     : x86_64\n",
      "Processor   : x86_64\n",
      "CPU cores   : 12\n",
      "Architecture: 64bit\n",
      "\n"
     ]
    }
   ],
   "source": [
    "%reload_ext watermark\n",
    "%watermark -uniz --author \"Author Prayson W. Daniel\" -vm -p pandas,numpy,matplotlib,scikit-learn,lemmy,dill"
   ]
  },
  {
   "cell_type": "code",
   "execution_count": 2,
   "metadata": {},
   "outputs": [],
   "source": [
    "from collections import namedtuple\n",
    "import joblib\n",
    "import re\n",
    "from pathlib import Path\n",
    "\n",
    "import dill\n",
    "import lemmy"
   ]
  },
  {
   "cell_type": "code",
   "execution_count": 3,
   "metadata": {},
   "outputs": [],
   "source": [
    "import numpy as np\n",
    "import pandas as pd\n",
    "import matplotlib.pyplot as plt\n",
    "from pathlib import Path\n",
    "from sklearn.feature_extraction.text import CountVectorizer\n",
    "from sklearn.feature_extraction.text import TfidfTransformer\n",
    "from sklearn.feature_selection import chi2\n",
    "from sklearn.feature_selection import SelectKBest\n",
    "from sklearn.model_selection import train_test_split\n",
    "from sklearn.pipeline import Pipeline\n",
    "from sklearn.linear_model import LogisticRegressionCV, SGDClassifier\n",
    "from loguru import logger"
   ]
  },
  {
   "cell_type": "code",
   "execution_count": 4,
   "metadata": {},
   "outputs": [],
   "source": [
    "from helpers import show_diagram\n",
    "from helpers import show_most_informative_features"
   ]
  },
  {
   "cell_type": "code",
   "execution_count": 5,
   "metadata": {},
   "outputs": [],
   "source": [
    "%matplotlib inline\n",
    "plt.rcParams['figure.figsize'] = (15,5)\n",
    "plt.style.use('fivethirtyeight')"
   ]
  },
  {
   "cell_type": "markdown",
   "metadata": {},
   "source": [
    "This stops were custom made from both unknown Danish stops words and products and services related words such as delivery, package, post office."
   ]
  },
  {
   "cell_type": "code",
   "execution_count": 6,
   "metadata": {},
   "outputs": [],
   "source": [
    "PATH_TO_DATA = '../data'\n",
    "PATH_TO_STOPWORDS = '../hisia/models/data'\n",
    "STOP_WORDS = joblib.load(f'{PATH_TO_STOPWORDS}/stops.pkl')"
   ]
  },
  {
   "cell_type": "markdown",
   "metadata": {},
   "source": [
    "The tokenizer separates emojis from the words, removes digits, repetive words and stop words and lemmatize words"
   ]
  },
  {
   "cell_type": "code",
   "execution_count": 7,
   "metadata": {},
   "outputs": [],
   "source": [
    "lemmatizer = lemmy.load('da')\n",
    "\n",
    "\n",
    "# Add more stopwords\n",
    "STOP_WORDS.update({\"kilometer\", \"alme\", \"bank\", \"brand\", \"dansk\", \"presi\"})"
   ]
  },
  {
   "cell_type": "code",
   "execution_count": 8,
   "metadata": {},
   "outputs": [
    {
     "data": {
      "text/plain": [
       "True"
      ]
     },
     "execution_count": 8,
     "metadata": {},
     "output_type": "execute_result"
    }
   ],
   "source": [
    "\"kilometer\" in STOP_WORDS"
   ]
  },
  {
   "cell_type": "code",
   "execution_count": 9,
   "metadata": {},
   "outputs": [],
   "source": [
    "def tokenizer(blob, stop_words=STOP_WORDS, remove_digits=True):\n",
    "    \n",
    "    if stop_words is None:\n",
    "        stop_words = {}\n",
    "    \n",
    "    blob = blob.lower()\n",
    "    \n",
    "     # eyes [nose] mouth | mouth [nose] eyes pattern\n",
    "    emoticons = r\"(?:[<>]?[:;=8][\\-o\\*\\']?[\\)\\]\\(\\[dDpP/\\:\\}\\{@\\|\\\\]|[\\)\\]\\(\\[dDpP/\\:\\}\\{@\\|\\\\][\\-o\\*\\']?[:;=8][<>]?)\"\n",
    "    emoticon_re = re.compile(emoticons, re.VERBOSE | re.I | re.UNICODE)\n",
    "    \n",
    "    text = re.sub(r'[\\W]+', ' ', blob)\n",
    "    \n",
    "    # remove 3+ repetitive characters i.e. hellllo -> hello, jaaaa -> jaa \n",
    "    repetitions = re.compile(r'(.)\\1{2,}')\n",
    "    text = repetitions.sub(r'\\1\\1', text)\n",
    "    \n",
    "    # remove 2+ repetitive words e.g. hej hej hej -> hej\n",
    "    \n",
    "    repetitions = re.compile(r'\\b(\\w+)\\s+(\\1\\s*)+\\b')\n",
    "    text = repetitions.sub(r'\\1 ', text)\n",
    "    \n",
    "    \n",
    "    # 14år --> 14 år\n",
    "    text = re.sub(r'([0-9]+(\\.[0-9]+)?)', r' \\1 ', text).strip()\n",
    "    \n",
    "    emoji = ''.join(re.findall(emoticon_re, blob))\n",
    "    \n",
    "       \n",
    "    # remove stopwords\n",
    "    text_nostop = [word for word in text.split() if word not in stop_words]\n",
    "    \n",
    "    # tokenization lemmatize\n",
    "    lemmatized_text = [lemmatizer.lemmatize('', word)[-1]  \n",
    "                                 for word in text_nostop]\n",
    "    \n",
    "    remove_stopwords = ' '.join(word for word in lemmatized_text if len(word)>1)\n",
    "    \n",
    "    if remove_digits:\n",
    "        remove_stopwords = re.sub(r'\\b\\d+\\b', '', remove_stopwords)\n",
    "    \n",
    "\n",
    "    # remove extra spaces\n",
    "    remove_stopwords = ' '.join(remove_stopwords .split())\n",
    "    result = f'{remove_stopwords} {emoji}'.encode('utf-8').decode('utf-8')\n",
    "       \n",
    "    \n",
    "    return result.split()"
   ]
  },
  {
   "cell_type": "code",
   "execution_count": 10,
   "metadata": {},
   "outputs": [
    {
     "data": {
      "text/plain": [
       "['vred', 'ikke', ':(']"
      ]
     },
     "execution_count": 10,
     "metadata": {},
     "output_type": "execute_result"
    }
   ],
   "source": [
    "tokenizer('Jeg er vred på, at jeg ikke fik min pakke :( kilometer')"
   ]
  },
  {
   "cell_type": "code",
   "execution_count": 11,
   "metadata": {},
   "outputs": [],
   "source": [
    "df = pd.read_json(f'{PATH_TO_DATA}/data.json')"
   ]
  },
  {
   "cell_type": "markdown",
   "metadata": {},
   "source": [
    "Fake reviews to teach our model the missing relationsh that is not found in TP reviews"
   ]
  },
  {
   "cell_type": "code",
   "execution_count": 12,
   "metadata": {},
   "outputs": [],
   "source": [
    "dt = pd.DataFrame([('men elsker elsker', 1,5), \n",
    "                   ('elsker det ikke', 0, 1), \n",
    "                   ('ikke dårligt', 1, 5),\n",
    "                   ('elsker skat, kæreste, tilbedte, dyrebare, elskling, darling, hjerte, hjertenskær; ven; veninde', 1, 5),\n",
    "                   ('dårlig: syg, sløj, utilpas, ilde tilpas, upasselig, snavs, indisponeret;'\n",
    "                    'sygelig, usund, ond, slet; arg, uheldig, umulig, elendig, under al kritik,'\n",
    "                    'dødssyg, skidt, skral, krank, ussel, ikke noget at samle på, talentløs, uantagelig,'\n",
    "                    'uacceptabel, forkastelig; ikke noget at råbe hurra for, ikke noget at skrive hjem om,'\n",
    "                    'noget skidt (lort, pis), andenklasses, tredjeklasses (osv.), ringe, halvgod, ikke nogen'\n",
    "                    'ørn til, ikke ens stærke side, ens svage punkt, som en brækket arm; sjusket; ufordelagtig,'\n",
    "                    'ufyldestgørende, utilstrækkelig, utilfredsstillende, middelmådig, under lavmålet, uduelig,'\n",
    "                    'udygtig, uhensigtsmæssig, forkert, tarvelig; skadelig, ødelæggende, fordærvet, ubrugelig;'\n",
    "                    'ubehagelig, væmmelig, ulystbetonet; dys-; utiltalende, usympatisk, kedelig', 0, 1),\n",
    "                    ('20.000 kroner. Det er, hvad man som arbejdstager burde få ekstra i lønningsposen,'\n",
    "                    ' hvis man skal kunne acceptere at have en dårlig chef.', 0,1),\n",
    "                   ('kærlighed, hvordan elsker vi hinanden godt – uanset hvem vi elsker?',1,5),\n",
    "                   ('jeg hader dig', 0, 1),\n",
    "                   \n",
    "                  ]*20, \n",
    "                  columns='features target stars'.split())"
   ]
  },
  {
   "cell_type": "markdown",
   "metadata": {},
   "source": [
    "New data from [\"Sentiment Analysis on Comments from Danish Political Articles on Social Media\"](https://github.com/lucaspuvis/SAM/blob/master/Thesis.pdf)"
   ]
  },
  {
   "cell_type": "code",
   "execution_count": 13,
   "metadata": {},
   "outputs": [],
   "source": [
    "SAM = \"https://raw.githubusercontent.com/steffan267/Sentiment-Analysis-on-Danish-Social-Media/master/all_sentences.csv\"\n",
    "ds = pd.read_csv(SAM, names=[\"target\", \"features\"])"
   ]
  },
  {
   "cell_type": "code",
   "execution_count": 14,
   "metadata": {},
   "outputs": [
    {
     "data": {
      "text/plain": [
       " 0    4087\n",
       "-1    2610\n",
       " 1    1007\n",
       "-2     862\n",
       " 2     442\n",
       "Name: target, dtype: int64"
      ]
     },
     "execution_count": 14,
     "metadata": {},
     "output_type": "execute_result"
    }
   ],
   "source": [
    "ds['target'].value_counts()"
   ]
  },
  {
   "cell_type": "code",
   "execution_count": 15,
   "metadata": {},
   "outputs": [],
   "source": [
    "ds.to_json(\"../data/steffan267_SAM.json\")"
   ]
  },
  {
   "cell_type": "code",
   "execution_count": 16,
   "metadata": {},
   "outputs": [
    {
     "data": {
      "text/html": [
       "<div>\n",
       "<style scoped>\n",
       "    .dataframe tbody tr th:only-of-type {\n",
       "        vertical-align: middle;\n",
       "    }\n",
       "\n",
       "    .dataframe tbody tr th {\n",
       "        vertical-align: top;\n",
       "    }\n",
       "\n",
       "    .dataframe thead th {\n",
       "        text-align: right;\n",
       "    }\n",
       "</style>\n",
       "<table border=\"1\" class=\"dataframe\">\n",
       "  <thead>\n",
       "    <tr style=\"text-align: right;\">\n",
       "      <th></th>\n",
       "      <th>observations</th>\n",
       "    </tr>\n",
       "    <tr>\n",
       "      <th>target</th>\n",
       "      <th></th>\n",
       "    </tr>\n",
       "  </thead>\n",
       "  <tbody>\n",
       "    <tr>\n",
       "      <th>negative</th>\n",
       "      <td>3472</td>\n",
       "    </tr>\n",
       "    <tr>\n",
       "      <th>positive</th>\n",
       "      <td>1449</td>\n",
       "    </tr>\n",
       "  </tbody>\n",
       "</table>\n",
       "</div>"
      ],
      "text/plain": [
       "          observations\n",
       "target                \n",
       "negative          3472\n",
       "positive          1449"
      ]
     },
     "execution_count": 16,
     "metadata": {},
     "output_type": "execute_result"
    }
   ],
   "source": [
    "(\n",
    "    ds\n",
    "      .loc[lambda d: d['target'].ne(0), [\"target\", ]]\n",
    "      .assign(target= lambda d: np.where(d[\"target\"].gt(0), 1, 0))\n",
    "      .value_counts()\n",
    "      .rename(index ={0: \"negative\", 1:\"positive\"})\n",
    "      .to_frame(name=\"observations\")    \n",
    ")\n",
    "\n",
    "\n",
    "  "
   ]
  },
  {
   "cell_type": "code",
   "execution_count": 17,
   "metadata": {},
   "outputs": [],
   "source": [
    "ds = (\n",
    "    ds\n",
    "      .loc[lambda d: d[\"target\"].ne(0), [\"features\", \"target\"]]\n",
    "      .assign(target= lambda d: np.where(d[\"target\"].gt(0), 1, 0))\n",
    "       \n",
    ")\n",
    "  "
   ]
  },
  {
   "cell_type": "code",
   "execution_count": 18,
   "metadata": {},
   "outputs": [],
   "source": [
    "dt = pd.concat([dt, ds], ignore_index=True)"
   ]
  },
  {
   "cell_type": "code",
   "execution_count": 19,
   "metadata": {},
   "outputs": [],
   "source": [
    "# dt.to_json('../data/data_custom.json')"
   ]
  },
  {
   "cell_type": "code",
   "execution_count": 20,
   "metadata": {},
   "outputs": [],
   "source": [
    "X_train, X_test, y_train, y_test = train_test_split(df['features'], \n",
    "                                                     df['target'],\n",
    "                                                     test_size=.2,\n",
    "                                                     random_state=42,\n",
    "                                                     stratify=df['target'])"
   ]
  },
  {
   "cell_type": "code",
   "execution_count": 21,
   "metadata": {},
   "outputs": [],
   "source": [
    "X_train, y_train = (pd.concat([X_train, dt['features']] ,ignore_index=True),\n",
    "                    pd.concat([y_train, dt['target']] ,ignore_index=True)\n",
    ")"
   ]
  },
  {
   "cell_type": "code",
   "execution_count": 22,
   "metadata": {},
   "outputs": [
    {
     "name": "stdout",
     "output_type": "stream",
     "text": [
      "Traing Size: 208652\n",
      "Test Size:    50893\n",
      "\n",
      "Traing Size\n",
      "\tPositive||Negative Samples\n",
      "\t  103315||105337\n",
      "\n",
      "Test Size\n",
      "\tPositive||Negative Samples\n",
      "\t  25446||25447\n"
     ]
    }
   ],
   "source": [
    "print(f'Traing Size: {X_train.shape[0]}\\nTest Size: {X_test.shape[0]:>8}')\n",
    "print(f'\\nTraing Size\\n\\tPositive||Negative Samples\\n\\t  {y_train[y_train==1].shape[0]}||{y_train[y_train==0].shape[0]}')\n",
    "print(f'\\nTest Size\\n\\tPositive||Negative Samples\\n\\t  {y_test[y_test==1].shape[0]}||{y_test[y_test==0].shape[0]}')"
   ]
  },
  {
   "cell_type": "code",
   "execution_count": 23,
   "metadata": {},
   "outputs": [],
   "source": [
    "hisia = Pipeline(steps =[\n",
    "        ('count_verctorizer',  CountVectorizer(ngram_range=(1, 2), \n",
    "                                 max_features=150000,\n",
    "                                 tokenizer=tokenizer, \n",
    "                                 stop_words=STOP_WORDS\n",
    "                                )\n",
    "        ),\n",
    "        ('feature_selector', SelectKBest(chi2, k=10000)),\n",
    "        ('tfidf', TfidfTransformer(sublinear_tf=True)),\n",
    "        ('logistic_regression', LogisticRegressionCV(cv=5,\n",
    "                                                    solver='saga',\n",
    "                                                    scoring='accuracy',\n",
    "                                                    max_iter=200,\n",
    "                                                    n_jobs=-1,\n",
    "                                                    random_state=42,\n",
    "                                                    verbose=0))\n",
    "])"
   ]
  },
  {
   "cell_type": "code",
   "execution_count": 24,
   "metadata": {
    "collapsed": true,
    "jupyter": {
     "outputs_hidden": true
    },
    "tags": []
   },
   "outputs": [
    {
     "name": "stderr",
     "output_type": "stream",
     "text": [
      "/home/pwd/.cache/pypoetry/virtualenvs/hisia-0TdsdPxg-py3.8/lib/python3.8/site-packages/sklearn/linear_model/_sag.py:352: ConvergenceWarning: The max_iter was reached which means the coef_ did not converge\n",
      "  warnings.warn(\n",
      "/home/pwd/.cache/pypoetry/virtualenvs/hisia-0TdsdPxg-py3.8/lib/python3.8/site-packages/sklearn/linear_model/_sag.py:352: ConvergenceWarning: The max_iter was reached which means the coef_ did not converge\n",
      "  warnings.warn(\n",
      "/home/pwd/.cache/pypoetry/virtualenvs/hisia-0TdsdPxg-py3.8/lib/python3.8/site-packages/sklearn/linear_model/_sag.py:352: ConvergenceWarning: The max_iter was reached which means the coef_ did not converge\n",
      "  warnings.warn(\n",
      "/home/pwd/.cache/pypoetry/virtualenvs/hisia-0TdsdPxg-py3.8/lib/python3.8/site-packages/sklearn/linear_model/_sag.py:352: ConvergenceWarning: The max_iter was reached which means the coef_ did not converge\n",
      "  warnings.warn(\n",
      "/home/pwd/.cache/pypoetry/virtualenvs/hisia-0TdsdPxg-py3.8/lib/python3.8/site-packages/sklearn/linear_model/_sag.py:352: ConvergenceWarning: The max_iter was reached which means the coef_ did not converge\n",
      "  warnings.warn(\n",
      "/home/pwd/.cache/pypoetry/virtualenvs/hisia-0TdsdPxg-py3.8/lib/python3.8/site-packages/sklearn/linear_model/_sag.py:352: ConvergenceWarning: The max_iter was reached which means the coef_ did not converge\n",
      "  warnings.warn(\n",
      "/home/pwd/.cache/pypoetry/virtualenvs/hisia-0TdsdPxg-py3.8/lib/python3.8/site-packages/sklearn/linear_model/_sag.py:352: ConvergenceWarning: The max_iter was reached which means the coef_ did not converge\n",
      "  warnings.warn(\n",
      "/home/pwd/.cache/pypoetry/virtualenvs/hisia-0TdsdPxg-py3.8/lib/python3.8/site-packages/sklearn/linear_model/_sag.py:352: ConvergenceWarning: The max_iter was reached which means the coef_ did not converge\n",
      "  warnings.warn(\n",
      "/home/pwd/.cache/pypoetry/virtualenvs/hisia-0TdsdPxg-py3.8/lib/python3.8/site-packages/sklearn/linear_model/_sag.py:352: ConvergenceWarning: The max_iter was reached which means the coef_ did not converge\n",
      "  warnings.warn(\n",
      "/home/pwd/.cache/pypoetry/virtualenvs/hisia-0TdsdPxg-py3.8/lib/python3.8/site-packages/sklearn/linear_model/_sag.py:352: ConvergenceWarning: The max_iter was reached which means the coef_ did not converge\n",
      "  warnings.warn(\n",
      "/home/pwd/.cache/pypoetry/virtualenvs/hisia-0TdsdPxg-py3.8/lib/python3.8/site-packages/sklearn/linear_model/_sag.py:352: ConvergenceWarning: The max_iter was reached which means the coef_ did not converge\n",
      "  warnings.warn(\n",
      "/home/pwd/.cache/pypoetry/virtualenvs/hisia-0TdsdPxg-py3.8/lib/python3.8/site-packages/sklearn/linear_model/_sag.py:352: ConvergenceWarning: The max_iter was reached which means the coef_ did not converge\n",
      "  warnings.warn(\n",
      "/home/pwd/.cache/pypoetry/virtualenvs/hisia-0TdsdPxg-py3.8/lib/python3.8/site-packages/sklearn/linear_model/_sag.py:352: ConvergenceWarning: The max_iter was reached which means the coef_ did not converge\n",
      "  warnings.warn(\n",
      "/home/pwd/.cache/pypoetry/virtualenvs/hisia-0TdsdPxg-py3.8/lib/python3.8/site-packages/sklearn/linear_model/_sag.py:352: ConvergenceWarning: The max_iter was reached which means the coef_ did not converge\n",
      "  warnings.warn(\n",
      "/home/pwd/.cache/pypoetry/virtualenvs/hisia-0TdsdPxg-py3.8/lib/python3.8/site-packages/sklearn/linear_model/_sag.py:352: ConvergenceWarning: The max_iter was reached which means the coef_ did not converge\n",
      "  warnings.warn(\n"
     ]
    },
    {
     "name": "stdout",
     "output_type": "stream",
     "text": [
      "CPU times: user 8min 40s, sys: 938 ms, total: 8min 41s\n",
      "Wall time: 2min 20s\n"
     ]
    },
    {
     "data": {
      "text/plain": [
       "Pipeline(steps=[('count_verctorizer',\n",
       "                 CountVectorizer(max_features=150000, ngram_range=(1, 2),\n",
       "                                 stop_words={'ad', 'af', 'alle', 'alm brand',\n",
       "                                             'alme', 'alt', 'anden', 'andet',\n",
       "                                             'andre', 'at', 'bank', 'bare',\n",
       "                                             'begge', 'besked', 'bestil',\n",
       "                                             'bestild', 'bestilde', 'bestilden',\n",
       "                                             'bestilder', 'bestildt',\n",
       "                                             'bestildte', 'bestile',\n",
       "                                             'bestilede', 'bestiler',\n",
       "                                             'bestilet', 'bestilg', 'bestilge',\n",
       "                                             'bestiling', 'bestilingen',\n",
       "                                             'bestilinger', ...},\n",
       "                                 tokenizer=<function tokenizer at 0x7f10d8012a60>)),\n",
       "                ('feature_selector',\n",
       "                 SelectKBest(k=10000,\n",
       "                             score_func=<function chi2 at 0x7f10f4a3bee0>)),\n",
       "                ('tfidf', TfidfTransformer(sublinear_tf=True)),\n",
       "                ('logistic_regression',\n",
       "                 LogisticRegressionCV(cv=5, max_iter=200, n_jobs=-1,\n",
       "                                      random_state=42, scoring='accuracy',\n",
       "                                      solver='saga'))])"
      ]
     },
     "execution_count": 24,
     "metadata": {},
     "output_type": "execute_result"
    }
   ],
   "source": [
    "%%time\n",
    "hisia.fit(X_train, y_train)"
   ]
  },
  {
   "cell_type": "code",
   "execution_count": 25,
   "metadata": {},
   "outputs": [
    {
     "data": {
      "text/plain": [
       "0.9388521014677853"
      ]
     },
     "execution_count": 25,
     "metadata": {},
     "output_type": "execute_result"
    }
   ],
   "source": [
    "hisia.score(X_test, y_test)"
   ]
  },
  {
   "cell_type": "code",
   "execution_count": 26,
   "metadata": {},
   "outputs": [
    {
     "name": "stdout",
     "output_type": "stream",
     "text": [
      "Classification Report\n",
      "\t _____________________________________________\n",
      "              precision    recall  f1-score   support\n",
      "\n",
      "    Negative       0.93      0.95      0.94     25447\n",
      "    Positive       0.95      0.93      0.94     25446\n",
      "\n",
      "    accuracy                           0.94     50893\n",
      "   macro avg       0.94      0.94      0.94     50893\n",
      "weighted avg       0.94      0.94      0.94     50893\n",
      "\n",
      "\t _____________________________________________ \n",
      "\n",
      "\n"
     ]
    },
    {
     "data": {
      "image/png": "[encoded data removed]",
      "text/plain": [
       "<Figure size 720x360 with 1 Axes>"
      ]
     },
     "metadata": {},
     "output_type": "display_data"
    },
    {
     "data": {
      "text/plain": [
       "<Figure size 1080x360 with 0 Axes>"
      ]
     },
     "metadata": {},
     "output_type": "display_data"
    }
   ],
   "source": [
    "show_diagram(hisia, X_train, y_train, X_test, y_test, compare_test=True)"
   ]
  },
  {
   "cell_type": "code",
   "execution_count": 27,
   "metadata": {},
   "outputs": [],
   "source": [
    "feature_names = hisia.named_steps['count_verctorizer'].get_feature_names_out()\n",
    "best_features = [feature_names[i] for i in hisia.named_steps['feature_selector'].get_support(indices=True)]\n",
    "predictor =  hisia.named_steps['logistic_regression']"
   ]
  },
  {
   "cell_type": "code",
   "execution_count": 28,
   "metadata": {},
   "outputs": [
    {
     "name": "stdout",
     "output_type": "stream",
     "text": [
      "Showing 100 models learned features for negative and postive decisions\n",
      "______________________________________________________________________\n",
      "\n",
      "\n",
      "\t-9.7399\tikke orden     \t\t8.8074\tperfekt        \n",
      "\t-9.0652\tuacceptabel    \t\t8.1378\tsuper          \n",
      "\t-8.9101\tdårlig         \t\t7.9286\tingen problem  \n",
      "\t-7.3848\telendig        \t\t7.9122\tgod            \n",
      "\t-6.5459\tikke anbefale  \t\t7.6999\taldrig problem \n",
      "\t-6.4484\tikke god       \t\t7.5365\tfin            \n",
      "\t-6.2361\tikke modtage   \t\t7.3456\tnem            \n",
      "\t-6.0789\tikke iorden    \t\t7.3047\thurtig         \n",
      "\t-5.9284\tstadig ikke    \t\t6.9515\t:-)            \n",
      "\t-5.8047\tikke tilfreds  \t\t6.8843\ttilfreds       \n",
      "\t-5.7674\tøv             \t\t6.8657\tdejlig         \n",
      "\t-5.7114\tforkert        \t\t6.7212\tsidste stjerne \n",
      "\t-5.5377\tumulig         \t\t6.4038\thurtigt        \n",
      "\t-5.4808\tingen hjælpe   \t\t6.3037\tfantastisk     \n",
      "\t-5.4057\tpåstå          \t\t6.0945\tfremragende    \n",
      "\t-5.3715\topsige         \t\t6.0511\tingen klage    \n",
      "\t-5.2554\ttrætte         \t\t5.6227\tvarm anbefale  \n",
      "\t-5.2358\tingen måde     \t\t5.5528\tsætte finger   \n",
      "\t-5.1651\tdistributionscenter\t\t5.5398\t:)             \n",
      "\t-5.1484\tutilfredsstillende\t\t5.4695\tuden problem   \n",
      "\t-5.1288\t:-(            \t\t5.3846\tproblemfri     \n",
      "\t-5.1164\tvække          \t\t5.1269\tikke dårlig    \n",
      "\t-5.1142\tlangsom        \t\t4.8805\tvenlig         \n",
      "\t-5.0889\tikke overholde \t\t4.8395\tikke bedre     \n",
      "\t-5.0752\tgrin           \t\t4.8369\teffektiv       \n",
      "\t-5.0491\tsmide          \t\t4.7715\tsmertefri      \n",
      "\t-5.0128\tværst          \t\t4.5867\tlynhurtig      \n",
      "\t-4.9755\tforsøge        \t\t4.5799\tle             \n",
      "\t-4.9629\tlatterlig      \t\t4.5753\tbehagelig      \n",
      "\t-4.9286\tødelægge       \t\t4.5230\tpositiv oplevelse\n",
      "\t-4.9188\tinkompetent    \t\t4.4480\tglimrende      \n",
      "\t-4.9005\tsmadre         \t\t4.4246\thjælpsom       \n",
      "\t-4.8996\tikke acceptabel\t\t4.4090\t;)             \n",
      "\t-4.8856\tligeglad       \t\t4.4073\tkanon          \n",
      "\t-4.8098\tnægte          \t\t4.4038\tsmile          \n",
      "\t-4.7779\tubehøvlet      \t\t4.3511\tfin behandling \n",
      "\t-4.6991\tikke hjælpe    \t\t4.3181\t:d             \n",
      "\t-4.6957\tingen god      \t\t4.3174\tpositiv overraske\n",
      "\t-4.6917\tuprofessionel  \t\t4.2978\tskrive forkert \n",
      "\t-4.6852\tuge            \t\t4.2016\tminus          \n",
      "\t-4.6843\tførst          \t\t4.1443\tug             \n",
      "\t-4.6583\tgod nok        \t\t4.1433\t:):)           \n",
      "\t-4.6193\tgl             \t\t4.1382\tupåklagelig    \n",
      "\t-4.6121\tgentagen       \t\t4.0806\tuproblematisk  \n",
      "\t-4.5537\tikke aftalt    \t\t4.0436\ttop            \n",
      "\t-4.5052\tingen meddelelse\t\t4.0299\tudmærket       \n",
      "\t-4.4973\tingen hørt     \t\t4.0194\tprofessionel   \n",
      "\t-4.4921\tommer          \t\t4.0132\tingen ventetid \n",
      "\t-4.4699\tikke imponere  \t\t3.9944\tfinger sætte   \n",
      "\t-4.4683\tsærlig god     \t\t3.9733\torden          \n",
      "\t-4.4550\tflabet         \t\t3.9702\tonfon          \n",
      "\t-4.4487\tspilde         \t\t3.9648\t;-)            \n",
      "\t-4.4173\trykke          \t\t3.9449\tingen kø       \n",
      "\t-4.4081\tal kritik      \t\t3.9226\tsupergod       \n",
      "\t-4.4054\tføje           \t\t3.9179\ttakke god      \n",
      "\t-4.3954\tikke stol      \t\t3.9041\tingen udsætte  \n",
      "\t-4.3877\tingen information\t\t3.8763\tklar anbefale  \n",
      "\t-4.3790\tikke ok        \t\t3.8664\ttusind takke   \n",
      "\t-4.3643\t:(             \t\t3.8612\tikke klage     \n",
      "\t-4.3595\tuforskammet    \t\t3.8491\tkompetent      \n",
      "\t-4.3570\tskod           \t\t3.6970\therlig         \n",
      "\t-4.3500\tforsvinde      \t\t3.6259\tuden skade     \n",
      "\t-4.3435\tikke styr      \t\t3.6056\tros            \n",
      "\t-4.3285\tgod forstå     \t\t3.5751\tikke nemmere   \n",
      "\t-4.3218\tlort           \t\t3.5538\tfuld tilfredsstille\n",
      "\t-4.2746\turimelig       \t\t3.5489\tingen bemærke  \n",
      "\t-4.2342\taldrig plads   \t\t3.5434\tvelforberedt   \n",
      "\t-4.2172\tuseriøs        \t\t3.5284\tingen bøvle    \n",
      "\t-4.2053\tikke dække     \t\t3.5192\tfungere        \n",
      "\t-4.1967\tstadig ingen   \t\t3.4805\talletiders     \n",
      "\t-4.1568\trigtig dårlig  \t\t3.4632\tthumb          \n",
      "\t-4.1341\tikke tilfredsstille\t\t3.4532\tstraks         \n",
      "\t-4.1292\tarrogant       \t\t3.4526\tikke lang      \n",
      "\t-4.1259\tafvise         \t\t3.4345\ttid            \n",
      "\t-4.0791\taflevere forkert\t\t3.3979\tanbefale virksomhed\n",
      "\t-4.0790\thåbløs         \t\t3.3563\tgerne igen     \n",
      "\t-4.0774\tforsinke       \t\t3.3291\tingen negativ  \n",
      "\t-4.0610\tikke behandle  \t\t3.3151\toverskuelig    \n",
      "\t-4.0527\tløgn           \t\t3.3148\tselvom ikke    \n",
      "\t-4.0473\tlang tid       \t\t3.3083\tingen bemærkning\n",
      "\t-4.0455\tsur            \t\t3.2877\tleve forventning\n",
      "\t-4.0375\tvirke ikke     \t\t3.2773\tgå smøre       \n",
      "\t-4.0303\tbetale ekstra  \t\t3.2653\tordne          \n",
      "\t-4.0173\tpludselig      \t\t3.2607\tsuperhurtig    \n",
      "\t-3.9641\tlangtid        \t\t3.2599\tsmule          \n",
      "\t-3.9543\tbøje           \t\t3.2088\trar            \n",
      "\t-3.9495\tmåtte          \t\t3.1867\tthumb up       \n",
      "\t-3.9420\tikke tid       \t\t3.1412\tikke problem   \n",
      "\t-3.9265\tspild          \t\t3.1401\taldrig opleve  \n",
      "\t-3.9198\tannullere      \t\t3.1066\tproblem overhoved\n",
      "\t-3.8995\tsørgelig       \t\t3.1055\t:o)            \n",
      "\t-3.8862\tutroværdig     \t\t3.0646\tgod information\n",
      "\t-3.8530\tbetale         \t\t3.0291\thel vej        \n",
      "\t-3.8481\tlangsommelig   \t\t3.0093\tmindre timer   \n",
      "\t-3.8353\ttilfældig      \t\t2.9915\tikke opleve    \n",
      "\t-3.8350\tingen ske      \t\t2.9763\ttak            \n",
      "\t-3.8260\tkursus         \t\t2.9575\tvirkelig god   \n",
      "\t-3.8212\tholder ikke    \t\t2.9500\tskønt          \n",
      "\t-3.8190\tstop           \t\t2.9470\tpræcis         \n",
      "\t-3.8130\tbondefangeri   \t\t2.8876\tstarte slutte  \n"
     ]
    }
   ],
   "source": [
    "N = 100\n",
    "print(f'Showing {N} models learned features for negative and postive decisions')\n",
    "print('_'*70)\n",
    "print('\\n')\n",
    "show_most_informative_features(best_features, predictor, n=N)"
   ]
  },
  {
   "cell_type": "code",
   "execution_count": 29,
   "metadata": {},
   "outputs": [
    {
     "data": {
      "text/plain": [
       "array([[0.92157517, 0.07842483]])"
      ]
     },
     "execution_count": 29,
     "metadata": {},
     "output_type": "execute_result"
    }
   ],
   "source": [
    "# [negative, positive] probability\n",
    "hisia.predict_proba(['det er ikke okay!'])"
   ]
  },
  {
   "cell_type": "code",
   "execution_count": 30,
   "metadata": {},
   "outputs": [
    {
     "data": {
      "text/plain": [
       "array([[0.31562255, 0.68437745]])"
      ]
     },
     "execution_count": 30,
     "metadata": {},
     "output_type": "execute_result"
    }
   ],
   "source": [
    "hisia.predict_proba(['det er ikke dårligt!'])"
   ]
  },
  {
   "cell_type": "code",
   "execution_count": 31,
   "metadata": {},
   "outputs": [
    {
     "data": {
      "text/plain": [
       "(array([[0.30794862, 0.69205138]]),\n",
       " array([[0.92157517, 0.07842483]]),\n",
       " array([[0.14457541, 0.85542459]]),\n",
       " array([[0.69046507, 0.30953493]]))"
      ]
     },
     "execution_count": 31,
     "metadata": {},
     "output_type": "execute_result"
    }
   ],
   "source": [
    "(hisia.predict_proba(['jeg kan lide det!']), \n",
    " hisia.predict_proba(['jeg kan ikke lide det!']),\n",
    " hisia.predict_proba(['jeg elsker det!']),\n",
    " hisia.predict_proba(['jeg elsker det slet ikke!'])\n",
    ")"
   ]
  },
  {
   "cell_type": "code",
   "execution_count": 32,
   "metadata": {},
   "outputs": [],
   "source": [
    "mad_max = ['Jeg er vred på, at jeg ikke fik min pakke :( elsker']"
   ]
  },
  {
   "cell_type": "code",
   "execution_count": 33,
   "metadata": {},
   "outputs": [
    {
     "data": {
      "text/plain": [
       "42"
      ]
     },
     "execution_count": 33,
     "metadata": {},
     "output_type": "execute_result"
    }
   ],
   "source": [
    "hisia.named_steps['logistic_regression'].random_state"
   ]
  },
  {
   "cell_type": "code",
   "execution_count": 34,
   "metadata": {},
   "outputs": [
    {
     "data": {
      "text/plain": [
       "array([[0.30794862, 0.69205138]])"
      ]
     },
     "execution_count": 34,
     "metadata": {},
     "output_type": "execute_result"
    }
   ],
   "source": [
    "hisia.predict_proba(['']) # model is positive :)"
   ]
  },
  {
   "cell_type": "code",
   "execution_count": 35,
   "metadata": {},
   "outputs": [
    {
     "data": {
      "text/plain": [
       "array([0])"
      ]
     },
     "execution_count": 35,
     "metadata": {},
     "output_type": "execute_result"
    }
   ],
   "source": [
    "hisia.predict(mad_max)"
   ]
  },
  {
   "cell_type": "code",
   "execution_count": 36,
   "metadata": {},
   "outputs": [
    {
     "data": {
      "text/plain": [
       "array([[0.93994632, 0.06005368]])"
      ]
     },
     "execution_count": 36,
     "metadata": {},
     "output_type": "execute_result"
    }
   ],
   "source": [
    "res = hisia.predict_proba(mad_max)\n",
    "res"
   ]
  },
  {
   "cell_type": "code",
   "execution_count": 37,
   "metadata": {},
   "outputs": [
    {
     "data": {
      "text/plain": [
       "array([-2.75058403])"
      ]
     },
     "execution_count": 37,
     "metadata": {},
     "output_type": "execute_result"
    }
   ],
   "source": [
    "hisia.decision_function(mad_max)"
   ]
  },
  {
   "cell_type": "code",
   "execution_count": 38,
   "metadata": {},
   "outputs": [],
   "source": [
    "v = hisia.named_steps['count_verctorizer'].transform(mad_max)\n",
    "v = hisia.named_steps['feature_selector'].transform(v)\n",
    "v = pd.DataFrame.sparse.from_spmatrix(v)"
   ]
  },
  {
   "cell_type": "code",
   "execution_count": 93,
   "metadata": {},
   "outputs": [],
   "source": [
    "v = set(v.T.loc[v.eq(1).values[0]].index)"
   ]
  },
  {
   "cell_type": "code",
   "execution_count": 39,
   "metadata": {},
   "outputs": [],
   "source": [
    "look_up = {index:(token,coef) for index, coef, token in \n",
    "           zip(range(len(best_features)),\n",
    "               hisia.named_steps['logistic_regression'].coef_[0], \n",
    "               best_features)}"
   ]
  },
  {
   "cell_type": "code",
   "execution_count": 94,
   "metadata": {
    "tags": []
   },
   "outputs": [
    {
     "data": {
      "text/plain": [
       "{(':(', -4.36432604514099),\n",
       " ('elsker', 0.9680694667216431),\n",
       " ('ikke', -3.273671001915033),\n",
       " ('vred', -2.315838584847349)}"
      ]
     },
     "execution_count": 94,
     "metadata": {},
     "output_type": "execute_result"
    }
   ],
   "source": [
    "{look_up[item] for item in v}"
   ]
  },
  {
   "cell_type": "code",
   "execution_count": 41,
   "metadata": {},
   "outputs": [
    {
     "data": {
      "text/plain": [
       "0.809727254639209"
      ]
     },
     "execution_count": 41,
     "metadata": {},
     "output_type": "execute_result"
    }
   ],
   "source": [
    "hisia.named_steps['logistic_regression'].intercept_[0]"
   ]
  },
  {
   "cell_type": "code",
   "execution_count": 95,
   "metadata": {},
   "outputs": [],
   "source": [
    "g = [look_up[item] for item in v]"
   ]
  },
  {
   "cell_type": "code",
   "execution_count": 98,
   "metadata": {},
   "outputs": [
    {
     "data": {
      "text/plain": [
       "-8.98576616518173"
      ]
     },
     "execution_count": 98,
     "metadata": {},
     "output_type": "execute_result"
    }
   ],
   "source": [
    "sum(i for _, i in g)"
   ]
  },
  {
   "cell_type": "markdown",
   "metadata": {},
   "source": [
    "𝑓(𝐱): 𝑝(𝐱) = 1 / (1 + exp(−𝑓(𝐱))"
   ]
  },
  {
   "cell_type": "code",
   "execution_count": 101,
   "metadata": {},
   "outputs": [
    {
     "data": {
      "text/plain": [
       "0.000281234930865107"
      ]
     },
     "execution_count": 101,
     "metadata": {},
     "output_type": "execute_result"
    }
   ],
   "source": [
    "1/(1 + np.exp(-(sum(i for _, i in g) + hisia.named_steps['logistic_regression'].intercept_[0])))"
   ]
  },
  {
   "cell_type": "code",
   "execution_count": 44,
   "metadata": {},
   "outputs": [
    {
     "data": {
      "text/plain": [
       "-2.7505840252763147"
      ]
     },
     "execution_count": 44,
     "metadata": {},
     "output_type": "execute_result"
    }
   ],
   "source": [
    "hisia.decision_function(mad_max)[0]"
   ]
  },
  {
   "cell_type": "code",
   "execution_count": 45,
   "metadata": {},
   "outputs": [],
   "source": [
    "df = pd.DataFrame(res)"
   ]
  },
  {
   "cell_type": "code",
   "execution_count": 46,
   "metadata": {},
   "outputs": [
    {
     "data": {
      "text/html": [
       "<div>\n",
       "<style scoped>\n",
       "    .dataframe tbody tr th:only-of-type {\n",
       "        vertical-align: middle;\n",
       "    }\n",
       "\n",
       "    .dataframe tbody tr th {\n",
       "        vertical-align: top;\n",
       "    }\n",
       "\n",
       "    .dataframe thead th {\n",
       "        text-align: right;\n",
       "    }\n",
       "</style>\n",
       "<table border=\"1\" class=\"dataframe\">\n",
       "  <thead>\n",
       "    <tr style=\"text-align: right;\">\n",
       "      <th></th>\n",
       "      <th>negative_probability</th>\n",
       "      <th>positive_probability</th>\n",
       "      <th>sentiment</th>\n",
       "    </tr>\n",
       "  </thead>\n",
       "  <tbody>\n",
       "    <tr>\n",
       "      <th>0</th>\n",
       "      <td>0.939946</td>\n",
       "      <td>0.060054</td>\n",
       "      <td>negative</td>\n",
       "    </tr>\n",
       "  </tbody>\n",
       "</table>\n",
       "</div>"
      ],
      "text/plain": [
       "   negative_probability  positive_probability sentiment\n",
       "0              0.939946              0.060054  negative"
      ]
     },
     "execution_count": 46,
     "metadata": {},
     "output_type": "execute_result"
    }
   ],
   "source": [
    "df['sentiment'] = np.where(df[0] > .5, 'negative', 'positive')\n",
    "\n",
    "df.columns = ['negative_probability','positive_probability','sentiment']\n",
    "\n",
    "Sentiment = namedtuple('Sentiment', ['sentiment','positive_probability', 'negative_probability'])\n",
    "\n",
    "df"
   ]
  },
  {
   "cell_type": "code",
   "execution_count": 47,
   "metadata": {},
   "outputs": [],
   "source": [
    "b = Sentiment(**df.round(3).to_dict(orient='index')[0])"
   ]
  },
  {
   "cell_type": "code",
   "execution_count": 48,
   "metadata": {},
   "outputs": [
    {
     "data": {
      "text/plain": [
       "Sentiment(sentiment='negative', positive_probability=0.06, negative_probability=0.94)"
      ]
     },
     "execution_count": 48,
     "metadata": {},
     "output_type": "execute_result"
    }
   ],
   "source": [
    "b"
   ]
  },
  {
   "cell_type": "markdown",
   "metadata": {},
   "source": [
    "# Retrainable Model SGD"
   ]
  },
  {
   "cell_type": "code",
   "execution_count": 49,
   "metadata": {},
   "outputs": [],
   "source": [
    "hisia_trainer =Pipeline(steps =[\n",
    "                ('count_verctorizer',  CountVectorizer(ngram_range=(1, 2), \n",
    "                                         max_features=100000,\n",
    "                                         tokenizer=tokenizer, \n",
    "                                        )\n",
    "                ),\n",
    "                ('feature_selector', SelectKBest(chi2, k=5000)),\n",
    "                ('tfidf', TfidfTransformer(sublinear_tf=True)),\n",
    "                ('modified_hubern', SGDClassifier(loss='modified_huber', \n",
    "                                                      random_state=7,\n",
    "                                                      max_iter=1000))\n",
    "])"
   ]
  },
  {
   "cell_type": "code",
   "execution_count": 50,
   "metadata": {},
   "outputs": [
    {
     "name": "stdout",
     "output_type": "stream",
     "text": [
      "CPU times: user 38 s, sys: 260 ms, total: 38.2 s\n",
      "Wall time: 38.3 s\n"
     ]
    },
    {
     "data": {
      "text/plain": [
       "Pipeline(steps=[('count_verctorizer',\n",
       "                 CountVectorizer(max_features=100000, ngram_range=(1, 2),\n",
       "                                 tokenizer=<function tokenizer at 0x7f10d8012a60>)),\n",
       "                ('feature_selector',\n",
       "                 SelectKBest(k=5000,\n",
       "                             score_func=<function chi2 at 0x7f10f4a3bee0>)),\n",
       "                ('tfidf', TfidfTransformer(sublinear_tf=True)),\n",
       "                ('modified_hubern',\n",
       "                 SGDClassifier(loss='modified_huber', random_state=7))])"
      ]
     },
     "execution_count": 50,
     "metadata": {},
     "output_type": "execute_result"
    }
   ],
   "source": [
    "%%time\n",
    "hisia_trainer.fit(X_train, y_train)"
   ]
  },
  {
   "cell_type": "code",
   "execution_count": 51,
   "metadata": {},
   "outputs": [
    {
     "data": {
      "text/plain": [
       "0.9346472009903131"
      ]
     },
     "execution_count": 51,
     "metadata": {},
     "output_type": "execute_result"
    }
   ],
   "source": [
    "# for partil_fit we have to split the pipeline to transformation and scoring\n",
    "hisia_trainer.score(X_test,y_test)"
   ]
  },
  {
   "cell_type": "code",
   "execution_count": 52,
   "metadata": {},
   "outputs": [
    {
     "name": "stdout",
     "output_type": "stream",
     "text": [
      "Classification Report\n",
      "\t _____________________________________________\n",
      "              precision    recall  f1-score   support\n",
      "\n",
      "    Negative       0.92      0.96      0.94     25447\n",
      "    Positive       0.95      0.91      0.93     25446\n",
      "\n",
      "    accuracy                           0.93     50893\n",
      "   macro avg       0.94      0.93      0.93     50893\n",
      "weighted avg       0.94      0.93      0.93     50893\n",
      "\n",
      "\t _____________________________________________ \n",
      "\n",
      "\n"
     ]
    },
    {
     "data": {
      "image/png": "[encoded data removed]",
      "text/plain": [
       "<Figure size 720x360 with 1 Axes>"
      ]
     },
     "metadata": {},
     "output_type": "display_data"
    },
    {
     "data": {
      "text/plain": [
       "<Figure size 1080x360 with 0 Axes>"
      ]
     },
     "metadata": {},
     "output_type": "display_data"
    }
   ],
   "source": [
    "show_diagram(hisia_trainer, X_train, y_train, X_test, y_test, compare_test=True)"
   ]
  },
  {
   "cell_type": "code",
   "execution_count": 53,
   "metadata": {},
   "outputs": [
    {
     "name": "stderr",
     "output_type": "stream",
     "text": [
      "/home/pwd/.cache/pypoetry/virtualenvs/hisia-0TdsdPxg-py3.8/lib/python3.8/site-packages/sklearn/utils/deprecation.py:87: FutureWarning: Function get_feature_names is deprecated; get_feature_names is deprecated in 1.0 and will be removed in 1.2. Please use get_feature_names_out instead.\n",
      "  warnings.warn(msg, category=FutureWarning)\n"
     ]
    }
   ],
   "source": [
    "feature_names = hisia_trainer.named_steps['count_verctorizer'].get_feature_names()\n",
    "best_features = [feature_names[i] for i in hisia_trainer.named_steps['feature_selector'].get_support(indices=True)]\n",
    "predictor =  hisia_trainer.named_steps['modified_hubern']"
   ]
  },
  {
   "cell_type": "code",
   "execution_count": 54,
   "metadata": {},
   "outputs": [
    {
     "name": "stdout",
     "output_type": "stream",
     "text": [
      "Showing 100 models learned features for negative and postive decisions\n",
      "______________________________________________________________________\n",
      "\n",
      "\n",
      "\t-2.4296\tdårlig         \t\t2.0786\tgod            \n",
      "\t-1.8727\tikke orden     \t\t2.0763\thurtig         \n",
      "\t-1.7033\tuacceptabel    \t\t2.0737\tsuper          \n",
      "\t-1.6897\telendig        \t\t2.0287\tperfekt        \n",
      "\t-1.6492\tikke god       \t\t1.9509\tnem            \n",
      "\t-1.6048\tkilometer      \t\t1.9187\tfin            \n",
      "\t-1.5178\tførst          \t\t1.8950\tdejlig         \n",
      "\t-1.4198\tforkert        \t\t1.8171\ttilfreds       \n",
      "\t-1.3975\tlangsom        \t\t1.7876\thurtigt        \n",
      "\t-1.3890\tikke modtage   \t\t1.7450\t:-)            \n",
      "\t-1.3853\tikke tilfreds  \t\t1.6015\tfantastisk     \n",
      "\t-1.3480\tforsøge        \t\t1.4896\t:)             \n",
      "\t-1.3428\tøv             \t\t1.3066\tsmile          \n",
      "\t-1.3225\tikke           \t\t1.2744\tvenlig         \n",
      "\t-1.2833\tødelægge       \t\t1.2192\tingen problem  \n",
      "\t-1.2632\tbetale         \t\t1.2007\tfremragende    \n",
      "\t-1.2588\ttrætte         \t\t1.1829\tikke dårlig    \n",
      "\t-1.2477\tuge            \t\t1.1407\tsætte finger   \n",
      "\t-1.2333\t:-(            \t\t1.1163\ttop            \n",
      "\t-1.2179\tgl             \t\t1.1144\tle             \n",
      "\t-1.2058\tsmadre         \t\t1.1125\thjælpsom       \n",
      "\t-1.2048\tumulig         \t\t1.0903\tikke bedre     \n",
      "\t-1.1834\tforsinke       \t\t1.0900\tingen klage    \n",
      "\t-1.1760\tikke iorden    \t\t1.0764\teffektiv       \n",
      "\t-1.1746\tsmide          \t\t1.0486\tbehagelig      \n",
      "\t-1.1608\tingen hjælpe   \t\t1.0326\tproblemfri     \n",
      "\t-1.1600\tingen god      \t\t1.0313\tproblem        \n",
      "\t-1.1573\tikke anbefale  \t\t1.0259\tonfon          \n",
      "\t-1.1193\tvække          \t\t1.0180\tlynhurtig      \n",
      "\t-1.1159\tikke aftalt    \t\t0.9754\tikke klage     \n",
      "\t-1.1100\topsige         \t\t0.9674\tikke gøre      \n",
      "\t-1.1073\tmåtte          \t\t0.9651\tvarm anbefale  \n",
      "\t-1.0967\tgod nok        \t\t0.9600\tprofessionel   \n",
      "\t-1.0920\tingen måde     \t\t0.9505\tkompetent      \n",
      "\t-1.0909\tlang           \t\t0.9206\tfungere        \n",
      "\t-1.0854\tskuffe         \t\t0.9168\tminus          \n",
      "\t-1.0812\tværst          \t\t0.9106\t;-)            \n",
      "\t-1.0586\t:(             \t\t0.9067\tuden problem   \n",
      "\t-1.0557\tutilfredsstillende\t\t0.9034\tupåklagelig    \n",
      "\t-1.0356\tpåstå          \t\t0.8946\t;)             \n",
      "\t-1.0270\tsur            \t\t0.8583\torden          \n",
      "\t-1.0157\tforsvinde      \t\t0.8540\taltid få       \n",
      "\t-1.0095\tlukke          \t\t0.8431\tsmertefri      \n",
      "\t-0.9972\tdistributionscenter\t\t0.8411\ttid            \n",
      "\t-0.9829\tikke hjælpe    \t\t0.8325\tug             \n",
      "\t-0.9747\tstå            \t\t0.8310\tpositiv overraske\n",
      "\t-0.9600\tgrin           \t\t0.8264\ttusind takke   \n",
      "\t-0.9596\tligeglad       \t\t0.8262\tselvom ikke    \n",
      "\t-0.9588\tlatterlig      \t\t0.8077\tklar anbefale  \n",
      "\t-0.9583\trykke          \t\t0.8057\tallerede       \n",
      "\t-0.9525\turimelig       \t\t0.8027\tingen ventetid \n",
      "\t-0.9501\tikke få        \t\t0.7941\tkanon          \n",
      "\t-0.9482\tføje           \t\t0.7916\tpositiv oplevelse\n",
      "\t-0.9476\tvirke ikke     \t\t0.7837\tfin behandling \n",
      "\t-0.9401\tikke tid       \t\t0.7660\tpræcis         \n",
      "\t-0.9396\tikke love      \t\t0.7624\ttakke god      \n",
      "\t-0.9379\tmåned          \t\t0.7605\tstraks         \n",
      "\t-0.9376\tundgå          \t\t0.7473\thel vej        \n",
      "\t-0.9337\tspild          \t\t0.7407\tikke lang      \n",
      "\t-0.9333\tåbenbar        \t\t0.7262\trigtig god     \n",
      "\t-0.9291\tpludselig      \t\t0.7248\toverskuelig    \n",
      "\t-0.9254\tikke ok        \t\t0.7237\tuproblematisk  \n",
      "\t-0.9252\tbede           \t\t0.6950\tsmule          \n",
      "\t-0.9148\tikke overholde \t\t0.6860\tingen bemærke  \n",
      "\t-0.9116\trod            \t\t0.6846\thave           \n",
      "\t-0.9029\tuprofessionel  \t\t0.6681\tvelforberedt   \n",
      "\t-0.9024\tburde          \t\t0.6631\taldrig opleve  \n",
      "\t-0.8994\thverken        \t\t0.6626\tikke opleve    \n",
      "\t-0.8988\thule           \t\t0.6567\tgerne igen     \n",
      "\t-0.8984\tstadig ikke    \t\t0.6525\tløbe           \n",
      "\t-0.8968\tlang tid       \t\t0.6495\ttilfredshed    \n",
      "\t-0.8955\thåbløs         \t\t0.6433\taftalt         \n",
      "\t-0.8911\ttage           \t\t0.6322\t:o)            \n",
      "\t-0.8897\tende           \t\t0.6277\tordne          \n",
      "\t-0.8848\tnægte          \t\t0.6195\taltid god      \n",
      "\t-0.8799\tlangsommelig   \t\t0.6107\taltid sød      \n",
      "\t-0.8781\tvælger         \t\t0.6052\tsuperhurtig    \n",
      "\t-0.8758\tommer          \t\t0.6049\tvare           \n",
      "\t-0.8725\tsnyde          \t\t0.6044\tuden skade     \n",
      "\t-0.8695\tingen ankomme  \t\t0.6026\thøflig         \n",
      "\t-0.8683\tstop           \t\t0.6016\tvirkelig god   \n",
      "\t-0.8650\tskidt          \t\t0.5970\tiorden         \n",
      "\t-0.8602\tforgæves       \t\t0.5935\thave dårlig    \n",
      "\t-0.8594\tsidde          \t\t0.5932\tingen forbeholde\n",
      "\t-0.8549\tligge          \t\t0.5828\tbillig         \n",
      "\t-0.8538\tspilde         \t\t0.5741\tforvente       \n",
      "\t-0.8538\tgod forstå     \t\t0.5716\tenig           \n",
      "\t-0.8526\tikke dør       \t\t0.5701\tingen bøvle    \n",
      "\t-0.8519\tstige          \t\t0.5669\taften          \n",
      "\t-0.8514\tikke rigtig    \t\t0.5619\tgod information\n",
      "\t-0.8511\taldrig         \t\t0.5532\tenkelt         \n",
      "\t-0.8473\tskod           \t\t0.5433\taltid tid      \n",
      "\t-0.8448\tgebyr          \t\t0.5397\terfaring       \n",
      "\t-0.8446\tirriterende    \t\t0.5360\ttid uden       \n",
      "\t-0.8436\tubehøvlet      \t\t0.5299\ttryg           \n",
      "\t-0.8388\tikke styr      \t\t0.5296\tbog            \n",
      "\t-0.8343\tlort           \t\t0.5221\ttilføje        \n",
      "\t-0.8326\tinkompetent    \t\t0.5214\thjælpe         \n",
      "\t-0.8301\tstykke         \t\t0.5195\tspørgsmål      \n",
      "\t-0.8290\tsløv           \t\t0.5147\thandle         \n"
     ]
    }
   ],
   "source": [
    "N = 100\n",
    "print(f'Showing {N} models learned features for negative and postive decisions')\n",
    "print('_'*70)\n",
    "print('\\n')\n",
    "show_most_informative_features(best_features, predictor, n=N)"
   ]
  },
  {
   "cell_type": "code",
   "execution_count": null,
   "metadata": {},
   "outputs": [],
   "source": []
  }
 ],
 "metadata": {
  "kernelspec": {
   "display_name": "hisia",
   "language": "python",
   "name": "hisia"
  },
  "language_info": {
   "codemirror_mode": {
    "name": "ipython",
    "version": 3
   },
   "file_extension": ".py",
   "mimetype": "text/x-python",
   "name": "python",
   "nbconvert_exporter": "python",
   "pygments_lexer": "ipython3",
   "version": "3.8.12"
  }
 },
 "nbformat": 4,
 "nbformat_minor": 4
}
