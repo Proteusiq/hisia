{
 "cells": [
  {
   "cell_type": "markdown",
   "metadata": {},
   "source": [
    "## Interactive Model Training \n",
    "Run the cells to reproduce the results\n",
    "\n",
    "### Data and Models Used in Hisia\n",
    "\n",
    "**Data:** 2016 TrustPilot's 254,464 Danish reviews' body and stars and [8 fake reviews]*20 see notes for explanation.<br>\n",
    "\n",
    "**Models**<br>\n",
    "Hisia, _LogisticRegression_ with SAGA, a variant of Stochastic Average Gradient (SAG) as solver, L2 penalty was select for base model. Test score **accurace is ca. 93%** and **recall of 93%**. SAGA it is faster solver for large datatsets(Rows and Columns). As stochastic gradient, memory of previous grdient is incorporated/feed-forward and thus achieve faster convergence rate. Seeds: 42 in data split, and 42 in model used for reproducibility.\n",
    "\n",
    "HisiaTrain, _SGDClassifier_, Stochastic Gradient Descent learner with smooth loss 'modified_huber as loss function and L2 penalty. Test score **accurance  94%** and **recall of 94%**. SGDClassifier was select because of partial_fit. It allows batch/online training.\n",
    "\n",
    "**Note:** This score reflects models in regards to TrustPilot reviews systle of writing.<b>\n",
    " >8*10 fake reviews. TrustPilot reviews are directed towards products and services. A word like 'elsker'(love) or 'hader'(hate) were rare. To make sure the model learns such relationship, I added 8 reviews and duplicated them 10 times. This new sentences did not increase or decrease the model accurance but added correct the coeffient of love, hate and (ikke dårligt) not bad. "
   ]
  },
  {
   "cell_type": "code",
   "execution_count": 1,
   "metadata": {},
   "outputs": [
    {
     "name": "stdout",
     "output_type": "stream",
     "text": [
      "Author Prayson W. Daniel \n",
      "last updated: Wed Jun 03 2020 DST 2020-06-03T10:47:45+02:00\n",
      "\n",
      "CPython 3.7.6\n",
      "IPython 7.14.0\n",
      "\n",
      "pandas 1.0.4\n",
      "numpy 1.18.4\n",
      "matplotlib 3.2.1\n",
      "sklearn 0.23.1\n",
      "lemmy 2.1.0\n",
      "dill 0.3.1.1\n",
      "\n",
      "compiler   : GCC 7.3.0\n",
      "system     : Linux\n",
      "release    : 4.4.0-17763-Microsoft\n",
      "machine    : x86_64\n",
      "processor  : x86_64\n",
      "CPU cores  : 8\n",
      "interpreter: 64bit\n"
     ]
    }
   ],
   "source": [
    "%reload_ext watermark\n",
    "%watermark -uniz --author \"Author Prayson W. Daniel\" -vm -p pandas,numpy,matplotlib,scikit-learn,lemmy,dill"
   ]
  },
  {
   "cell_type": "code",
   "execution_count": 2,
   "metadata": {},
   "outputs": [],
   "source": [
    "from collections import namedtuple\n",
    "import joblib\n",
    "import re\n",
    "import dill\n",
    "import numpy as np\n",
    "import pandas as pd\n",
    "import matplotlib.pyplot as plt\n",
    "\n",
    "from sklearn.model_selection import train_test_split\n",
    "from sklearn.model_selection import KFold\n",
    "from sklearn.model_selection import cross_val_score\n",
    "from sklearn.feature_extraction.text import CountVectorizer\n",
    "from sklearn.feature_extraction.text import TfidfTransformer\n",
    "from sklearn.feature_extraction.text import TfidfVectorizer\n",
    "\n",
    "\n",
    "from sklearn.feature_selection import SelectKBest, chi2\n",
    "from sklearn.pipeline import Pipeline\n",
    "from sklearn.linear_model import  LogisticRegressionCV\n",
    "from sklearn.linear_model import SGDClassifier\n",
    "import lemmy\n",
    "\n",
    "from helpers import show_diagram, show_most_informative_features"
   ]
  },
  {
   "cell_type": "code",
   "execution_count": 3,
   "metadata": {},
   "outputs": [],
   "source": [
    "%matplotlib inline\n",
    "plt.rcParams['figure.figsize'] = (15,5)\n",
    "plt.style.use('fivethirtyeight')"
   ]
  },
  {
   "cell_type": "markdown",
   "metadata": {},
   "source": [
    "This stops were custom made from both unknown Danish stops words and products and services related words such as delivery, package, post office."
   ]
  },
  {
   "cell_type": "code",
   "execution_count": 4,
   "metadata": {},
   "outputs": [],
   "source": [
    "PATH_TO_DATA = '../data'\n",
    "STOP_WORDS = joblib.load(f'{PATH_TO_DATA}/stops.pkl')"
   ]
  },
  {
   "cell_type": "markdown",
   "metadata": {},
   "source": [
    "The tokenizer separates emojis from the words, removes digits, repetive words and stop words and lemmatize words"
   ]
  },
  {
   "cell_type": "code",
   "execution_count": 5,
   "metadata": {},
   "outputs": [],
   "source": [
    "lemmatizer = lemmy.load('da')\n",
    "\n",
    "def tokenizer(blob, stop_words=STOP_WORDS, remove_digits=True):\n",
    "    \n",
    "    if stop_words is None:\n",
    "        stop_words = {}\n",
    "    \n",
    "    blob = blob.lower()\n",
    "    \n",
    "     # eyes [nose] mouth | mouth [nose] eyes pattern\n",
    "    emoticons = r\"(?:[<>]?[:;=8][\\-o\\*\\']?[\\)\\]\\(\\[dDpP/\\:\\}\\{@\\|\\\\]|[\\)\\]\\(\\[dDpP/\\:\\}\\{@\\|\\\\][\\-o\\*\\']?[:;=8][<>]?)\"\n",
    "    emoticon_re = re.compile(emoticons, re.VERBOSE | re.I | re.UNICODE)\n",
    "    \n",
    "    text = re.sub(r'[\\W]+', ' ', blob)\n",
    "    \n",
    "    # remove 3+ repetitive characters i.e. hellllo -> hello, jaaaa -> jaa \n",
    "    repetitions = re.compile(r'(.)\\1{2,}')\n",
    "    text = repetitions.sub(r'\\1\\1', text)\n",
    "    \n",
    "    # remove 2+ repetitive words e.g. hej hej hej -> hej\n",
    "    \n",
    "    repetitions = re.compile(r'\\b(\\w+)\\s+(\\1\\s*)+\\b')\n",
    "    text = repetitions.sub(r'\\1 ', text)\n",
    "    \n",
    "    \n",
    "    # 14år --> 14 år\n",
    "    text = re.sub(r'([0-9]+(\\.[0-9]+)?)', r' \\1 ', text).strip()\n",
    "    \n",
    "    emoji = ''.join(re.findall(emoticon_re, blob))\n",
    "    \n",
    "       \n",
    "    # remove stopwords\n",
    "    text_nostop = [word for word in text.split() if word not in stop_words]\n",
    "    \n",
    "    # tokenization lemmatize\n",
    "    lemmatized_text = [lemmatizer.lemmatize('', word)[-1]  \n",
    "                                 for word in text_nostop]\n",
    "    \n",
    "    remove_stopwords = ' '.join(word for word in lemmatized_text if len(word)>1)\n",
    "    \n",
    "    if remove_digits:\n",
    "        remove_stopwords = re.sub(r'\\b\\d+\\b', '', remove_stopwords)\n",
    "    \n",
    "\n",
    "    # remove extra spaces\n",
    "    remove_stopwords = ' '.join(remove_stopwords .split())\n",
    "    result = f'{remove_stopwords} {emoji}'.encode('utf-8').decode('utf-8')\n",
    "       \n",
    "    \n",
    "    return result.split()"
   ]
  },
  {
   "cell_type": "code",
   "execution_count": 6,
   "metadata": {},
   "outputs": [
    {
     "data": {
      "text/plain": [
       "['vred', 'ikke', ':(']"
      ]
     },
     "execution_count": 6,
     "metadata": {},
     "output_type": "execute_result"
    }
   ],
   "source": [
    "tokenizer('Jeg er vred på, at jeg ikke fik min pakke :(')"
   ]
  },
  {
   "cell_type": "code",
   "execution_count": 7,
   "metadata": {},
   "outputs": [],
   "source": [
    "df = pd.read_json(f'{PATH_TO_DATA}/data.json')"
   ]
  },
  {
   "cell_type": "markdown",
   "metadata": {},
   "source": [
    "Fake reviews to teach our model the missing relationsh that is not found in TP reviews"
   ]
  },
  {
   "cell_type": "code",
   "execution_count": 8,
   "metadata": {},
   "outputs": [],
   "source": [
    "dt = pd.DataFrame([('men elsker elsker', 1,5), \n",
    "                   ('elsker det ikke', 0, 1), \n",
    "                   ('ikke dårligt', 1, 5),\n",
    "                   ('elsker skat, kæreste, tilbedte, dyrebare, elskling, darling, hjerte, hjertenskær; ven; veninde', 1, 5),\n",
    "                   ('dårlig: syg, sløj, utilpas, ilde tilpas, upasselig, snavs, indisponeret;'\n",
    "                    'sygelig, usund, ond, slet; arg, uheldig, umulig, elendig, under al kritik,'\n",
    "                    'dødssyg, skidt, skral, krank, ussel, ikke noget at samle på, talentløs, uantagelig,'\n",
    "                    'uacceptabel, forkastelig; ikke noget at råbe hurra for, ikke noget at skrive hjem om,'\n",
    "                    'noget skidt (lort, pis), andenklasses, tredjeklasses (osv.), ringe, halvgod, ikke nogen'\n",
    "                    'ørn til, ikke ens stærke side, ens svage punkt, som en brækket arm; sjusket; ufordelagtig,'\n",
    "                    'ufyldestgørende, utilstrækkelig, utilfredsstillende, middelmådig, under lavmålet, uduelig,'\n",
    "                    'udygtig, uhensigtsmæssig, forkert, tarvelig; skadelig, ødelæggende, fordærvet, ubrugelig;'\n",
    "                    'ubehagelig, væmmelig, ulystbetonet; dys-; utiltalende, usympatisk, kedelig', 0, 1),\n",
    "                    ('20.000 kroner. Det er, hvad man som arbejdstager burde få ekstra i lønningsposen,'\n",
    "                    ' hvis man skal kunne acceptere at have en dårlig chef.', 0,1),\n",
    "                   ('kærlighed, hvordan elsker vi hinanden godt – uanset hvem vi elsker?',1,5),\n",
    "                   ('jeg hader dig', 0, 1),\n",
    "                   \n",
    "                  ]*20, \n",
    "                  columns='features target stars'.split())"
   ]
  },
  {
   "cell_type": "code",
   "execution_count": 9,
   "metadata": {},
   "outputs": [],
   "source": [
    "# dt.to_json('../hisia/data/data_custom.json')"
   ]
  },
  {
   "cell_type": "code",
   "execution_count": 10,
   "metadata": {},
   "outputs": [],
   "source": [
    "X_train, X_test, y_train, y_test = train_test_split(df['features'], \n",
    "                                                     df['target'],\n",
    "                                                     test_size=.2,\n",
    "                                                     random_state=42,\n",
    "                                                     stratify=df['target'])"
   ]
  },
  {
   "cell_type": "code",
   "execution_count": 11,
   "metadata": {},
   "outputs": [],
   "source": [
    "X_train, y_train = X_train.append(dt['features'],ignore_index=True), y_train.append(dt['target'],ignore_index=True)"
   ]
  },
  {
   "cell_type": "code",
   "execution_count": 12,
   "metadata": {},
   "outputs": [
    {
     "name": "stdout",
     "output_type": "stream",
     "text": [
      "Traing Size: 203731\n",
      "Test Size:    50893\n",
      "\n",
      "Traing Size\n",
      "\tPositive||Negative Samples\n",
      "\t  101866||101865\n",
      "\n",
      "Test Size\n",
      "\tPositive||Negative Samples\n",
      "\t  25446||25447\n"
     ]
    }
   ],
   "source": [
    "print(f'Traing Size: {X_train.shape[0]}\\nTest Size: {X_test.shape[0]:>8}')\n",
    "print(f'\\nTraing Size\\n\\tPositive||Negative Samples\\n\\t  {y_train[y_train==1].shape[0]}||{y_train[y_train==0].shape[0]}')\n",
    "print(f'\\nTest Size\\n\\tPositive||Negative Samples\\n\\t  {y_test[y_test==1].shape[0]}||{y_test[y_test==0].shape[0]}')"
   ]
  },
  {
   "cell_type": "code",
   "execution_count": 13,
   "metadata": {},
   "outputs": [],
   "source": [
    "hisia = Pipeline(steps =[\n",
    "        ('count_verctorizer',  CountVectorizer(ngram_range=(1, 2), \n",
    "                                 max_features=150000,\n",
    "                                 tokenizer=tokenizer, \n",
    "                                 #stop_words=STOP_WORDS\n",
    "                                )\n",
    "        ),\n",
    "        ('feature_selector', SelectKBest(chi2, k=10000)),\n",
    "        ('tfidf', TfidfTransformer(sublinear_tf=True)),\n",
    "        ('logistic_regression', LogisticRegressionCV(cv=5,\n",
    "                                                    solver='saga',\n",
    "                                                    scoring='accuracy',\n",
    "                                                    max_iter=200, \n",
    "                                                    n_jobs=-1,\n",
    "                                                    random_state=42,\n",
    "                                                    verbose=0))\n",
    "])"
   ]
  },
  {
   "cell_type": "code",
   "execution_count": 14,
   "metadata": {},
   "outputs": [
    {
     "name": "stderr",
     "output_type": "stream",
     "text": [
      "/home/pwd/miniconda3/envs/hisia/lib/python3.7/site-packages/sklearn/linear_model/_sag.py:330: ConvergenceWarning: The max_iter was reached which means the coef_ did not converge\n",
      "  \"the coef_ did not converge\", ConvergenceWarning)\n",
      "/home/pwd/miniconda3/envs/hisia/lib/python3.7/site-packages/sklearn/linear_model/_sag.py:330: ConvergenceWarning: The max_iter was reached which means the coef_ did not converge\n",
      "  \"the coef_ did not converge\", ConvergenceWarning)\n",
      "/home/pwd/miniconda3/envs/hisia/lib/python3.7/site-packages/sklearn/linear_model/_sag.py:330: ConvergenceWarning: The max_iter was reached which means the coef_ did not converge\n",
      "  \"the coef_ did not converge\", ConvergenceWarning)\n",
      "/home/pwd/miniconda3/envs/hisia/lib/python3.7/site-packages/sklearn/linear_model/_sag.py:330: ConvergenceWarning: The max_iter was reached which means the coef_ did not converge\n",
      "  \"the coef_ did not converge\", ConvergenceWarning)\n",
      "/home/pwd/miniconda3/envs/hisia/lib/python3.7/site-packages/sklearn/linear_model/_sag.py:330: ConvergenceWarning: The max_iter was reached which means the coef_ did not converge\n",
      "  \"the coef_ did not converge\", ConvergenceWarning)\n",
      "/home/pwd/miniconda3/envs/hisia/lib/python3.7/site-packages/sklearn/linear_model/_sag.py:330: ConvergenceWarning: The max_iter was reached which means the coef_ did not converge\n",
      "  \"the coef_ did not converge\", ConvergenceWarning)\n",
      "/home/pwd/miniconda3/envs/hisia/lib/python3.7/site-packages/sklearn/linear_model/_sag.py:330: ConvergenceWarning: The max_iter was reached which means the coef_ did not converge\n",
      "  \"the coef_ did not converge\", ConvergenceWarning)\n",
      "/home/pwd/miniconda3/envs/hisia/lib/python3.7/site-packages/sklearn/linear_model/_sag.py:330: ConvergenceWarning: The max_iter was reached which means the coef_ did not converge\n",
      "  \"the coef_ did not converge\", ConvergenceWarning)\n",
      "/home/pwd/miniconda3/envs/hisia/lib/python3.7/site-packages/sklearn/linear_model/_sag.py:330: ConvergenceWarning: The max_iter was reached which means the coef_ did not converge\n",
      "  \"the coef_ did not converge\", ConvergenceWarning)\n",
      "/home/pwd/miniconda3/envs/hisia/lib/python3.7/site-packages/sklearn/linear_model/_sag.py:330: ConvergenceWarning: The max_iter was reached which means the coef_ did not converge\n",
      "  \"the coef_ did not converge\", ConvergenceWarning)\n",
      "/home/pwd/miniconda3/envs/hisia/lib/python3.7/site-packages/sklearn/linear_model/_sag.py:330: ConvergenceWarning: The max_iter was reached which means the coef_ did not converge\n",
      "  \"the coef_ did not converge\", ConvergenceWarning)\n"
     ]
    },
    {
     "name": "stdout",
     "output_type": "stream",
     "text": [
      "CPU times: user 18min 28s, sys: 15.3 s, total: 18min 43s\n",
      "Wall time: 7min 23s\n"
     ]
    },
    {
     "data": {
      "text/plain": [
       "Pipeline(steps=[('count_verctorizer',\n",
       "                 CountVectorizer(max_features=150000, ngram_range=(1, 2),\n",
       "                                 tokenizer=<function tokenizer at 0x7f299e7665f0>)),\n",
       "                ('feature_selector',\n",
       "                 SelectKBest(k=10000,\n",
       "                             score_func=<function chi2 at 0x7f29a0f484d0>)),\n",
       "                ('tfidf', TfidfTransformer(sublinear_tf=True)),\n",
       "                ('logistic_regression',\n",
       "                 LogisticRegressionCV(cv=5, max_iter=200, n_jobs=-1,\n",
       "                                      random_state=42, scoring='accuracy',\n",
       "                                      solver='saga'))])"
      ]
     },
     "execution_count": 14,
     "metadata": {},
     "output_type": "execute_result"
    }
   ],
   "source": [
    "%%time\n",
    "hisia.fit(X_train, y_train)"
   ]
  },
  {
   "cell_type": "code",
   "execution_count": 15,
   "metadata": {},
   "outputs": [
    {
     "data": {
      "text/plain": [
       "0.9400506945945415"
      ]
     },
     "execution_count": 15,
     "metadata": {},
     "output_type": "execute_result"
    }
   ],
   "source": [
    "hisia.score(X_test, y_test)"
   ]
  },
  {
   "cell_type": "code",
   "execution_count": 16,
   "metadata": {},
   "outputs": [
    {
     "name": "stdout",
     "output_type": "stream",
     "text": [
      "Classification Report\n",
      "\t _____________________________________________\n",
      "              precision    recall  f1-score   support\n",
      "\n",
      "    Negative       0.93      0.95      0.94     25447\n",
      "    Positive       0.95      0.93      0.94     25446\n",
      "\n",
      "    accuracy                           0.94     50893\n",
      "   macro avg       0.94      0.94      0.94     50893\n",
      "weighted avg       0.94      0.94      0.94     50893\n",
      "\n",
      "\t _____________________________________________ \n",
      "\n",
      "\n"
     ]
    },
    {
     "data": {
      "image/png": "[encoded data removed]",
      "text/plain": [
       "<Figure size 720x360 with 1 Axes>"
      ]
     },
     "metadata": {},
     "output_type": "display_data"
    },
    {
     "data": {
      "text/plain": [
       "<Figure size 1080x360 with 0 Axes>"
      ]
     },
     "metadata": {},
     "output_type": "display_data"
    }
   ],
   "source": [
    "show_diagram(hisia, X_train, y_train, X_test, y_test, compare_test=True)"
   ]
  },
  {
   "cell_type": "code",
   "execution_count": 17,
   "metadata": {},
   "outputs": [],
   "source": [
    "feature_names = hisia.named_steps['count_verctorizer'].get_feature_names()\n",
    "best_features = [feature_names[i] for i in hisia.named_steps['feature_selector'].get_support(indices=True)]\n",
    "predictor =  hisia.named_steps['logistic_regression']"
   ]
  },
  {
   "cell_type": "code",
   "execution_count": 18,
   "metadata": {},
   "outputs": [
    {
     "name": "stdout",
     "output_type": "stream",
     "text": [
      "Showing 100 models learned features for negative and postive decisions\n",
      "______________________________________________________________________\n",
      "\n",
      "\n",
      "\t-9.5716\tikke orden     \t\t8.9007\tperfekt        \n",
      "\t-9.3119\tdårlig         \t\t8.1302\tsuper          \n",
      "\t-9.1084\tuacceptabel    \t\t8.1070\tgod            \n",
      "\t-7.5375\telendig        \t\t7.4784\tfin            \n",
      "\t-7.5072\tkilometer      \t\t7.4612\tnem            \n",
      "\t-6.9078\tikke ok        \t\t7.2722\t:-)            \n",
      "\t-6.8288\tikke anbefale  \t\t7.1987\thurtig         \n",
      "\t-6.6592\tikke god       \t\t6.7330\tsidste stjerne \n",
      "\t-6.1687\tikke modtage   \t\t6.7021\ttilfreds       \n",
      "\t-6.0957\tikke iorden    \t\t6.6765\tdejlig         \n",
      "\t-5.9087\tingen hjælpe   \t\t6.4836\tfantastisk     \n",
      "\t-5.8973\tforkert        \t\t6.4403\thurtigt        \n",
      "\t-5.8380\tøv             \t\t6.0026\tfremragende    \n",
      "\t-5.7408\tikke tilfreds  \t\t5.9886\tingen klage    \n",
      "\t-5.6898\topsige         \t\t5.9668\tingen problem  \n",
      "\t-5.6738\tumulig         \t\t5.6523\t:)             \n",
      "\t-5.6486\tpåstå          \t\t5.3156\tsætte finger   \n",
      "\t-5.4251\tlangsom        \t\t5.1424\tproblemfri     \n",
      "\t-5.4194\tsmide          \t\t5.1412\tikke dårlig    \n",
      "\t-5.2229\tstadig ikke    \t\t5.0578\tvarm anbefale  \n",
      "\t-5.2045\ttrætte         \t\t5.0245\tikke bedre     \n",
      "\t-5.1574\t:-(            \t\t4.9687\tthumb up       \n",
      "\t-5.1552\tutilfredsstillende\t\t4.8403\teffektiv       \n",
      "\t-5.1353\tgrin           \t\t4.7989\tsmertefri      \n",
      "\t-5.1298\tommer          \t\t4.7271\tle             \n",
      "\t-5.0978\tdistributionscenter\t\t4.7177\tvenlig         \n",
      "\t-5.0802\tingen måde     \t\t4.7094\tsmile          \n",
      "\t-5.0501\tforsøge        \t\t4.5256\tminus          \n",
      "\t-5.0287\tikke overholde \t\t4.4799\tlynhurtig      \n",
      "\t-4.9870\tødelægge       \t\t4.4666\tpositiv overraske\n",
      "\t-4.9869\tnægte          \t\t4.4325\tbehagelig      \n",
      "\t-4.9732\tuge            \t\t4.4000\tfin behandling \n",
      "\t-4.9637\tførst          \t\t4.3954\t:):)           \n",
      "\t-4.9574\tinkompetent    \t\t4.3711\thjælpsom       \n",
      "\t-4.9544\tikke hjælpe    \t\t4.3706\tpositiv oplevelse\n",
      "\t-4.9456\tsmadre         \t\t4.3593\t;)             \n",
      "\t-4.9339\tikke acceptabel\t\t4.3268\taltid få       \n",
      "\t-4.9115\tværst          \t\t4.2713\ttop            \n",
      "\t-4.9060\tubehøvlet      \t\t4.2435\tudmærket       \n",
      "\t-4.8231\tlatterlig      \t\t4.2247\tskrive forkert \n",
      "\t-4.7574\tuprofessionel  \t\t4.0506\tkanon          \n",
      "\t-4.7472\tgentagen       \t\t4.0425\tingen ventetid \n",
      "\t-4.7208\tingen god      \t\t4.0398\t;-)            \n",
      "\t-4.6238\tuforskammet    \t\t4.0393\tug             \n",
      "\t-4.5923\tgl             \t\t4.0272\tuproblematisk  \n",
      "\t-4.5862\tikke aftalt    \t\t3.9521\tprofessionel   \n",
      "\t-4.5718\tikke styr      \t\t3.9387\t:d             \n",
      "\t-4.5599\tvække          \t\t3.9021\tfinger sætte   \n",
      "\t-4.5547\trykke          \t\t3.8927\tupåklagelig    \n",
      "\t-4.5160\tflabet         \t\t3.8703\tproblem        \n",
      "\t-4.5127\tikke imponere  \t\t3.8628\tikke klage     \n",
      "\t-4.4969\tingen hørt     \t\t3.8246\tingen udsætte  \n",
      "\t-4.4661\tingen meddelelse\t\t3.8120\tingen kø       \n",
      "\t-4.4162\tforsinke       \t\t3.8023\tok             \n",
      "\t-4.4150\tforsvinde      \t\t3.7982\tkompetent      \n",
      "\t-4.3837\tgod forstå     \t\t3.7906\ttusind takke   \n",
      "\t-4.3737\tgod nok        \t\t3.7682\tsupergod       \n",
      "\t-4.3700\tspilde         \t\t3.7360\tuden skade     \n",
      "\t-4.3478\tingen information\t\t3.7337\ttakke god      \n",
      "\t-4.3395\tikke stol      \t\t3.7304\tonfon          \n",
      "\t-4.3344\t:(             \t\t3.7100\tselvom ikke    \n",
      "\t-4.3315\turimelig       \t\t3.6952\tuden problem   \n",
      "\t-4.3308\tvirke ikke     \t\t3.6731\torden          \n",
      "\t-4.3289\tsærlig god     \t\t3.6569\tklar anbefale  \n",
      "\t-4.2917\tuseriøs        \t\t3.6140\tikke nemmere   \n",
      "\t-4.2826\tskod           \t\t3.5570\tingen bøvle    \n",
      "\t-4.2774\tikke dække     \t\t3.4970\tfungere        \n",
      "\t-4.2311\tafvise         \t\t3.4941\tros            \n",
      "\t-4.2169\tal kritik      \t\t3.4410\tfuld tilfredsstille\n",
      "\t-4.2085\tbetale ekstra  \t\t3.4036\tstraks         \n",
      "\t-4.2048\tmåtte          \t\t3.3864\tvelforberedt   \n",
      "\t-4.1735\tikke tilfredsstille\t\t3.3800\tsmule          \n",
      "\t-4.1664\tikke få        \t\t3.3389\tikke gøre      \n",
      "\t-4.1645\tgebyr          \t\t3.3248\ttid            \n",
      "\t-4.1443\tlang           \t\t3.3143\tgerne igen     \n",
      "\t-4.1336\tpludselig      \t\t3.2898\tingen bemærke  \n",
      "\t-4.1041\trigtig dårlig  \t\t3.2812\tanbefale virksomhed\n",
      "\t-4.0968\tarrogant       \t\t3.2803\trar            \n",
      "\t-4.0955\tbetale         \t\t3.2671\tbrok           \n",
      "\t-4.0359\tbøje           \t\t3.2329\tleve forventning\n",
      "\t-4.0309\thåbløs         \t\t3.2181\tbekvem         \n",
      "\t-4.0282\thmm            \t\t3.2164\tpræcis         \n",
      "\t-4.0256\tspild          \t\t3.1837\tslappe         \n",
      "\t-4.0207\taldrig plads   \t\t3.1765\tikke lang      \n",
      "\t-4.0199\tløgn           \t\t3.1732\toverskuelig    \n",
      "\t-4.0166\taflevere forkert\t\t3.1632\tsuperhurtig    \n",
      "\t-4.0089\tlukke          \t\t3.1362\tingen negativ  \n",
      "\t-3.9660\tsnyde          \t\t3.1203\tordne          \n",
      "\t-3.9563\tligeglad       \t\t3.1180\tgå smøre       \n",
      "\t-3.9530\tføje           \t\t3.1099\tfed            \n",
      "\t-3.9488\tlangsommelig   \t\t3.0528\tingen bemærkning\n",
      "\t-3.9456\tskuffe         \t\t3.0458\tallerede       \n",
      "\t-3.9223\tsur            \t\t3.0408\tklappe         \n",
      "\t-3.9209\theld           \t\t3.0345\thel vej        \n",
      "\t-3.9188\tstadig ingen   \t\t2.9976\t:o)            \n",
      "\t-3.9122\tikke fed       \t\t2.9583\tinformativ     \n",
      "\t-3.9028\tikke tid       \t\t2.9565\tskønt          \n",
      "\t-3.9008\tkursus         \t\t2.9552\trigtig god     \n",
      "\t-3.8964\tikke love      \t\t2.9255\tgod information\n",
      "\t-3.8749\tholder ikke    \t\t2.8800\tmindre timer   \n"
     ]
    }
   ],
   "source": [
    "N = 100\n",
    "print(f'Showing {N} models learned features for negative and postive decisions')\n",
    "print('_'*70)\n",
    "print('\\n')\n",
    "show_most_informative_features(best_features, predictor, n=N)"
   ]
  },
  {
   "cell_type": "code",
   "execution_count": 19,
   "metadata": {},
   "outputs": [
    {
     "data": {
      "text/plain": [
       "array([[0.91904634, 0.08095366]])"
      ]
     },
     "execution_count": 19,
     "metadata": {},
     "output_type": "execute_result"
    }
   ],
   "source": [
    "hisia.predict_proba(['det er ikke okay!'])"
   ]
  },
  {
   "cell_type": "code",
   "execution_count": 20,
   "metadata": {},
   "outputs": [
    {
     "data": {
      "text/plain": [
       "array([[0.29335164, 0.70664836]])"
      ]
     },
     "execution_count": 20,
     "metadata": {},
     "output_type": "execute_result"
    }
   ],
   "source": [
    "hisia.predict_proba(['det er ikke dårligt!'])"
   ]
  },
  {
   "cell_type": "code",
   "execution_count": 21,
   "metadata": {},
   "outputs": [
    {
     "data": {
      "text/plain": [
       "(array([[0.15527274, 0.84472726]]), array([[0.72085339, 0.27914661]]))"
      ]
     },
     "execution_count": 21,
     "metadata": {},
     "output_type": "execute_result"
    }
   ],
   "source": [
    "hisia.predict_proba(['jeg elsker det!']), hisia.predict_proba(['jeg elsker det slet ikke!'])"
   ]
  },
  {
   "cell_type": "code",
   "execution_count": 22,
   "metadata": {},
   "outputs": [],
   "source": [
    "mad_max = ['Jeg er vred på, at jeg ikke fik min pakke :( elsker']"
   ]
  },
  {
   "cell_type": "code",
   "execution_count": 23,
   "metadata": {},
   "outputs": [
    {
     "data": {
      "text/plain": [
       "42"
      ]
     },
     "execution_count": 23,
     "metadata": {},
     "output_type": "execute_result"
    }
   ],
   "source": [
    "hisia.named_steps['logistic_regression'].random_state"
   ]
  },
  {
   "cell_type": "code",
   "execution_count": 24,
   "metadata": {},
   "outputs": [
    {
     "data": {
      "text/plain": [
       "array([[0.26974609, 0.73025391]])"
      ]
     },
     "execution_count": 24,
     "metadata": {},
     "output_type": "execute_result"
    }
   ],
   "source": [
    "hisia.predict_proba([''])"
   ]
  },
  {
   "cell_type": "code",
   "execution_count": 25,
   "metadata": {},
   "outputs": [
    {
     "data": {
      "text/plain": [
       "array([0])"
      ]
     },
     "execution_count": 25,
     "metadata": {},
     "output_type": "execute_result"
    }
   ],
   "source": [
    "hisia.predict(mad_max)"
   ]
  },
  {
   "cell_type": "code",
   "execution_count": 26,
   "metadata": {},
   "outputs": [
    {
     "data": {
      "text/plain": [
       "array([[0.9267768, 0.0732232]])"
      ]
     },
     "execution_count": 26,
     "metadata": {},
     "output_type": "execute_result"
    }
   ],
   "source": [
    "res = hisia.predict_proba(mad_max)\n",
    "res"
   ]
  },
  {
   "cell_type": "code",
   "execution_count": 27,
   "metadata": {},
   "outputs": [
    {
     "data": {
      "text/plain": [
       "array([-2.53820046])"
      ]
     },
     "execution_count": 27,
     "metadata": {},
     "output_type": "execute_result"
    }
   ],
   "source": [
    "hisia.decision_function(mad_max)"
   ]
  },
  {
   "cell_type": "code",
   "execution_count": 28,
   "metadata": {},
   "outputs": [],
   "source": [
    "v = hisia.named_steps['count_verctorizer'].transform(mad_max)\n",
    "v = hisia.named_steps['feature_selector'].transform(v)\n",
    "v = pd.DataFrame.sparse.from_spmatrix(v)"
   ]
  },
  {
   "cell_type": "code",
   "execution_count": 29,
   "metadata": {},
   "outputs": [],
   "source": [
    "v = set(v.loc[:,v.iloc[0]==1].columns)"
   ]
  },
  {
   "cell_type": "code",
   "execution_count": 30,
   "metadata": {},
   "outputs": [],
   "source": [
    "look_up = {index:(token,coef) for index, coef, token in \n",
    "           zip(range(len(best_features)),\n",
    "               hisia.named_steps['logistic_regression'].coef_[0], \n",
    "               best_features)}"
   ]
  },
  {
   "cell_type": "code",
   "execution_count": 31,
   "metadata": {},
   "outputs": [
    {
     "data": {
      "text/plain": [
       "{(':(', -4.334440323513933),\n",
       " ('elsker', 0.6979194308004358),\n",
       " ('ikke', -3.425370797679455),\n",
       " ('vred', -2.012236087955754)}"
      ]
     },
     "execution_count": 31,
     "metadata": {},
     "output_type": "execute_result"
    }
   ],
   "source": [
    "{look_up[item] for item in v}"
   ]
  },
  {
   "cell_type": "code",
   "execution_count": 32,
   "metadata": {},
   "outputs": [
    {
     "data": {
      "text/plain": [
       "0.9959111721097562"
      ]
     },
     "execution_count": 32,
     "metadata": {},
     "output_type": "execute_result"
    }
   ],
   "source": [
    "hisia.named_steps['logistic_regression'].intercept_[0]"
   ]
  },
  {
   "cell_type": "code",
   "execution_count": 33,
   "metadata": {},
   "outputs": [],
   "source": [
    "g = [look_up[item] for item in v]"
   ]
  },
  {
   "cell_type": "code",
   "execution_count": 34,
   "metadata": {},
   "outputs": [
    {
     "data": {
      "text/plain": [
       "0.15039067795765643"
      ]
     },
     "execution_count": 34,
     "metadata": {},
     "output_type": "execute_result"
    }
   ],
   "source": [
    "1/(1 + np.exp(-(g[0][1] + g[1][1] + hisia.named_steps['logistic_regression'].intercept_[0])))"
   ]
  },
  {
   "cell_type": "code",
   "execution_count": 35,
   "metadata": {},
   "outputs": [
    {
     "data": {
      "text/plain": [
       "-2.538200460168757"
      ]
     },
     "execution_count": 35,
     "metadata": {},
     "output_type": "execute_result"
    }
   ],
   "source": [
    "hisia.decision_function(mad_max)[0]"
   ]
  },
  {
   "cell_type": "code",
   "execution_count": 36,
   "metadata": {},
   "outputs": [],
   "source": [
    "df = pd.DataFrame(res)"
   ]
  },
  {
   "cell_type": "code",
   "execution_count": 37,
   "metadata": {},
   "outputs": [],
   "source": [
    "df['sentiment'] = np.where(df[0] > .5, 'negative', 'positive')"
   ]
  },
  {
   "cell_type": "code",
   "execution_count": 38,
   "metadata": {},
   "outputs": [],
   "source": [
    "df.columns = ['negative_probability','positive_probability','sentiment']"
   ]
  },
  {
   "cell_type": "code",
   "execution_count": 39,
   "metadata": {},
   "outputs": [],
   "source": [
    "Sentiment = namedtuple('Sentiment', ['sentiment','positive_probability', 'negative_probability'])"
   ]
  },
  {
   "cell_type": "code",
   "execution_count": 40,
   "metadata": {},
   "outputs": [
    {
     "data": {
      "text/html": [
       "<div>\n",
       "<style scoped>\n",
       "    .dataframe tbody tr th:only-of-type {\n",
       "        vertical-align: middle;\n",
       "    }\n",
       "\n",
       "    .dataframe tbody tr th {\n",
       "        vertical-align: top;\n",
       "    }\n",
       "\n",
       "    .dataframe thead th {\n",
       "        text-align: right;\n",
       "    }\n",
       "</style>\n",
       "<table border=\"1\" class=\"dataframe\">\n",
       "  <thead>\n",
       "    <tr style=\"text-align: right;\">\n",
       "      <th></th>\n",
       "      <th>negative_probability</th>\n",
       "      <th>positive_probability</th>\n",
       "      <th>sentiment</th>\n",
       "    </tr>\n",
       "  </thead>\n",
       "  <tbody>\n",
       "    <tr>\n",
       "      <th>0</th>\n",
       "      <td>0.926777</td>\n",
       "      <td>0.073223</td>\n",
       "      <td>negative</td>\n",
       "    </tr>\n",
       "  </tbody>\n",
       "</table>\n",
       "</div>"
      ],
      "text/plain": [
       "   negative_probability  positive_probability sentiment\n",
       "0              0.926777              0.073223  negative"
      ]
     },
     "execution_count": 40,
     "metadata": {},
     "output_type": "execute_result"
    }
   ],
   "source": [
    "df"
   ]
  },
  {
   "cell_type": "code",
   "execution_count": 41,
   "metadata": {},
   "outputs": [],
   "source": [
    "b = Sentiment(**df.round(3).to_dict(orient='index')[0])"
   ]
  },
  {
   "cell_type": "code",
   "execution_count": 42,
   "metadata": {},
   "outputs": [
    {
     "data": {
      "text/plain": [
       "Sentiment(sentiment='negative', positive_probability=0.073, negative_probability=0.927)"
      ]
     },
     "execution_count": 42,
     "metadata": {},
     "output_type": "execute_result"
    }
   ],
   "source": [
    "b"
   ]
  },
  {
   "cell_type": "markdown",
   "metadata": {},
   "source": [
    "# Retrainable Model SGD"
   ]
  },
  {
   "cell_type": "code",
   "execution_count": 43,
   "metadata": {},
   "outputs": [],
   "source": [
    "hisia_trainer =Pipeline(steps =[\n",
    "                ('count_verctorizer',  CountVectorizer(ngram_range=(1, 2), \n",
    "                                         max_features=100000,\n",
    "                                         tokenizer=tokenizer, \n",
    "                                        )\n",
    "                ),\n",
    "                ('feature_selector', SelectKBest(chi2, k=5000)),\n",
    "                ('tfidf', TfidfTransformer(sublinear_tf=True)),\n",
    "                ('modified_hubern', SGDClassifier(loss='modified_huber', \n",
    "                                                      random_state=7,\n",
    "                                                      max_iter=1000))\n",
    "])"
   ]
  },
  {
   "cell_type": "code",
   "execution_count": 44,
   "metadata": {},
   "outputs": [
    {
     "name": "stdout",
     "output_type": "stream",
     "text": [
      "CPU times: user 2min 12s, sys: 4.55 s, total: 2min 17s\n",
      "Wall time: 2min 29s\n"
     ]
    },
    {
     "data": {
      "text/plain": [
       "Pipeline(steps=[('count_verctorizer',\n",
       "                 CountVectorizer(max_features=100000, ngram_range=(1, 2),\n",
       "                                 tokenizer=<function tokenizer at 0x7f299e7665f0>)),\n",
       "                ('feature_selector',\n",
       "                 SelectKBest(k=5000,\n",
       "                             score_func=<function chi2 at 0x7f29a0f484d0>)),\n",
       "                ('tfidf', TfidfTransformer(sublinear_tf=True)),\n",
       "                ('modified_hubern',\n",
       "                 SGDClassifier(loss='modified_huber', random_state=7))])"
      ]
     },
     "execution_count": 44,
     "metadata": {},
     "output_type": "execute_result"
    }
   ],
   "source": [
    "%%time\n",
    "hisia_trainer.fit(X_train, y_train)"
   ]
  },
  {
   "cell_type": "code",
   "execution_count": 45,
   "metadata": {},
   "outputs": [
    {
     "data": {
      "text/plain": [
       "0.9352366730198652"
      ]
     },
     "execution_count": 45,
     "metadata": {},
     "output_type": "execute_result"
    }
   ],
   "source": [
    "# for partil_fit we have to split the pipeline to transformation and scoring\n",
    "hisia_trainer.score(X_test,y_test)"
   ]
  },
  {
   "cell_type": "code",
   "execution_count": 46,
   "metadata": {},
   "outputs": [
    {
     "name": "stdout",
     "output_type": "stream",
     "text": [
      "Classification Report\n",
      "\t _____________________________________________\n",
      "              precision    recall  f1-score   support\n",
      "\n",
      "    Negative       0.92      0.95      0.94     25447\n",
      "    Positive       0.95      0.92      0.93     25446\n",
      "\n",
      "    accuracy                           0.94     50893\n",
      "   macro avg       0.94      0.94      0.94     50893\n",
      "weighted avg       0.94      0.94      0.94     50893\n",
      "\n",
      "\t _____________________________________________ \n",
      "\n",
      "\n"
     ]
    },
    {
     "data": {
      "image/png": "[encoded data removed]",
      "text/plain": [
       "<Figure size 720x360 with 1 Axes>"
      ]
     },
     "metadata": {},
     "output_type": "display_data"
    },
    {
     "data": {
      "text/plain": [
       "<Figure size 1080x360 with 0 Axes>"
      ]
     },
     "metadata": {},
     "output_type": "display_data"
    }
   ],
   "source": [
    "show_diagram(hisia_trainer, X_train, y_train, X_test, y_test, compare_test=True)"
   ]
  },
  {
   "cell_type": "code",
   "execution_count": 47,
   "metadata": {},
   "outputs": [],
   "source": [
    "feature_names = hisia_trainer.named_steps['count_verctorizer'].get_feature_names()\n",
    "best_features = [feature_names[i] for i in hisia_trainer.named_steps['feature_selector'].get_support(indices=True)]\n",
    "predictor =  hisia_trainer.named_steps['modified_hubern']"
   ]
  },
  {
   "cell_type": "code",
   "execution_count": 48,
   "metadata": {},
   "outputs": [
    {
     "name": "stdout",
     "output_type": "stream",
     "text": [
      "Showing 100 models learned features for negative and postive decisions\n",
      "______________________________________________________________________\n",
      "\n",
      "\n",
      "\t-2.5134\tdårlig         \t\t2.2176\tgod            \n",
      "\t-1.8454\tikke orden     \t\t2.0373\thurtig         \n",
      "\t-1.7522\tuacceptabel    \t\t2.0333\tsuper          \n",
      "\t-1.7472\telendig        \t\t2.0238\tperfekt        \n",
      "\t-1.6706\tkilometer      \t\t1.9283\tnem            \n",
      "\t-1.6391\tikke god       \t\t1.8499\tfin            \n",
      "\t-1.6088\tførst          \t\t1.8285\tdejlig         \n",
      "\t-1.4937\tforkert        \t\t1.7523\t:-)            \n",
      "\t-1.4503\tlangsom        \t\t1.7110\ttilfreds       \n",
      "\t-1.4139\tikke tilfreds  \t\t1.6985\thurtigt        \n",
      "\t-1.3812\tikke modtage   \t\t1.5544\tfantastisk     \n",
      "\t-1.3790\tbetale         \t\t1.4693\t:)             \n",
      "\t-1.3671\tøv             \t\t1.2569\tsmile          \n",
      "\t-1.3622\tforsøge        \t\t1.2289\tvenlig         \n",
      "\t-1.3486\tuge            \t\t1.2043\tikke dårlig    \n",
      "\t-1.2826\tødelægge       \t\t1.1629\tfremragende    \n",
      "\t-1.2769\t:-(            \t\t1.1304\tingen problem  \n",
      "\t-1.2717\ttrætte         \t\t1.1241\tproblem        \n",
      "\t-1.2614\tsmadre         \t\t1.1052\tle             \n",
      "\t-1.2455\tforsinke       \t\t1.1026\tsætte finger   \n",
      "\t-1.2409\tumulig         \t\t1.0963\ttop            \n",
      "\t-1.2397\tgl             \t\t1.0920\tikke bedre     \n",
      "\t-1.2225\tsmide          \t\t1.0866\thjælpsom       \n",
      "\t-1.2199\tikke           \t\t1.0705\tingen klage    \n",
      "\t-1.1954\tikke anbefale  \t\t1.0479\teffektiv       \n",
      "\t-1.1913\tlang           \t\t0.9992\tbehagelig      \n",
      "\t-1.1913\tikke iorden    \t\t0.9932\tproblemfri     \n",
      "\t-1.1735\tmåtte          \t\t0.9746\tlynhurtig      \n",
      "\t-1.1620\tingen hjælpe   \t\t0.9715\tonfon          \n",
      "\t-1.1556\topsige         \t\t0.9559\tikke gøre      \n",
      "\t-1.1440\tingen god      \t\t0.9401\tkompetent      \n",
      "\t-1.1249\tikke aftalt    \t\t0.9386\tminus          \n",
      "\t-1.1249\tvække          \t\t0.9237\tikke klage     \n",
      "\t-1.1062\tværst          \t\t0.9223\t;-)            \n",
      "\t-1.0969\tskuffe         \t\t0.9209\tprofessionel   \n",
      "\t-1.0843\t:(             \t\t0.9197\tvarm anbefale  \n",
      "\t-1.0810\tsur            \t\t0.8786\tupåklagelig    \n",
      "\t-1.0780\tutilfredsstillende\t\t0.8559\tallerede       \n",
      "\t-1.0774\tlukke          \t\t0.8392\taltid få       \n",
      "\t-1.0466\tpåstå          \t\t0.8379\tselvom ikke    \n",
      "\t-1.0399\tstå            \t\t0.8377\tfungere        \n",
      "\t-1.0384\tgod nok        \t\t0.8262\tsmertefri      \n",
      "\t-1.0348\tforsvinde      \t\t0.8196\tuden problem   \n",
      "\t-1.0308\tingen måde     \t\t0.8169\tpositiv overraske\n",
      "\t-1.0156\tdistributionscenter\t\t0.8061\tug             \n",
      "\t-0.9941\trykke          \t\t0.7928\ttusind takke   \n",
      "\t-0.9916\tikke hjælpe    \t\t0.7856\tklar anbefale  \n",
      "\t-0.9860\tikke få        \t\t0.7849\tpræcis         \n",
      "\t-0.9834\tmåned          \t\t0.7758\tfin behandling \n",
      "\t-0.9763\turimelig       \t\t0.7752\tingen ventetid \n",
      "\t-0.9753\ttage           \t\t0.7700\tpositiv oplevelse\n",
      "\t-0.9731\tvirke ikke     \t\t0.7696\trigtig god     \n",
      "\t-0.9698\tbede           \t\t0.7559\ttid            \n",
      "\t-0.9692\tikke tid       \t\t0.7552\tstraks         \n",
      "\t-0.9582\tikke love      \t\t0.7498\tikke lang      \n",
      "\t-0.9525\thverken        \t\t0.7350\torden          \n",
      "\t-0.9432\tgrin           \t\t0.7331\tkanon          \n",
      "\t-0.9430\trod            \t\t0.7253\thel vej        \n",
      "\t-0.9394\tburde          \t\t0.7231\ttakke god      \n",
      "\t-0.9390\tuprofessionel  \t\t0.7156\tsmule          \n",
      "\t-0.9389\tpludselig      \t\t0.7133\toverskuelig    \n",
      "\t-0.9360\tlatterlig      \t\t0.6947\tuproblematisk  \n",
      "\t-0.9350\tlangsommelig   \t\t0.6850\tikke opleve    \n",
      "\t-0.9342\tundgå          \t\t0.6696\taldrig opleve  \n",
      "\t-0.9326\tikke ok        \t\t0.6289\tingen bemærke  \n",
      "\t-0.9314\tåbenbar        \t\t0.6278\tvelforberedt   \n",
      "\t-0.9303\thule           \t\t0.6239\tgerne igen     \n",
      "\t-0.9293\tspild          \t\t0.6210\tordne          \n",
      "\t-0.9244\thåbløs         \t\t0.6132\taltid god      \n",
      "\t-0.9188\tgebyr          \t\t0.6095\t:o)            \n",
      "\t-0.9175\tligge          \t\t0.6063\thave           \n",
      "\t-0.9159\tikke overholde \t\t0.6044\tløbe           \n",
      "\t-0.9137\tnægte          \t\t0.5998\ttilfredshed    \n",
      "\t-0.9113\tubehøvlet      \t\t0.5998\thave dårlig    \n",
      "\t-0.9062\tskod           \t\t0.5894\tuden skade     \n",
      "\t-0.9019\taldrig         \t\t0.5820\taftalt         \n",
      "\t-0.9004\tingen ankomme  \t\t0.5788\thøflig         \n",
      "\t-0.8973\tommer          \t\t0.5785\tvarm           \n",
      "\t-0.8914\tlang tid       \t\t0.5762\tspørgsmål      \n",
      "\t-0.8820\tstadig ikke    \t\t0.5733\tenkelt         \n",
      "\t-0.8783\tskidt          \t\t0.5660\tgod information\n",
      "\t-0.8775\tstykke         \t\t0.5645\tingen bøvle    \n",
      "\t-0.8770\tende           \t\t0.5595\tforvente       \n",
      "\t-0.8760\tforgæves       \t\t0.5587\tingen forbeholde\n",
      "\t-0.8757\tikke dør       \t\t0.5440\tbillig         \n",
      "\t-0.8753\tsløv           \t\t0.5364\thånd           \n",
      "\t-0.8707\thalvdel        \t\t0.5347\terfaring       \n",
      "\t-0.8703\tinkompetent    \t\t0.5289\tvirkelig god   \n",
      "\t-0.8692\tikke styr      \t\t0.5243\taften          \n",
      "\t-0.8661\tirriterende    \t\t0.5215\tvare           \n",
      "\t-0.8653\tforfærdelig    \t\t0.5192\tbekvem         \n",
      "\t-0.8611\tsnyde          \t\t0.5106\ttid uden       \n",
      "\t-0.8579\tstige          \t\t0.5078\thandle         \n",
      "\t-0.8533\tspilde         \t\t0.5067\tparre          \n",
      "\t-0.8492\tindhold        \t\t0.5059\tiorden         \n",
      "\t-0.8481\tlaang          \t\t0.5037\taltid tid      \n",
      "\t-0.8478\tbeskadige      \t\t0.4965\tnet            \n",
      "\t-0.8442\tikke rigtig    \t\t0.4950\tsikker         \n",
      "\t-0.8426\theld           \t\t0.4945\ttilføje        \n",
      "\t-0.8418\tuseriøs        \t\t0.4941\ttryg           \n"
     ]
    }
   ],
   "source": [
    "N = 100\n",
    "print(f'Showing {N} models learned features for negative and postive decisions')\n",
    "print('_'*70)\n",
    "print('\\n')\n",
    "show_most_informative_features(best_features, predictor, n=N)"
   ]
  }
 ],
 "metadata": {
  "kernelspec": {
   "display_name": "Hisia",
   "language": "python",
   "name": "hisia"
  },
  "language_info": {
   "codemirror_mode": {
    "name": "ipython",
    "version": 3
   },
   "file_extension": ".py",
   "mimetype": "text/x-python",
   "name": "python",
   "nbconvert_exporter": "python",
   "pygments_lexer": "ipython3",
   "version": "3.7.6"
  }
 },
 "nbformat": 4,
 "nbformat_minor": 4
}
