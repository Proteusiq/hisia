{
 "cells": [
  {
   "cell_type": "code",
   "execution_count": 23,
   "metadata": {},
   "outputs": [],
   "source": [
    "import sys\n",
    "sys.path.insert(0, '../src/models')"
   ]
  },
  {
   "cell_type": "code",
   "execution_count": 1,
   "metadata": {},
   "outputs": [
    {
     "name": "stdout",
     "output_type": "stream",
     "text": [
      "Prayson W. Daniel \n",
      "last updated: Fri May 29 2020 DST 2020-05-29T12:50:15+02:00\n",
      "\n",
      "CPython 3.7.6\n",
      "IPython 7.14.0\n",
      "\n",
      "pandas 1.0.3\n",
      "numpy 1.18.4\n",
      "matplotlib 3.1.3\n",
      "sklearn 0.23.1\n",
      "lemmy 2.1.0\n",
      "dill 0.3.1.1\n",
      "\n",
      "compiler   : GCC 7.3.0\n",
      "system     : Linux\n",
      "release    : 4.4.0-17763-Microsoft\n",
      "machine    : x86_64\n",
      "processor  : x86_64\n",
      "CPU cores  : 8\n",
      "interpreter: 64bit\n"
     ]
    }
   ],
   "source": [
    "%reload_ext watermark\n",
    "%watermark -uniz --author \"Prayson W. Daniel\" -vm -p pandas,numpy,matplotlib,scikit-learn,lemmy,dill"
   ]
  },
  {
   "cell_type": "code",
   "execution_count": 24,
   "metadata": {},
   "outputs": [],
   "source": [
    "import joblib\n",
    "import re\n",
    "import dill\n",
    "import numpy as np\n",
    "import pandas as pd\n",
    "import matplotlib.pyplot as plt\n",
    "\n",
    "from sklearn.model_selection import train_test_split\n",
    "from sklearn.model_selection import KFold\n",
    "from sklearn.model_selection import cross_val_score\n",
    "from sklearn.feature_extraction.text import CountVectorizer\n",
    "from sklearn.feature_extraction.text import TfidfTransformer\n",
    "from sklearn.feature_extraction.text import TfidfVectorizer\n",
    "\n",
    "\n",
    "from sklearn.feature_selection import SelectKBest, chi2\n",
    "from sklearn.pipeline import Pipeline\n",
    "from sklearn.linear_model import  LogisticRegressionCV\n",
    "import lemmy\n",
    "\n",
    "\n",
    "from helpers import show_diagram, show_most_informative_features"
   ]
  },
  {
   "cell_type": "code",
   "execution_count": 8,
   "metadata": {},
   "outputs": [],
   "source": [
    "%matplotlib inline\n",
    "plt.rcParams['figure.figsize'] = (15,5)\n",
    "plt.style.use('fivethirtyeight')"
   ]
  },
  {
   "cell_type": "code",
   "execution_count": 9,
   "metadata": {},
   "outputs": [],
   "source": [
    "PATH_TO_DATA = '../src/data'\n",
    "STOP_WORDS = joblib.load(f'{PATH_TO_DATA}/stops.pkl')"
   ]
  },
  {
   "cell_type": "code",
   "execution_count": 10,
   "metadata": {},
   "outputs": [],
   "source": [
    "lemmatizer = lemmy.load('da')\n",
    "\n",
    "def tokenizer(blob, stop_words=STOP_WORDS, remove_digits=True):\n",
    "    \n",
    "    if stop_words is None:\n",
    "        stop_words = {}\n",
    "    \n",
    "    blob = blob.lower()\n",
    "    \n",
    "     # eyes [nose] mouth | mouth [nose] eyes pattern\n",
    "    emoticons = r\"(?:[<>]?[:;=8][\\-o\\*\\']?[\\)\\]\\(\\[dDpP/\\:\\}\\{@\\|\\\\]|[\\)\\]\\(\\[dDpP/\\:\\}\\{@\\|\\\\][\\-o\\*\\']?[:;=8][<>]?)\"\n",
    "    emoticon_re = re.compile(emoticons, re.VERBOSE | re.I | re.UNICODE)\n",
    "    \n",
    "    text = re.sub(r'[\\W]+', ' ', blob)\n",
    "    \n",
    "    # remove 3+ repetitive characters i.e. hellllo -> hello, jaaaa -> jaa \n",
    "    repetitions = re.compile(r'(.)\\1{2,}')\n",
    "    text = repetitions.sub(r'\\1\\1', text)\n",
    "    \n",
    "    # remove 2+ repetitive words e.g. hej hej hej -> hej\n",
    "    \n",
    "    repetitions = re.compile(r'\\b(\\w+)\\s+(\\1\\s*)+\\b')\n",
    "    text = repetitions.sub(r'\\1 ', text)\n",
    "    \n",
    "    \n",
    "    # 14år --> 14 år\n",
    "    text = re.sub(r'([0-9]+(\\.[0-9]+)?)', r' \\1 ', text).strip()\n",
    "    \n",
    "    emoji = ''.join(re.findall(emoticon_re, blob))\n",
    "    \n",
    "       \n",
    "    # remove stopwords\n",
    "    text_nostop = [word for word in text.split() if word not in stop_words]\n",
    "    \n",
    "    # tokenization lemmatize\n",
    "    lemmatized_text = [lemmatizer.lemmatize('', word)[-1]  \n",
    "                                 for word in text_nostop]\n",
    "    \n",
    "    remove_stopwords = ' '.join(word for word in lemmatized_text if len(word)>1)\n",
    "    \n",
    "    if remove_digits:\n",
    "        remove_stopwords = re.sub(r'\\b\\d+\\b', '', remove_stopwords)\n",
    "    \n",
    "\n",
    "    # remove extra spaces\n",
    "    remove_stopwords = ' '.join(remove_stopwords .split())\n",
    "    result = f'{remove_stopwords} {emoji}'.encode('utf-8').decode('utf-8')\n",
    "       \n",
    "    \n",
    "    return result.split()"
   ]
  },
  {
   "cell_type": "code",
   "execution_count": 11,
   "metadata": {},
   "outputs": [
    {
     "data": {
      "text/plain": [
       "['vred', 'ikke', ':(']"
      ]
     },
     "execution_count": 11,
     "metadata": {},
     "output_type": "execute_result"
    }
   ],
   "source": [
    "tokenizer('Jeg er vred på, at jeg ikke fik min pakke :(')"
   ]
  },
  {
   "cell_type": "code",
   "execution_count": 12,
   "metadata": {},
   "outputs": [],
   "source": [
    "df = pd.read_json(f'{PATH_TO_DATA}/data.json')"
   ]
  },
  {
   "cell_type": "code",
   "execution_count": 22,
   "metadata": {},
   "outputs": [
    {
     "data": {
      "text/plain": [
       "(254464, 3)"
      ]
     },
     "execution_count": 22,
     "metadata": {},
     "output_type": "execute_result"
    }
   ],
   "source": [
    "df.shape"
   ]
  },
  {
   "cell_type": "code",
   "execution_count": 13,
   "metadata": {},
   "outputs": [],
   "source": [
    " X_train, X_test, y_train, y_test = train_test_split(df['features'], \n",
    "                                                     df['target'],\n",
    "                                                     test_size=.2,\n",
    "                                                     random_state=7,\n",
    "                                                     stratify=df['target'])"
   ]
  },
  {
   "cell_type": "code",
   "execution_count": 14,
   "metadata": {},
   "outputs": [
    {
     "name": "stdout",
     "output_type": "stream",
     "text": [
      "Traing Size: 203571\n",
      "Test Size:    50893\n",
      "\n",
      "Traing Size\n",
      "\tPositive||Negative Samples\n",
      "\t  101785||101786\n",
      "\n",
      "Test Size\n",
      "\tPositive||Negative Samples\n",
      "\t  25447||25446\n"
     ]
    }
   ],
   "source": [
    "print(f'Traing Size: {X_train.shape[0]}\\nTest Size: {X_test.shape[0]:>8}')\n",
    "print(f'\\nTraing Size\\n\\tPositive||Negative Samples\\n\\t  {y_train[y_train==1].shape[0]}||{y_train[y_train==0].shape[0]}')\n",
    "print(f'\\nTest Size\\n\\tPositive||Negative Samples\\n\\t  {y_test[y_test==1].shape[0]}||{y_test[y_test==0].shape[0]}')"
   ]
  },
  {
   "cell_type": "code",
   "execution_count": 15,
   "metadata": {},
   "outputs": [],
   "source": [
    "hisia = Pipeline(steps =[\n",
    "        ('count_verctorizer',  CountVectorizer(ngram_range=(1, 2), \n",
    "                                 max_features=100000,\n",
    "                                 tokenizer=tokenizer, \n",
    "                                 #stop_words=STOP_WORDS\n",
    "                                )\n",
    "        ),\n",
    "        ('feature_selector', SelectKBest(chi2, k=5000)),\n",
    "        ('tfidf', TfidfTransformer(sublinear_tf=True)),\n",
    "        ('logistic_regression', LogisticRegressionCV(cv=5,\n",
    "                                                    solver='saga',\n",
    "                                                    scoring='accuracy',\n",
    "                                                    n_jobs=-1, \n",
    "                                                    verbose=0))\n",
    "])"
   ]
  },
  {
   "cell_type": "code",
   "execution_count": 16,
   "metadata": {},
   "outputs": [
    {
     "name": "stderr",
     "output_type": "stream",
     "text": [
      "/home/pwd/miniconda3/envs/hisia/lib/python3.7/site-packages/sklearn/linear_model/_sag.py:330: ConvergenceWarning: The max_iter was reached which means the coef_ did not converge\n",
      "  \"the coef_ did not converge\", ConvergenceWarning)\n",
      "/home/pwd/miniconda3/envs/hisia/lib/python3.7/site-packages/sklearn/linear_model/_sag.py:330: ConvergenceWarning: The max_iter was reached which means the coef_ did not converge\n",
      "  \"the coef_ did not converge\", ConvergenceWarning)\n",
      "/home/pwd/miniconda3/envs/hisia/lib/python3.7/site-packages/sklearn/linear_model/_sag.py:330: ConvergenceWarning: The max_iter was reached which means the coef_ did not converge\n",
      "  \"the coef_ did not converge\", ConvergenceWarning)\n",
      "/home/pwd/miniconda3/envs/hisia/lib/python3.7/site-packages/sklearn/linear_model/_sag.py:330: ConvergenceWarning: The max_iter was reached which means the coef_ did not converge\n",
      "  \"the coef_ did not converge\", ConvergenceWarning)\n",
      "/home/pwd/miniconda3/envs/hisia/lib/python3.7/site-packages/sklearn/linear_model/_sag.py:330: ConvergenceWarning: The max_iter was reached which means the coef_ did not converge\n",
      "  \"the coef_ did not converge\", ConvergenceWarning)\n",
      "/home/pwd/miniconda3/envs/hisia/lib/python3.7/site-packages/sklearn/linear_model/_sag.py:330: ConvergenceWarning: The max_iter was reached which means the coef_ did not converge\n",
      "  \"the coef_ did not converge\", ConvergenceWarning)\n",
      "/home/pwd/miniconda3/envs/hisia/lib/python3.7/site-packages/sklearn/linear_model/_sag.py:330: ConvergenceWarning: The max_iter was reached which means the coef_ did not converge\n",
      "  \"the coef_ did not converge\", ConvergenceWarning)\n",
      "/home/pwd/miniconda3/envs/hisia/lib/python3.7/site-packages/sklearn/linear_model/_sag.py:330: ConvergenceWarning: The max_iter was reached which means the coef_ did not converge\n",
      "  \"the coef_ did not converge\", ConvergenceWarning)\n",
      "/home/pwd/miniconda3/envs/hisia/lib/python3.7/site-packages/sklearn/linear_model/_sag.py:330: ConvergenceWarning: The max_iter was reached which means the coef_ did not converge\n",
      "  \"the coef_ did not converge\", ConvergenceWarning)\n",
      "/home/pwd/miniconda3/envs/hisia/lib/python3.7/site-packages/sklearn/linear_model/_sag.py:330: ConvergenceWarning: The max_iter was reached which means the coef_ did not converge\n",
      "  \"the coef_ did not converge\", ConvergenceWarning)\n",
      "/home/pwd/miniconda3/envs/hisia/lib/python3.7/site-packages/sklearn/linear_model/_sag.py:330: ConvergenceWarning: The max_iter was reached which means the coef_ did not converge\n",
      "  \"the coef_ did not converge\", ConvergenceWarning)\n",
      "/home/pwd/miniconda3/envs/hisia/lib/python3.7/site-packages/sklearn/linear_model/_sag.py:330: ConvergenceWarning: The max_iter was reached which means the coef_ did not converge\n",
      "  \"the coef_ did not converge\", ConvergenceWarning)\n"
     ]
    },
    {
     "name": "stdout",
     "output_type": "stream",
     "text": [
      "CPU times: user 6min 11s, sys: 2.97 s, total: 6min 14s\n",
      "Wall time: 1min 57s\n"
     ]
    },
    {
     "data": {
      "text/plain": [
       "Pipeline(steps=[('count_verctorizer',\n",
       "                 CountVectorizer(max_features=100000, ngram_range=(1, 2),\n",
       "                                 tokenizer=<function tokenizer at 0x7fb3adcfa050>)),\n",
       "                ('feature_selector',\n",
       "                 SelectKBest(k=5000,\n",
       "                             score_func=<function chi2 at 0x7fb3b076b5f0>)),\n",
       "                ('tfidf', TfidfTransformer(sublinear_tf=True)),\n",
       "                ('logistic_regression',\n",
       "                 LogisticRegressionCV(cv=5, n_jobs=-1, scoring='accuracy',\n",
       "                                      solver='saga'))])"
      ]
     },
     "execution_count": 16,
     "metadata": {},
     "output_type": "execute_result"
    }
   ],
   "source": [
    "%%time\n",
    "hisia.fit(X_train, y_train)"
   ]
  },
  {
   "cell_type": "code",
   "execution_count": 17,
   "metadata": {},
   "outputs": [
    {
     "data": {
      "text/plain": [
       "0.9364352661466213"
      ]
     },
     "execution_count": 17,
     "metadata": {},
     "output_type": "execute_result"
    }
   ],
   "source": [
    "hisia.score(X_test, y_test)"
   ]
  },
  {
   "cell_type": "code",
   "execution_count": 18,
   "metadata": {},
   "outputs": [
    {
     "name": "stdout",
     "output_type": "stream",
     "text": [
      "Classification Report\n",
      "\t _____________________________________________\n",
      "              precision    recall  f1-score   support\n",
      "\n",
      "    Negative       0.93      0.94      0.94     25446\n",
      "    Positive       0.94      0.93      0.94     25447\n",
      "\n",
      "    accuracy                           0.94     50893\n",
      "   macro avg       0.94      0.94      0.94     50893\n",
      "weighted avg       0.94      0.94      0.94     50893\n",
      "\n",
      "\t _____________________________________________ \n",
      "\n",
      "\n"
     ]
    },
    {
     "data": {
      "image/png": "[encoded data removed]",
      "text/plain": [
       "<Figure size 720x360 with 1 Axes>"
      ]
     },
     "metadata": {},
     "output_type": "display_data"
    }
   ],
   "source": [
    "show_diagram(hisia, X_train, y_train, X_test, y_test, compare_test=True)"
   ]
  },
  {
   "cell_type": "code",
   "execution_count": 19,
   "metadata": {},
   "outputs": [],
   "source": [
    "feature_names = hisia.named_steps['count_verctorizer'].get_feature_names()\n",
    "best_features = [feature_names[i] for i in hisia.named_steps['feature_selector'].get_support(indices=True)]\n",
    "predictor =  hisia.named_steps['logistic_regression']"
   ]
  },
  {
   "cell_type": "code",
   "execution_count": 20,
   "metadata": {},
   "outputs": [
    {
     "name": "stdout",
     "output_type": "stream",
     "text": [
      "Showing 100 models learned features for negative and postive decisions\n",
      "______________________________________________________________________\n",
      "\n",
      "\n",
      "\t-9.4246\tdårlig         \t\t7.7718\tsuper          \n",
      "\t-8.7937\tikke orden     \t\t7.5769\tperfekt        \n",
      "\t-8.4744\tuacceptabel    \t\t7.4488\tgod            \n",
      "\t-7.9517\telendig        \t\t7.0411\thurtig         \n",
      "\t-6.7636\tkilometer      \t\t6.9701\t:-)            \n",
      "\t-6.2875\tikke god       \t\t6.9019\tnem            \n",
      "\t-6.0995\tommer          \t\t6.5670\tdejlig         \n",
      "\t-6.0491\tikke iorden    \t\t6.2889\tfin            \n",
      "\t-5.9278\tikke anbefale  \t\t6.1522\tfremragende    \n",
      "\t-5.9138\tikke modtage   \t\t6.0947\ttilfreds       \n",
      "\t-5.6820\topsige         \t\t6.0687\tsætte finger   \n",
      "\t-5.6685\tøv             \t\t5.9166\thurtigt        \n",
      "\t-5.5796\tingen hjælpe   \t\t5.7746\tfantastisk     \n",
      "\t-5.4783\tikke tilfreds  \t\t5.6395\t:)             \n",
      "\t-5.4253\tlatterlig      \t\t5.4770\tingen problem  \n",
      "\t-5.4076\tsmadre         \t\t5.2711\tingen klage    \n",
      "\t-5.3187\tnægte          \t\t5.2019\tvarm anbefale  \n",
      "\t-5.2504\tlangsom        \t\t5.0004\tsmertefri      \n",
      "\t-5.2456\tutilfredsstillende\t\t4.8064\tproblemfri     \n",
      "\t-5.2101\tpåstå          \t\t4.5183\teffektiv       \n",
      "\t-5.1679\tværst          \t\t4.4744\tsmile          \n",
      "\t-5.1676\tingen god      \t\t4.3862\tbehagelig      \n",
      "\t-5.1450\tikke acceptabel\t\t4.3080\tlynhurtig      \n",
      "\t-5.0735\tikke overholde \t\t4.2960\tklar anbefale  \n",
      "\t-5.0590\turimelig       \t\t4.2898\tprofessionel   \n",
      "\t-5.0290\tforkert        \t\t4.2872\tvenlig         \n",
      "\t-5.0091\tsmide          \t\t4.2749\tminus          \n",
      "\t-4.9477\tgrin           \t\t4.2669\ttakke god      \n",
      "\t-4.9393\t:-(            \t\t4.2566\ttop            \n",
      "\t-4.9337\tstadig ikke    \t\t4.2076\tkompetent      \n",
      "\t-4.9327\tgl             \t\t4.1509\tle             \n",
      "\t-4.8782\tikke hjælpe    \t\t4.1182\t;-)            \n",
      "\t-4.8505\tuprofessionel  \t\t4.1058\tpositiv oplevelse\n",
      "\t-4.8026\tinkompetent    \t\t4.0622\taltid få       \n",
      "\t-4.7236\tafvise         \t\t4.0110\tikke bedre     \n",
      "\t-4.7226\tødelægge       \t\t3.9938\ttusind takke   \n",
      "\t-4.6657\ttrætte         \t\t3.9578\t:o)            \n",
      "\t-4.6417\tingen måde     \t\t3.9402\thjælpsom       \n",
      "\t-4.6300\tal kritik      \t\t3.8802\tfin behandling \n",
      "\t-4.6295\tførst          \t\t3.8543\tgerne igen     \n",
      "\t-4.6130\tsur            \t\t3.7755\tkanon          \n",
      "\t-4.5711\tvække          \t\t3.7392\tuproblematisk  \n",
      "\t-4.5630\tikke styr      \t\t3.6290\tupåklagelig    \n",
      "\t-4.5442\t:(             \t\t3.6138\tuden problem   \n",
      "\t-4.5398\tingen hørt     \t\t3.5643\tug             \n",
      "\t-4.5392\theld           \t\t3.5231\tingen ventetid \n",
      "\t-4.5203\tuge            \t\t3.5085\tallerede       \n",
      "\t-4.5039\tdistributionscenter\t\t3.4960\tikke nemmere   \n",
      "\t-4.4999\tuseriøs        \t\t3.4892\tvelforberedt   \n",
      "\t-4.4858\tbrøndby        \t\t3.4481\t;)             \n",
      "\t-4.4760\tikke stol      \t\t3.4130\tikke dårlig    \n",
      "\t-4.4606\tumulig         \t\t3.3886\tselvom ikke    \n",
      "\t-4.4605\tubehøvlet      \t\t3.3839\tproblem        \n",
      "\t-4.4563\tholder ikke    \t\t3.3384\tsmule          \n",
      "\t-4.4521\tflabet         \t\t3.3096\thave brug      \n",
      "\t-4.4041\tvirke ikke     \t\t3.3015\tikke mindst    \n",
      "\t-4.3936\tforsøge        \t\t3.2789\tuden skade     \n",
      "\t-4.3878\tskod           \t\t3.2780\tikke lang      \n",
      "\t-4.3844\tførst onsdag   \t\t3.2634\tikke klage     \n",
      "\t-4.3787\tløgn           \t\t3.2511\torden          \n",
      "\t-4.3716\tgentagen       \t\t3.2092\tonfon          \n",
      "\t-4.3335\tspilde         \t\t3.1973\taltid god      \n",
      "\t-4.3096\tganske enkelt  \t\t3.1928\tfungere        \n",
      "\t-4.3081\tgod nok        \t\t3.1664\tikke gøre      \n",
      "\t-4.2713\tforsinke       \t\t3.1271\tstraks         \n",
      "\t-4.2619\tikke tilfredsstille\t\t3.0475\ttid            \n",
      "\t-4.2583\tingen ankomme  \t\t2.9591\trigtig god     \n",
      "\t-4.2514\tlaang          \t\t2.9373\taltid sød      \n",
      "\t-4.2495\tmangel         \t\t2.9207\tpræcis         \n",
      "\t-4.2489\tgod forstå     \t\t2.9020\toverskuelig    \n",
      "\t-4.2129\tstadig ingen   \t\t2.9002\tordne          \n",
      "\t-4.2043\tubrugelig      \t\t2.8573\thel vej        \n",
      "\t-4.1514\tingen information\t\t2.8471\tfair           \n",
      "\t-4.1270\tamatør         \t\t2.8056\tnem finde      \n",
      "\t-4.1247\tlort           \t\t2.7918\tgrund ikke     \n",
      "\t-4.1215\tingen meddelelse\t\t2.7604\ttilfredshed    \n",
      "\t-4.1154\tforsvinde      \t\t2.7179\tanbefale virksomhed\n",
      "\t-4.1130\tskuffe         \t\t2.7027\thave dårlig    \n",
      "\t-4.1002\tdække ikke     \t\t2.6849\tingen forbeholde\n",
      "\t-4.0996\tmast           \t\t2.6753\tingen bemærke  \n",
      "\t-4.0923\tikke tid       \t\t2.6337\ttid uden       \n",
      "\t-4.0784\taflevere forkert\t\t2.5918\tsøndag tirsdag \n",
      "\t-4.0773\tutroværdig     \t\t2.5768\toverraske hurtig\n",
      "\t-4.0753\tringer         \t\t2.5406\tførste omgang  \n",
      "\t-4.0663\tingen info     \t\t2.5392\taltid hurtig   \n",
      "\t-4.0455\tbetale         \t\t2.5370\taltid tid      \n",
      "\t-4.0337\tikke dække     \t\t2.5332\tvarm           \n",
      "\t-4.0070\trykke          \t\t2.5298\tcirka uge      \n",
      "\t-4.0024\tikke engang    \t\t2.4943\tgod information\n",
      "\t-3.9957\tkursus         \t\t2.4924\tgod rådgivning \n",
      "\t-3.9929\tbetale dør     \t\t2.4815\tslinger        \n",
      "\t-3.9745\tikke love      \t\t2.4617\thøflig         \n",
      "\t-3.9524\tarrogant       \t\t2.4582\tvirkelig god   \n",
      "\t-3.9517\tføje           \t\t2.4391\taldrig opleve  \n",
      "\t-3.9409\tspild          \t\t2.4033\tikke smide     \n",
      "\t-3.9393\tforstå god     \t\t2.3931\tproblem overhoved\n",
      "\t-3.9356\tligeglad       \t\t2.3612\tbetale måned   \n",
      "\t-3.9263\tsørgelig       \t\t2.3603\trette          \n",
      "\t-3.9211\tdårlig stil    \t\t2.3480\tgod venlig     \n",
      "\t-3.9211\tmåtte          \t\t2.3438\tfølge hel      \n"
     ]
    }
   ],
   "source": [
    "N = 100\n",
    "print(f'Showing {N} models learned features for negative and postive decisions')\n",
    "print('_'*70)\n",
    "print('\\n')\n",
    "show_most_informative_features(best_features, predictor, n=N)"
   ]
  },
  {
   "cell_type": "code",
   "execution_count": 21,
   "metadata": {},
   "outputs": [],
   "source": [
    "def persist_model(name,clf=None, method='load'):\n",
    "    'Pass in the file name, object to be saved or loaded'\n",
    "    \n",
    "    if method == 'load':\n",
    "        with open(name,'rb') as f:\n",
    "            return dill.load(f)\n",
    "    elif method == 'save':\n",
    "        print(f'[+] Persisting {name} ...')\n",
    "        if clf is None:\n",
    "            raise ValueError('Pass Model/Pipeline/Transformation')\n",
    "        with open(name,'wb') as f:\n",
    "            dill.dump(clf,f)\n",
    "            print(f'[+] Persistence Complete. Model {name} is saved')\n",
    "    else:\n",
    "        raise ValeuError('Wrong arguments')"
   ]
  },
  {
   "cell_type": "code",
   "execution_count": 61,
   "metadata": {},
   "outputs": [
    {
     "name": "stdout",
     "output_type": "stream",
     "text": [
      "[+] Persisting base_model.pkl ...\n",
      "[+] Persistence Complete. Model base_model.pkl is saved\n"
     ]
    }
   ],
   "source": [
    "persist_model('base_model.pkl', clf=hisia, method='save')"
   ]
  },
  {
   "cell_type": "code",
   "execution_count": 26,
   "metadata": {},
   "outputs": [
    {
     "data": {
      "text/plain": [
       "array([0])"
      ]
     },
     "execution_count": 26,
     "metadata": {},
     "output_type": "execute_result"
    }
   ],
   "source": [
    "hisia.predict(['Jeg er vred på, at jeg ikke fik min pakke :('])"
   ]
  },
  {
   "cell_type": "code",
   "execution_count": 28,
   "metadata": {},
   "outputs": [],
   "source": [
    "res = hisia.predict_proba(['Jeg er vred på, at jeg ikke fik min pakke :('])"
   ]
  },
  {
   "cell_type": "code",
   "execution_count": 32,
   "metadata": {},
   "outputs": [],
   "source": [
    "df = pd.DataFrame(res)"
   ]
  },
  {
   "cell_type": "code",
   "execution_count": 36,
   "metadata": {},
   "outputs": [],
   "source": [
    "df['sentiment'] = np.where(df[0] > .5, 'negative', 'positive')"
   ]
  },
  {
   "cell_type": "code",
   "execution_count": 37,
   "metadata": {},
   "outputs": [
    {
     "data": {
      "text/html": [
       "<div>\n",
       "<style scoped>\n",
       "    .dataframe tbody tr th:only-of-type {\n",
       "        vertical-align: middle;\n",
       "    }\n",
       "\n",
       "    .dataframe tbody tr th {\n",
       "        vertical-align: top;\n",
       "    }\n",
       "\n",
       "    .dataframe thead th {\n",
       "        text-align: right;\n",
       "    }\n",
       "</style>\n",
       "<table border=\"1\" class=\"dataframe\">\n",
       "  <thead>\n",
       "    <tr style=\"text-align: right;\">\n",
       "      <th></th>\n",
       "      <th>0</th>\n",
       "      <th>1</th>\n",
       "      <th>sentiment</th>\n",
       "    </tr>\n",
       "  </thead>\n",
       "  <tbody>\n",
       "    <tr>\n",
       "      <th>0</th>\n",
       "      <td>0.968012</td>\n",
       "      <td>0.031988</td>\n",
       "      <td>negative</td>\n",
       "    </tr>\n",
       "  </tbody>\n",
       "</table>\n",
       "</div>"
      ],
      "text/plain": [
       "          0         1 sentiment\n",
       "0  0.968012  0.031988  negative"
      ]
     },
     "execution_count": 37,
     "metadata": {},
     "output_type": "execute_result"
    }
   ],
   "source": []
  },
  {
   "cell_type": "code",
   "execution_count": 48,
   "metadata": {},
   "outputs": [],
   "source": [
    "df.columns = ['negative_probability','positive_probability','sentiment']"
   ]
  },
  {
   "cell_type": "code",
   "execution_count": 38,
   "metadata": {},
   "outputs": [],
   "source": [
    "from collections import namedtuple"
   ]
  },
  {
   "cell_type": "code",
   "execution_count": 39,
   "metadata": {},
   "outputs": [],
   "source": [
    "Sentiment = namedtuple('Sentiment', ['sentiment','positive_probability', 'negative_probability'])"
   ]
  },
  {
   "cell_type": "code",
   "execution_count": 41,
   "metadata": {},
   "outputs": [
    {
     "data": {
      "text/html": [
       "<div>\n",
       "<style scoped>\n",
       "    .dataframe tbody tr th:only-of-type {\n",
       "        vertical-align: middle;\n",
       "    }\n",
       "\n",
       "    .dataframe tbody tr th {\n",
       "        vertical-align: top;\n",
       "    }\n",
       "\n",
       "    .dataframe thead th {\n",
       "        text-align: right;\n",
       "    }\n",
       "</style>\n",
       "<table border=\"1\" class=\"dataframe\">\n",
       "  <thead>\n",
       "    <tr style=\"text-align: right;\">\n",
       "      <th></th>\n",
       "      <th>negative</th>\n",
       "      <th>positive</th>\n",
       "      <th>sentiment</th>\n",
       "    </tr>\n",
       "  </thead>\n",
       "  <tbody>\n",
       "    <tr>\n",
       "      <th>0</th>\n",
       "      <td>0.968012</td>\n",
       "      <td>0.031988</td>\n",
       "      <td>negative</td>\n",
       "    </tr>\n",
       "  </tbody>\n",
       "</table>\n",
       "</div>"
      ],
      "text/plain": [
       "   negative  positive sentiment\n",
       "0  0.968012  0.031988  negative"
      ]
     },
     "execution_count": 41,
     "metadata": {},
     "output_type": "execute_result"
    }
   ],
   "source": [
    "df"
   ]
  },
  {
   "cell_type": "code",
   "execution_count": 52,
   "metadata": {},
   "outputs": [],
   "source": [
    "for _, item in df.to_dict(orient='index').values():\n",
    "    k = Sentiment(**item)"
   ]
  },
  {
   "cell_type": "code",
   "execution_count": 65,
   "metadata": {},
   "outputs": [],
   "source": [
    "b = Sentiment(**df.round(3).to_dict(orient='index')[0])"
   ]
  },
  {
   "cell_type": "code",
   "execution_count": 69,
   "metadata": {},
   "outputs": [
    {
     "data": {
      "text/plain": [
       "__main__.Sentiment"
      ]
     },
     "execution_count": 69,
     "metadata": {},
     "output_type": "execute_result"
    }
   ],
   "source": [
    "type(b)"
   ]
  },
  {
   "cell_type": "code",
   "execution_count": 72,
   "metadata": {},
   "outputs": [
    {
     "data": {
      "text/plain": [
       "Sentiment(sentiment='negative', positive_probability=0.032, negative_probability=0.968)"
      ]
     },
     "execution_count": 72,
     "metadata": {},
     "output_type": "execute_result"
    }
   ],
   "source": [
    "b"
   ]
  },
  {
   "cell_type": "code",
   "execution_count": null,
   "metadata": {},
   "outputs": [],
   "source": []
  }
 ],
 "metadata": {
  "kernelspec": {
   "display_name": "Hisia",
   "language": "python",
   "name": "hisia"
  },
  "language_info": {
   "codemirror_mode": {
    "name": "ipython",
    "version": 3
   },
   "file_extension": ".py",
   "mimetype": "text/x-python",
   "name": "python",
   "nbconvert_exporter": "python",
   "pygments_lexer": "ipython3",
   "version": "3.7.6"
  }
 },
 "nbformat": 4,
 "nbformat_minor": 4
}
