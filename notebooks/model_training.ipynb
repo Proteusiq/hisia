{
 "cells": [
  {
   "cell_type": "markdown",
   "metadata": {},
   "source": [
    "## Interactive Model Training \n",
    "Run the cells to reproduce the results\n",
    "\n",
    "### Data and Models Used in Hisia\n",
    "\n",
    "**Data:** 2016 TrustPilot's 254,464 Danish reviews' body and stars and [8 fake reviews]*20 see notes for explanation.<br>\n",
    "&ensp; _Update_: 2021-10-02: Political Data from [Sentiment Analysis on Comments from Danish Political Articles on Social Media](https://github.com/steffan267/Sentiment-Analysis-on-Danish-Social-Media)\n",
    "\n",
    "**Models**<br>\n",
    "Hisia, _LogisticRegression_ with SAGA, a variant of Stochastic Average Gradient (SAG), as solver. L2 penalty was select for base model. Test score **accurace is ca. 93%** and **recall of 93%**. SAGA is faster solver for large datasets (both rows and columns wise). As stochastic gradient, memory of previous grdient is incorporated/feed-forward to achieve faster convergence rate. Seeds of 42 was set in data split, and 42 in model for reproducibility.\n",
    "\n",
    "HisiaTrain, _SGDClassifier_, Stochastic Gradient Descent learner with smooth loss 'modified_huber as loss function and L2 penalty. Test score **accurance  94%** and **recall of 94%**. SGDClassifier was select because of partial_fit. It allows batch/online training.\n",
    "\n",
    "**Note:** This score reflects models in regards to TrustPilot reviews style of writing.<b>\n",
    " >8*10 fake reviews. TrustPilot reviews are directed toward products and services. Words like 'elsker'(love) or 'hader'(hate) are rarely used. To make sure the model learns such relationship, I added 8 reviews and duplicated them 10 times. This new sentences did not increase or decrease the model accurance but added correct coeffient of love, hate and (ikke dårligt) not bad."
   ]
  },
  {
   "cell_type": "code",
   "execution_count": 3,
   "metadata": {},
   "outputs": [
    {
     "name": "stdout",
     "output_type": "stream",
     "text": [
      "Author: Author Prayson W. Daniel\n",
      "\n",
      "Last updated: 2021-10-02T11:29:22.652215+02:00\n",
      "\n",
      "Python implementation: CPython\n",
      "Python version       : 3.7.11\n",
      "IPython version      : 7.27.0\n",
      "\n",
      "pandas      : 1.3.3\n",
      "numpy       : 1.20.3\n",
      "matplotlib  : 3.4.2\n",
      "scikit-learn: 1.0\n",
      "lemmy       : 2.1.0\n",
      "dill        : 0.3.4\n",
      "\n",
      "Compiler    : GCC 7.5.0\n",
      "OS          : Linux\n",
      "Release     : 5.4.0-86-generic\n",
      "Machine     : x86_64\n",
      "Processor   : x86_64\n",
      "CPU cores   : 12\n",
      "Architecture: 64bit\n",
      "\n"
     ]
    }
   ],
   "source": [
    "%reload_ext watermark\n",
    "%watermark -uniz --author \"Author Prayson W. Daniel\" -vm -p pandas,numpy,matplotlib,scikit-learn,lemmy,dill"
   ]
  },
  {
   "cell_type": "code",
   "execution_count": 113,
   "metadata": {},
   "outputs": [],
   "source": [
    "from collections import namedtuple\n",
    "import joblib\n",
    "import re\n",
    "from pathlib import Path\n",
    "\n",
    "import dill\n",
    "import lemmy"
   ]
  },
  {
   "cell_type": "code",
   "execution_count": 8,
   "metadata": {},
   "outputs": [],
   "source": [
    "import numpy as np\n",
    "import pandas as pd\n",
    "import matplotlib.pyplot as plt\n",
    "from pathlib import Path\n",
    "from sklearn.feature_extraction.text import CountVectorizer\n",
    "from sklearn.feature_extraction.text import TfidfTransformer\n",
    "from sklearn.feature_selection import chi2\n",
    "from sklearn.feature_selection import SelectKBest\n",
    "from sklearn.model_selection import train_test_split\n",
    "from sklearn.pipeline import Pipeline\n",
    "from sklearn.linear_model import LogisticRegressionCV\n",
    "from loguru import logger"
   ]
  },
  {
   "cell_type": "code",
   "execution_count": 40,
   "metadata": {},
   "outputs": [],
   "source": [
    "from helpers import show_diagram\n",
    "from helpers import show_most_informative_features"
   ]
  },
  {
   "cell_type": "code",
   "execution_count": 6,
   "metadata": {},
   "outputs": [],
   "source": [
    "%matplotlib inline\n",
    "plt.rcParams['figure.figsize'] = (15,5)\n",
    "plt.style.use('fivethirtyeight')"
   ]
  },
  {
   "cell_type": "markdown",
   "metadata": {},
   "source": [
    "This stops were custom made from both unknown Danish stops words and products and services related words such as delivery, package, post office."
   ]
  },
  {
   "cell_type": "code",
   "execution_count": 23,
   "metadata": {},
   "outputs": [],
   "source": [
    "PATH_TO_DATA = '../data'\n",
    "PATH_TO_STOPWORDS = '../hisia/models/data'\n",
    "STOP_WORDS = joblib.load(f'{PATH_TO_STOPWORDS}/stops.pkl')"
   ]
  },
  {
   "cell_type": "markdown",
   "metadata": {},
   "source": [
    "The tokenizer separates emojis from the words, removes digits, repetive words and stop words and lemmatize words"
   ]
  },
  {
   "cell_type": "code",
   "execution_count": 46,
   "metadata": {},
   "outputs": [],
   "source": [
    "lemmatizer = lemmy.load('da')\n",
    "\n",
    "\n",
    "# Add more stopwords\n",
    "STOP_WORDS.update({\n",
    "    \"kilometer\",\n",
    "})"
   ]
  },
  {
   "cell_type": "code",
   "execution_count": 48,
   "metadata": {},
   "outputs": [
    {
     "data": {
      "text/plain": [
       "True"
      ]
     },
     "execution_count": 48,
     "metadata": {},
     "output_type": "execute_result"
    }
   ],
   "source": [
    "\"kilometer\" in STOP_WORDS"
   ]
  },
  {
   "cell_type": "code",
   "execution_count": 25,
   "metadata": {},
   "outputs": [],
   "source": [
    "def tokenizer(blob, stop_words=STOP_WORDS, remove_digits=True):\n",
    "    \n",
    "    if stop_words is None:\n",
    "        stop_words = {}\n",
    "    \n",
    "    blob = blob.lower()\n",
    "    \n",
    "     # eyes [nose] mouth | mouth [nose] eyes pattern\n",
    "    emoticons = r\"(?:[<>]?[:;=8][\\-o\\*\\']?[\\)\\]\\(\\[dDpP/\\:\\}\\{@\\|\\\\]|[\\)\\]\\(\\[dDpP/\\:\\}\\{@\\|\\\\][\\-o\\*\\']?[:;=8][<>]?)\"\n",
    "    emoticon_re = re.compile(emoticons, re.VERBOSE | re.I | re.UNICODE)\n",
    "    \n",
    "    text = re.sub(r'[\\W]+', ' ', blob)\n",
    "    \n",
    "    # remove 3+ repetitive characters i.e. hellllo -> hello, jaaaa -> jaa \n",
    "    repetitions = re.compile(r'(.)\\1{2,}')\n",
    "    text = repetitions.sub(r'\\1\\1', text)\n",
    "    \n",
    "    # remove 2+ repetitive words e.g. hej hej hej -> hej\n",
    "    \n",
    "    repetitions = re.compile(r'\\b(\\w+)\\s+(\\1\\s*)+\\b')\n",
    "    text = repetitions.sub(r'\\1 ', text)\n",
    "    \n",
    "    \n",
    "    # 14år --> 14 år\n",
    "    text = re.sub(r'([0-9]+(\\.[0-9]+)?)', r' \\1 ', text).strip()\n",
    "    \n",
    "    emoji = ''.join(re.findall(emoticon_re, blob))\n",
    "    \n",
    "       \n",
    "    # remove stopwords\n",
    "    text_nostop = [word for word in text.split() if word not in stop_words]\n",
    "    \n",
    "    # tokenization lemmatize\n",
    "    lemmatized_text = [lemmatizer.lemmatize('', word)[-1]  \n",
    "                                 for word in text_nostop]\n",
    "    \n",
    "    remove_stopwords = ' '.join(word for word in lemmatized_text if len(word)>1)\n",
    "    \n",
    "    if remove_digits:\n",
    "        remove_stopwords = re.sub(r'\\b\\d+\\b', '', remove_stopwords)\n",
    "    \n",
    "\n",
    "    # remove extra spaces\n",
    "    remove_stopwords = ' '.join(remove_stopwords .split())\n",
    "    result = f'{remove_stopwords} {emoji}'.encode('utf-8').decode('utf-8')\n",
    "       \n",
    "    \n",
    "    return result.split()"
   ]
  },
  {
   "cell_type": "code",
   "execution_count": 21,
   "metadata": {},
   "outputs": [
    {
     "data": {
      "text/plain": [
       "['vred', 'ikke', ':(']"
      ]
     },
     "execution_count": 21,
     "metadata": {},
     "output_type": "execute_result"
    }
   ],
   "source": [
    "tokenizer('Jeg er vred på, at jeg ikke fik min pakke :( kilometer')"
   ]
  },
  {
   "cell_type": "code",
   "execution_count": 26,
   "metadata": {},
   "outputs": [],
   "source": [
    "df = pd.read_json(f'{PATH_TO_DATA}/data.json')"
   ]
  },
  {
   "cell_type": "markdown",
   "metadata": {},
   "source": [
    "Fake reviews to teach our model the missing relationsh that is not found in TP reviews"
   ]
  },
  {
   "cell_type": "code",
   "execution_count": 27,
   "metadata": {},
   "outputs": [],
   "source": [
    "dt = pd.DataFrame([('men elsker elsker', 1,5), \n",
    "                   ('elsker det ikke', 0, 1), \n",
    "                   ('ikke dårligt', 1, 5),\n",
    "                   ('elsker skat, kæreste, tilbedte, dyrebare, elskling, darling, hjerte, hjertenskær; ven; veninde', 1, 5),\n",
    "                   ('dårlig: syg, sløj, utilpas, ilde tilpas, upasselig, snavs, indisponeret;'\n",
    "                    'sygelig, usund, ond, slet; arg, uheldig, umulig, elendig, under al kritik,'\n",
    "                    'dødssyg, skidt, skral, krank, ussel, ikke noget at samle på, talentløs, uantagelig,'\n",
    "                    'uacceptabel, forkastelig; ikke noget at råbe hurra for, ikke noget at skrive hjem om,'\n",
    "                    'noget skidt (lort, pis), andenklasses, tredjeklasses (osv.), ringe, halvgod, ikke nogen'\n",
    "                    'ørn til, ikke ens stærke side, ens svage punkt, som en brækket arm; sjusket; ufordelagtig,'\n",
    "                    'ufyldestgørende, utilstrækkelig, utilfredsstillende, middelmådig, under lavmålet, uduelig,'\n",
    "                    'udygtig, uhensigtsmæssig, forkert, tarvelig; skadelig, ødelæggende, fordærvet, ubrugelig;'\n",
    "                    'ubehagelig, væmmelig, ulystbetonet; dys-; utiltalende, usympatisk, kedelig', 0, 1),\n",
    "                    ('20.000 kroner. Det er, hvad man som arbejdstager burde få ekstra i lønningsposen,'\n",
    "                    ' hvis man skal kunne acceptere at have en dårlig chef.', 0,1),\n",
    "                   ('kærlighed, hvordan elsker vi hinanden godt – uanset hvem vi elsker?',1,5),\n",
    "                   ('jeg hader dig', 0, 1),\n",
    "                   \n",
    "                  ]*20, \n",
    "                  columns='features target stars'.split())"
   ]
  },
  {
   "cell_type": "code",
   "execution_count": 29,
   "metadata": {},
   "outputs": [],
   "source": [
    "# new data from \"Sentiment Analysis on Comments from Danish Political Articles on Social Media\"\n",
    "# source: [https://github.com/lucaspuvis/SAM/blob/master/Thesis.pdf]"
   ]
  },
  {
   "cell_type": "code",
   "execution_count": 118,
   "metadata": {},
   "outputs": [],
   "source": [
    "SAM = \"https://raw.githubusercontent.com/steffan267/Sentiment-Analysis-on-Danish-Social-Media/master/all_sentences.csv\"\n",
    "ds = pd.read_csv(SAM, names=[\"target\", \"features\"])"
   ]
  },
  {
   "cell_type": "code",
   "execution_count": 119,
   "metadata": {},
   "outputs": [
    {
     "data": {
      "text/plain": [
       " 0    4087\n",
       "-1    2610\n",
       " 1    1007\n",
       "-2     862\n",
       " 2     442\n",
       "Name: target, dtype: int64"
      ]
     },
     "execution_count": 119,
     "metadata": {},
     "output_type": "execute_result"
    }
   ],
   "source": [
    "ds['target'].value_counts()"
   ]
  },
  {
   "cell_type": "code",
   "execution_count": 122,
   "metadata": {},
   "outputs": [
    {
     "name": "stdout",
     "output_type": "stream",
     "text": [
      "data_custom.json  data.json\n"
     ]
    }
   ],
   "source": [
    "ls ../data"
   ]
  },
  {
   "cell_type": "code",
   "execution_count": 74,
   "metadata": {},
   "outputs": [
    {
     "data": {
      "text/plain": [
       "0    3472\n",
       "1    1449\n",
       "Name: target, dtype: int64"
      ]
     },
     "execution_count": 74,
     "metadata": {},
     "output_type": "execute_result"
    }
   ],
   "source": [
    "(ds\n",
    "  .loc[lambda d: d['target'].ne(0)]\n",
    "  .assign(target= lambda d: np.where(d[\"target\"].gt(0), 1, 0))\n",
    "       \n",
    ")['target'].value_counts()\n",
    "  "
   ]
  },
  {
   "cell_type": "code",
   "execution_count": 76,
   "metadata": {},
   "outputs": [],
   "source": [
    "ds = (ds\n",
    "  .loc[lambda d: d['target'].ne(0)]\n",
    "  .assign(target= lambda d: np.where(d[\"target\"].gt(0), 1, 0))\n",
    "       \n",
    ")[['features', 'target']]\n",
    "  "
   ]
  },
  {
   "cell_type": "code",
   "execution_count": 77,
   "metadata": {},
   "outputs": [],
   "source": [
    "dt = dt.append(ds ,ignore_index=True)"
   ]
  },
  {
   "cell_type": "code",
   "execution_count": 9,
   "metadata": {},
   "outputs": [],
   "source": [
    "# dt.to_json('../data/data_custom.json')"
   ]
  },
  {
   "cell_type": "code",
   "execution_count": 78,
   "metadata": {},
   "outputs": [],
   "source": [
    "X_train, X_test, y_train, y_test = train_test_split(df['features'], \n",
    "                                                     df['target'],\n",
    "                                                     test_size=.2,\n",
    "                                                     random_state=42,\n",
    "                                                     stratify=df['target'])"
   ]
  },
  {
   "cell_type": "code",
   "execution_count": 79,
   "metadata": {},
   "outputs": [],
   "source": [
    "X_train, y_train = (X_train.append(dt['features'],ignore_index=True),\n",
    "                    y_train.append(dt['target'],ignore_index=True)\n",
    ")"
   ]
  },
  {
   "cell_type": "code",
   "execution_count": 80,
   "metadata": {},
   "outputs": [
    {
     "name": "stdout",
     "output_type": "stream",
     "text": [
      "Traing Size: 208652\n",
      "Test Size:    50893\n",
      "\n",
      "Traing Size\n",
      "\tPositive||Negative Samples\n",
      "\t  103315||105337\n",
      "\n",
      "Test Size\n",
      "\tPositive||Negative Samples\n",
      "\t  25446||25447\n"
     ]
    }
   ],
   "source": [
    "print(f'Traing Size: {X_train.shape[0]}\\nTest Size: {X_test.shape[0]:>8}')\n",
    "print(f'\\nTraing Size\\n\\tPositive||Negative Samples\\n\\t  {y_train[y_train==1].shape[0]}||{y_train[y_train==0].shape[0]}')\n",
    "print(f'\\nTest Size\\n\\tPositive||Negative Samples\\n\\t  {y_test[y_test==1].shape[0]}||{y_test[y_test==0].shape[0]}')"
   ]
  },
  {
   "cell_type": "code",
   "execution_count": 82,
   "metadata": {},
   "outputs": [],
   "source": [
    "hisia = Pipeline(steps =[\n",
    "        ('count_verctorizer',  CountVectorizer(ngram_range=(1, 2), \n",
    "                                 max_features=150000,\n",
    "                                 tokenizer=tokenizer, \n",
    "                                 stop_words=STOP_WORDS\n",
    "                                )\n",
    "        ),\n",
    "        ('feature_selector', SelectKBest(chi2, k=10000)),\n",
    "        ('tfidf', TfidfTransformer(sublinear_tf=True)),\n",
    "        ('logistic_regression', LogisticRegressionCV(cv=5,\n",
    "                                                    solver='saga',\n",
    "                                                    scoring='accuracy',\n",
    "                                                    max_iter=500, \n",
    "                                                    n_jobs=-1,\n",
    "                                                    random_state=42,\n",
    "                                                    verbose=0))\n",
    "])"
   ]
  },
  {
   "cell_type": "code",
   "execution_count": 83,
   "metadata": {},
   "outputs": [
    {
     "name": "stderr",
     "output_type": "stream",
     "text": [
      "/home/pwd/miniconda/envs/hisia/lib/python3.7/site-packages/sklearn/feature_extraction/text.py:401: UserWarning: Your stop_words may be inconsistent with your preprocessing. Tokenizing the stop words generated tokens ['alme', 'bank', 'brand', 'dansk', 'presi'] not in stop_words.\n",
      "  % sorted(inconsistent)\n",
      "/home/pwd/miniconda/envs/hisia/lib/python3.7/site-packages/sklearn/linear_model/_sag.py:354: ConvergenceWarning: The max_iter was reached which means the coef_ did not converge\n",
      "  ConvergenceWarning,\n",
      "/home/pwd/miniconda/envs/hisia/lib/python3.7/site-packages/sklearn/linear_model/_sag.py:354: ConvergenceWarning: The max_iter was reached which means the coef_ did not converge\n",
      "  ConvergenceWarning,\n",
      "/home/pwd/miniconda/envs/hisia/lib/python3.7/site-packages/sklearn/linear_model/_sag.py:354: ConvergenceWarning: The max_iter was reached which means the coef_ did not converge\n",
      "  ConvergenceWarning,\n",
      "/home/pwd/miniconda/envs/hisia/lib/python3.7/site-packages/sklearn/linear_model/_sag.py:354: ConvergenceWarning: The max_iter was reached which means the coef_ did not converge\n",
      "  ConvergenceWarning,\n",
      "/home/pwd/miniconda/envs/hisia/lib/python3.7/site-packages/sklearn/linear_model/_sag.py:354: ConvergenceWarning: The max_iter was reached which means the coef_ did not converge\n",
      "  ConvergenceWarning,\n",
      "/home/pwd/miniconda/envs/hisia/lib/python3.7/site-packages/sklearn/linear_model/_sag.py:354: ConvergenceWarning: The max_iter was reached which means the coef_ did not converge\n",
      "  ConvergenceWarning,\n",
      "/home/pwd/miniconda/envs/hisia/lib/python3.7/site-packages/sklearn/linear_model/_sag.py:354: ConvergenceWarning: The max_iter was reached which means the coef_ did not converge\n",
      "  ConvergenceWarning,\n",
      "/home/pwd/miniconda/envs/hisia/lib/python3.7/site-packages/sklearn/linear_model/_sag.py:354: ConvergenceWarning: The max_iter was reached which means the coef_ did not converge\n",
      "  ConvergenceWarning,\n",
      "/home/pwd/miniconda/envs/hisia/lib/python3.7/site-packages/sklearn/linear_model/_sag.py:354: ConvergenceWarning: The max_iter was reached which means the coef_ did not converge\n",
      "  ConvergenceWarning,\n",
      "/home/pwd/miniconda/envs/hisia/lib/python3.7/site-packages/sklearn/linear_model/_sag.py:354: ConvergenceWarning: The max_iter was reached which means the coef_ did not converge\n",
      "  ConvergenceWarning,\n"
     ]
    },
    {
     "name": "stdout",
     "output_type": "stream",
     "text": [
      "CPU times: user 15min 39s, sys: 357 ms, total: 15min 39s\n",
      "Wall time: 3min 41s\n"
     ]
    },
    {
     "data": {
      "text/plain": [
       "Pipeline(steps=[('count_verctorizer',\n",
       "                 CountVectorizer(max_features=150000, ngram_range=(1, 2),\n",
       "                                 stop_words={'ad', 'af', 'alle', 'alm brand',\n",
       "                                             'alt', 'anden', 'andet', 'andre',\n",
       "                                             'at', 'bare', 'begge', 'besked',\n",
       "                                             'bestil', 'bestild', 'bestilde',\n",
       "                                             'bestilden', 'bestilder',\n",
       "                                             'bestildt', 'bestildte', 'bestile',\n",
       "                                             'bestilede', 'bestiler',\n",
       "                                             'bestilet', 'bestilg', 'bestilge',\n",
       "                                             'bestiling', 'besti...\n",
       "                                             'bestilinger', 'bestilings',\n",
       "                                             'bestilingsforløbet', ...},\n",
       "                                 tokenizer=<function tokenizer at 0x7fccebbd90e0>)),\n",
       "                ('feature_selector',\n",
       "                 SelectKBest(k=10000,\n",
       "                             score_func=<function chi2 at 0x7fcd11f44b00>)),\n",
       "                ('tfidf', TfidfTransformer(sublinear_tf=True)),\n",
       "                ('logistic_regression',\n",
       "                 LogisticRegressionCV(cv=5, max_iter=500, n_jobs=-1,\n",
       "                                      random_state=42, scoring='accuracy',\n",
       "                                      solver='saga'))])"
      ]
     },
     "execution_count": 83,
     "metadata": {},
     "output_type": "execute_result"
    }
   ],
   "source": [
    "%%time\n",
    "hisia.fit(X_train, y_train)"
   ]
  },
  {
   "cell_type": "code",
   "execution_count": 84,
   "metadata": {},
   "outputs": [
    {
     "data": {
      "text/plain": [
       "0.9389699958736958"
      ]
     },
     "execution_count": 84,
     "metadata": {},
     "output_type": "execute_result"
    }
   ],
   "source": [
    "hisia.score(X_test, y_test)"
   ]
  },
  {
   "cell_type": "code",
   "execution_count": 85,
   "metadata": {},
   "outputs": [
    {
     "name": "stdout",
     "output_type": "stream",
     "text": [
      "Classification Report\n",
      "\t _____________________________________________\n",
      "              precision    recall  f1-score   support\n",
      "\n",
      "    Negative       0.93      0.95      0.94     25447\n",
      "    Positive       0.95      0.93      0.94     25446\n",
      "\n",
      "    accuracy                           0.94     50893\n",
      "   macro avg       0.94      0.94      0.94     50893\n",
      "weighted avg       0.94      0.94      0.94     50893\n",
      "\n",
      "\t _____________________________________________ \n",
      "\n",
      "\n"
     ]
    },
    {
     "data": {
      "image/png": "[encoded data removed]",
      "text/plain": [
       "<Figure size 720x360 with 1 Axes>"
      ]
     },
     "metadata": {},
     "output_type": "display_data"
    },
    {
     "data": {
      "text/plain": [
       "<Figure size 1080x360 with 0 Axes>"
      ]
     },
     "metadata": {},
     "output_type": "display_data"
    }
   ],
   "source": [
    "show_diagram(hisia, X_train, y_train, X_test, y_test, compare_test=True)"
   ]
  },
  {
   "cell_type": "code",
   "execution_count": 86,
   "metadata": {},
   "outputs": [],
   "source": [
    "feature_names = hisia.named_steps['count_verctorizer'].get_feature_names_out()\n",
    "best_features = [feature_names[i] for i in hisia.named_steps['feature_selector'].get_support(indices=True)]\n",
    "predictor =  hisia.named_steps['logistic_regression']"
   ]
  },
  {
   "cell_type": "code",
   "execution_count": 87,
   "metadata": {},
   "outputs": [
    {
     "name": "stdout",
     "output_type": "stream",
     "text": [
      "Showing 100 models learned features for negative and postive decisions\n",
      "______________________________________________________________________\n",
      "\n",
      "\n",
      "\t-9.7232\tikke orden     \t\t8.8140\tperfekt        \n",
      "\t-9.0674\tuacceptabel    \t\t8.1560\tsuper          \n",
      "\t-8.9552\tdårlig         \t\t7.9428\tingen problem  \n",
      "\t-7.3875\telendig        \t\t7.9240\tgod            \n",
      "\t-6.6214\tikke anbefale  \t\t7.6891\taldrig problem \n",
      "\t-6.4598\tikke god       \t\t7.5472\tfin            \n",
      "\t-6.2382\tikke modtage   \t\t7.3699\tnem            \n",
      "\t-6.0722\tikke iorden    \t\t7.3042\thurtig         \n",
      "\t-5.9351\tstadig ikke    \t\t6.9676\t:-)            \n",
      "\t-5.7788\tøv             \t\t6.8729\tdejlig         \n",
      "\t-5.7776\tikke tilfreds  \t\t6.8706\ttilfreds       \n",
      "\t-5.7103\tforkert        \t\t6.7399\tsidste stjerne \n",
      "\t-5.5596\tumulig         \t\t6.3951\thurtigt        \n",
      "\t-5.4718\tingen hjælpe   \t\t6.3223\tfantastisk     \n",
      "\t-5.4141\topsige         \t\t6.1161\tfremragende    \n",
      "\t-5.3991\tpåstå          \t\t6.0472\tingen klage    \n",
      "\t-5.3258\ttrætte         \t\t5.6006\tvarm anbefale  \n",
      "\t-5.2227\tingen måde     \t\t5.5573\t:)             \n",
      "\t-5.1573\tdistributionscenter\t\t5.5483\tsætte finger   \n",
      "\t-5.1479\tvække          \t\t5.4625\tuden problem   \n",
      "\t-5.1469\tutilfredsstillende\t\t5.3790\tproblemfri     \n",
      "\t-5.1320\t:-(            \t\t5.1313\tikke dårlig    \n",
      "\t-5.1102\tlangsom        \t\t4.8803\tvenlig         \n",
      "\t-5.0903\tgrin           \t\t4.8758\tikke bedre     \n",
      "\t-5.0837\tikke overholde \t\t4.8362\teffektiv       \n",
      "\t-5.0477\tsmide          \t\t4.7904\tsmertefri      \n",
      "\t-5.0161\tværst          \t\t4.5845\tlynhurtig      \n",
      "\t-4.9849\tforsøge        \t\t4.5822\tle             \n",
      "\t-4.9708\tlatterlig      \t\t4.5417\tbehagelig      \n",
      "\t-4.9451\tinkompetent    \t\t4.5144\tpositiv oplevelse\n",
      "\t-4.9334\tligeglad       \t\t4.4429\tglimrende      \n",
      "\t-4.9210\tødelægge       \t\t4.4203\tsmile          \n",
      "\t-4.9124\tikke acceptabel\t\t4.4132\thjælpsom       \n",
      "\t-4.8933\tsmadre         \t\t4.4124\t;)             \n",
      "\t-4.8219\tnægte          \t\t4.4046\tkanon          \n",
      "\t-4.8180\tubehøvlet      \t\t4.3799\tfin behandling \n",
      "\t-4.7040\tuge            \t\t4.3300\tpositiv overraske\n",
      "\t-4.6935\tingen god      \t\t4.2956\t:d             \n",
      "\t-4.6828\tikke hjælpe    \t\t4.2915\tskrive forkert \n",
      "\t-4.6801\tuprofessionel  \t\t4.2107\tminus          \n",
      "\t-4.6714\tførst          \t\t4.1547\tupåklagelig    \n",
      "\t-4.6476\tgod nok        \t\t4.1464\tug             \n",
      "\t-4.6231\tgl             \t\t4.1462\t:):)           \n",
      "\t-4.5885\tgentagen       \t\t4.0861\ttop            \n",
      "\t-4.5551\tikke aftalt    \t\t4.0839\tuproblematisk  \n",
      "\t-4.5486\tingen hørt     \t\t4.0361\tudmærket       \n",
      "\t-4.5214\tommer          \t\t4.0294\tprofessionel   \n",
      "\t-4.5017\tingen meddelelse\t\t4.0093\tingen ventetid \n",
      "\t-4.4918\tflabet         \t\t4.0040\tfinger sætte   \n",
      "\t-4.4879\tikke imponere  \t\t3.9846\tonfon          \n",
      "\t-4.4668\tsærlig god     \t\t3.9764\torden          \n",
      "\t-4.4609\tspilde         \t\t3.9656\t;-)            \n",
      "\t-4.4266\trykke          \t\t3.9397\tingen kø       \n",
      "\t-4.4042\tal kritik      \t\t3.9198\tingen udsætte  \n",
      "\t-4.4004\tskod           \t\t3.8981\tsupergod       \n",
      "\t-4.3986\tuforskammet    \t\t3.8940\ttakke god      \n",
      "\t-4.3913\tføje           \t\t3.8595\ttusind takke   \n",
      "\t-4.3890\tingen information\t\t3.8594\tikke klage     \n",
      "\t-4.3853\tikke stol      \t\t3.8549\tkompetent      \n",
      "\t-4.3691\t:(             \t\t3.8448\tklar anbefale  \n",
      "\t-4.3678\tgod forstå     \t\t3.6991\therlig         \n",
      "\t-4.3503\tikke ok        \t\t3.6804\tuden skade     \n",
      "\t-4.3482\tforsvinde      \t\t3.5946\tros            \n",
      "\t-4.3408\tlort           \t\t3.5790\tikke nemmere   \n",
      "\t-4.3376\tikke styr      \t\t3.5595\tfuld tilfredsstille\n",
      "\t-4.2745\turimelig       \t\t3.5502\tingen bemærke  \n",
      "\t-4.2557\tarrogant       \t\t3.5256\tvelforberedt   \n",
      "\t-4.2248\taldrig plads   \t\t3.5231\tfungere        \n",
      "\t-4.2225\tuseriøs        \t\t3.4847\tingen bøvle    \n",
      "\t-4.2036\tafvise         \t\t3.4809\talletiders     \n",
      "\t-4.1958\tstadig ingen   \t\t3.4705\tstraks         \n",
      "\t-4.1543\trigtig dårlig  \t\t3.4659\tthumb          \n",
      "\t-4.1534\tikke dække     \t\t3.4430\tikke lang      \n",
      "\t-4.1393\tikke tilfredsstille\t\t3.4325\ttid            \n",
      "\t-4.0793\tforsinke       \t\t3.3912\tanbefale virksomhed\n",
      "\t-4.0785\taflevere forkert\t\t3.3597\tgerne igen     \n",
      "\t-4.0744\thåbløs         \t\t3.3233\tselvom ikke    \n",
      "\t-4.0616\tløgn           \t\t3.3138\toverskuelig    \n",
      "\t-4.0505\tpludselig      \t\t3.3081\tingen bemærkning\n",
      "\t-4.0450\tlang tid       \t\t3.2963\tingen negativ  \n",
      "\t-4.0427\tvirke ikke     \t\t3.2797\tsmule          \n",
      "\t-4.0351\tsur            \t\t3.2787\tleve forventning\n",
      "\t-4.0163\tbetale ekstra  \t\t3.2557\tgå smøre       \n",
      "\t-4.0073\tikke behandle  \t\t3.2513\tsuperhurtig    \n",
      "\t-3.9703\tmåtte          \t\t3.2209\tordne          \n",
      "\t-3.9590\tlangtid        \t\t3.2101\trar            \n",
      "\t-3.9531\tikke tid       \t\t3.1899\tthumb up       \n",
      "\t-3.9517\tbøje           \t\t3.1790\tikke problem   \n",
      "\t-3.9204\tspild          \t\t3.1569\taldrig opleve  \n",
      "\t-3.9154\tannullere      \t\t3.1205\tproblem overhoved\n",
      "\t-3.9133\tdække ikke     \t\t3.1106\t:o)            \n",
      "\t-3.8890\tutroværdig     \t\t3.0507\tgod information\n",
      "\t-3.8869\tsørgelig       \t\t3.0365\thel vej        \n",
      "\t-3.8552\tstop           \t\t3.0145\tmindre timer   \n",
      "\t-3.8510\tbetale         \t\t3.0116\tikke opleve    \n",
      "\t-3.8499\ttilfældig      \t\t2.9897\ttak            \n",
      "\t-3.8485\tlangsommelig   \t\t2.9643\tskønt          \n",
      "\t-3.8400\tholder ikke    \t\t2.9511\tpræcis         \n",
      "\t-3.8101\tkursus         \t\t2.9453\tvirkelig god   \n",
      "\t-3.8098\tingen ske      \t\t2.8853\tikke gøre      \n"
     ]
    }
   ],
   "source": [
    "N = 100\n",
    "print(f'Showing {N} models learned features for negative and postive decisions')\n",
    "print('_'*70)\n",
    "print('\\n')\n",
    "show_most_informative_features(best_features, predictor, n=N)"
   ]
  },
  {
   "cell_type": "code",
   "execution_count": 94,
   "metadata": {},
   "outputs": [
    {
     "data": {
      "text/plain": [
       "array([[0.92140274, 0.07859726]])"
      ]
     },
     "execution_count": 94,
     "metadata": {},
     "output_type": "execute_result"
    }
   ],
   "source": [
    "# [negative, positive] probability\n",
    "hisia.predict_proba(['det er ikke okay!'])"
   ]
  },
  {
   "cell_type": "code",
   "execution_count": 89,
   "metadata": {},
   "outputs": [
    {
     "data": {
      "text/plain": [
       "array([[0.31872416, 0.68127584]])"
      ]
     },
     "execution_count": 89,
     "metadata": {},
     "output_type": "execute_result"
    }
   ],
   "source": [
    "hisia.predict_proba(['det er ikke dårligt!'])"
   ]
  },
  {
   "cell_type": "code",
   "execution_count": 93,
   "metadata": {},
   "outputs": [
    {
     "data": {
      "text/plain": [
       "(array([[0.30786518, 0.69213482]]),\n",
       " array([[0.92140274, 0.07859726]]),\n",
       " array([[0.144568, 0.855432]]),\n",
       " array([[0.68955267, 0.31044733]]))"
      ]
     },
     "execution_count": 93,
     "metadata": {},
     "output_type": "execute_result"
    }
   ],
   "source": [
    "(hisia.predict_proba(['jeg kan lide det!']), \n",
    " hisia.predict_proba(['jeg kan ikke det!']),\n",
    " hisia.predict_proba(['jeg elsker det!']),\n",
    " hisia.predict_proba(['jeg elsker det slet ikke!'])\n",
    ")"
   ]
  },
  {
   "cell_type": "code",
   "execution_count": 95,
   "metadata": {},
   "outputs": [],
   "source": [
    "mad_max = ['Jeg er vred på, at jeg ikke fik min pakke :( elsker']"
   ]
  },
  {
   "cell_type": "code",
   "execution_count": 96,
   "metadata": {},
   "outputs": [
    {
     "data": {
      "text/plain": [
       "42"
      ]
     },
     "execution_count": 96,
     "metadata": {},
     "output_type": "execute_result"
    }
   ],
   "source": [
    "hisia.named_steps['logistic_regression'].random_state"
   ]
  },
  {
   "cell_type": "code",
   "execution_count": 97,
   "metadata": {},
   "outputs": [
    {
     "data": {
      "text/plain": [
       "array([[0.30786518, 0.69213482]])"
      ]
     },
     "execution_count": 97,
     "metadata": {},
     "output_type": "execute_result"
    }
   ],
   "source": [
    "hisia.predict_proba(['']) # model is positive :)"
   ]
  },
  {
   "cell_type": "code",
   "execution_count": 98,
   "metadata": {},
   "outputs": [
    {
     "data": {
      "text/plain": [
       "array([0])"
      ]
     },
     "execution_count": 98,
     "metadata": {},
     "output_type": "execute_result"
    }
   ],
   "source": [
    "hisia.predict(mad_max)"
   ]
  },
  {
   "cell_type": "code",
   "execution_count": 99,
   "metadata": {},
   "outputs": [
    {
     "data": {
      "text/plain": [
       "array([[0.94054261, 0.05945739]])"
      ]
     },
     "execution_count": 99,
     "metadata": {},
     "output_type": "execute_result"
    }
   ],
   "source": [
    "res = hisia.predict_proba(mad_max)\n",
    "res"
   ]
  },
  {
   "cell_type": "code",
   "execution_count": 100,
   "metadata": {},
   "outputs": [
    {
     "data": {
      "text/plain": [
       "array([-2.76119702])"
      ]
     },
     "execution_count": 100,
     "metadata": {},
     "output_type": "execute_result"
    }
   ],
   "source": [
    "hisia.decision_function(mad_max)"
   ]
  },
  {
   "cell_type": "code",
   "execution_count": 101,
   "metadata": {},
   "outputs": [],
   "source": [
    "v = hisia.named_steps['count_verctorizer'].transform(mad_max)\n",
    "v = hisia.named_steps['feature_selector'].transform(v)\n",
    "v = pd.DataFrame.sparse.from_spmatrix(v)"
   ]
  },
  {
   "cell_type": "code",
   "execution_count": 102,
   "metadata": {},
   "outputs": [],
   "source": [
    "v = set(v.loc[:,v.iloc[0]==1].columns)"
   ]
  },
  {
   "cell_type": "code",
   "execution_count": 103,
   "metadata": {},
   "outputs": [],
   "source": [
    "look_up = {index:(token,coef) for index, coef, token in \n",
    "           zip(range(len(best_features)),\n",
    "               hisia.named_steps['logistic_regression'].coef_[0], \n",
    "               best_features)}"
   ]
  },
  {
   "cell_type": "code",
   "execution_count": 104,
   "metadata": {},
   "outputs": [
    {
     "data": {
      "text/plain": [
       "{(':(', -4.369068341969313),\n",
       " ('elsker', 0.967737847205695),\n",
       " ('ikke', -3.271679111316931),\n",
       " ('vred', -2.330453428360274)}"
      ]
     },
     "execution_count": 104,
     "metadata": {},
     "output_type": "execute_result"
    }
   ],
   "source": [
    "{look_up[item] for item in v}"
   ]
  },
  {
   "cell_type": "code",
   "execution_count": 105,
   "metadata": {},
   "outputs": [
    {
     "data": {
      "text/plain": [
       "0.8101187848146085"
      ]
     },
     "execution_count": 105,
     "metadata": {},
     "output_type": "execute_result"
    }
   ],
   "source": [
    "hisia.named_steps['logistic_regression'].intercept_[0]"
   ]
  },
  {
   "cell_type": "code",
   "execution_count": 106,
   "metadata": {},
   "outputs": [],
   "source": [
    "g = [look_up[item] for item in v]"
   ]
  },
  {
   "cell_type": "code",
   "execution_count": 107,
   "metadata": {},
   "outputs": [
    {
     "data": {
      "text/plain": [
       "0.36526214251202355"
      ]
     },
     "execution_count": 107,
     "metadata": {},
     "output_type": "execute_result"
    }
   ],
   "source": [
    "1/(1 + np.exp(-(g[0][1] + g[1][1] + hisia.named_steps['logistic_regression'].intercept_[0])))"
   ]
  },
  {
   "cell_type": "code",
   "execution_count": 108,
   "metadata": {},
   "outputs": [
    {
     "data": {
      "text/plain": [
       "-2.761197015688508"
      ]
     },
     "execution_count": 108,
     "metadata": {},
     "output_type": "execute_result"
    }
   ],
   "source": [
    "hisia.decision_function(mad_max)[0]"
   ]
  },
  {
   "cell_type": "code",
   "execution_count": 109,
   "metadata": {},
   "outputs": [],
   "source": [
    "df = pd.DataFrame(res)"
   ]
  },
  {
   "cell_type": "code",
   "execution_count": 110,
   "metadata": {},
   "outputs": [],
   "source": [
    "df['sentiment'] = np.where(df[0] > .5, 'negative', 'positive')"
   ]
  },
  {
   "cell_type": "code",
   "execution_count": 111,
   "metadata": {},
   "outputs": [],
   "source": [
    "df.columns = ['negative_probability','positive_probability','sentiment']"
   ]
  },
  {
   "cell_type": "code",
   "execution_count": 114,
   "metadata": {},
   "outputs": [],
   "source": [
    "Sentiment = namedtuple('Sentiment', ['sentiment','positive_probability', 'negative_probability'])"
   ]
  },
  {
   "cell_type": "code",
   "execution_count": 115,
   "metadata": {},
   "outputs": [
    {
     "data": {
      "text/html": [
       "<div>\n",
       "<style scoped>\n",
       "    .dataframe tbody tr th:only-of-type {\n",
       "        vertical-align: middle;\n",
       "    }\n",
       "\n",
       "    .dataframe tbody tr th {\n",
       "        vertical-align: top;\n",
       "    }\n",
       "\n",
       "    .dataframe thead th {\n",
       "        text-align: right;\n",
       "    }\n",
       "</style>\n",
       "<table border=\"1\" class=\"dataframe\">\n",
       "  <thead>\n",
       "    <tr style=\"text-align: right;\">\n",
       "      <th></th>\n",
       "      <th>negative_probability</th>\n",
       "      <th>positive_probability</th>\n",
       "      <th>sentiment</th>\n",
       "    </tr>\n",
       "  </thead>\n",
       "  <tbody>\n",
       "    <tr>\n",
       "      <th>0</th>\n",
       "      <td>0.940543</td>\n",
       "      <td>0.059457</td>\n",
       "      <td>negative</td>\n",
       "    </tr>\n",
       "  </tbody>\n",
       "</table>\n",
       "</div>"
      ],
      "text/plain": [
       "   negative_probability  positive_probability sentiment\n",
       "0              0.940543              0.059457  negative"
      ]
     },
     "execution_count": 115,
     "metadata": {},
     "output_type": "execute_result"
    }
   ],
   "source": [
    "df"
   ]
  },
  {
   "cell_type": "code",
   "execution_count": 116,
   "metadata": {},
   "outputs": [],
   "source": [
    "b = Sentiment(**df.round(3).to_dict(orient='index')[0])"
   ]
  },
  {
   "cell_type": "code",
   "execution_count": 117,
   "metadata": {},
   "outputs": [
    {
     "data": {
      "text/plain": [
       "Sentiment(sentiment='negative', positive_probability=0.059, negative_probability=0.941)"
      ]
     },
     "execution_count": 117,
     "metadata": {},
     "output_type": "execute_result"
    }
   ],
   "source": [
    "b"
   ]
  },
  {
   "cell_type": "markdown",
   "metadata": {},
   "source": [
    "# Retrainable Model SGD"
   ]
  },
  {
   "cell_type": "code",
   "execution_count": 43,
   "metadata": {},
   "outputs": [],
   "source": [
    "hisia_trainer =Pipeline(steps =[\n",
    "                ('count_verctorizer',  CountVectorizer(ngram_range=(1, 2), \n",
    "                                         max_features=100000,\n",
    "                                         tokenizer=tokenizer, \n",
    "                                        )\n",
    "                ),\n",
    "                ('feature_selector', SelectKBest(chi2, k=5000)),\n",
    "                ('tfidf', TfidfTransformer(sublinear_tf=True)),\n",
    "                ('modified_hubern', SGDClassifier(loss='modified_huber', \n",
    "                                                      random_state=7,\n",
    "                                                      max_iter=1000))\n",
    "])"
   ]
  },
  {
   "cell_type": "code",
   "execution_count": 44,
   "metadata": {},
   "outputs": [
    {
     "name": "stdout",
     "output_type": "stream",
     "text": [
      "CPU times: user 2min 12s, sys: 4.55 s, total: 2min 17s\n",
      "Wall time: 2min 29s\n"
     ]
    },
    {
     "data": {
      "text/plain": [
       "Pipeline(steps=[('count_verctorizer',\n",
       "                 CountVectorizer(max_features=100000, ngram_range=(1, 2),\n",
       "                                 tokenizer=<function tokenizer at 0x7f299e7665f0>)),\n",
       "                ('feature_selector',\n",
       "                 SelectKBest(k=5000,\n",
       "                             score_func=<function chi2 at 0x7f29a0f484d0>)),\n",
       "                ('tfidf', TfidfTransformer(sublinear_tf=True)),\n",
       "                ('modified_hubern',\n",
       "                 SGDClassifier(loss='modified_huber', random_state=7))])"
      ]
     },
     "execution_count": 44,
     "metadata": {},
     "output_type": "execute_result"
    }
   ],
   "source": [
    "%%time\n",
    "hisia_trainer.fit(X_train, y_train)"
   ]
  },
  {
   "cell_type": "code",
   "execution_count": 45,
   "metadata": {},
   "outputs": [
    {
     "data": {
      "text/plain": [
       "0.9352366730198652"
      ]
     },
     "execution_count": 45,
     "metadata": {},
     "output_type": "execute_result"
    }
   ],
   "source": [
    "# for partil_fit we have to split the pipeline to transformation and scoring\n",
    "hisia_trainer.score(X_test,y_test)"
   ]
  },
  {
   "cell_type": "code",
   "execution_count": 46,
   "metadata": {},
   "outputs": [
    {
     "name": "stdout",
     "output_type": "stream",
     "text": [
      "Classification Report\n",
      "\t _____________________________________________\n",
      "              precision    recall  f1-score   support\n",
      "\n",
      "    Negative       0.92      0.95      0.94     25447\n",
      "    Positive       0.95      0.92      0.93     25446\n",
      "\n",
      "    accuracy                           0.94     50893\n",
      "   macro avg       0.94      0.94      0.94     50893\n",
      "weighted avg       0.94      0.94      0.94     50893\n",
      "\n",
      "\t _____________________________________________ \n",
      "\n",
      "\n"
     ]
    },
    {
     "data": {
      "image/png": "[encoded data removed]",
      "text/plain": [
       "<Figure size 720x360 with 1 Axes>"
      ]
     },
     "metadata": {},
     "output_type": "display_data"
    },
    {
     "data": {
      "text/plain": [
       "<Figure size 1080x360 with 0 Axes>"
      ]
     },
     "metadata": {},
     "output_type": "display_data"
    }
   ],
   "source": [
    "show_diagram(hisia_trainer, X_train, y_train, X_test, y_test, compare_test=True)"
   ]
  },
  {
   "cell_type": "code",
   "execution_count": 47,
   "metadata": {},
   "outputs": [],
   "source": [
    "feature_names = hisia_trainer.named_steps['count_verctorizer'].get_feature_names()\n",
    "best_features = [feature_names[i] for i in hisia_trainer.named_steps['feature_selector'].get_support(indices=True)]\n",
    "predictor =  hisia_trainer.named_steps['modified_hubern']"
   ]
  },
  {
   "cell_type": "code",
   "execution_count": 48,
   "metadata": {},
   "outputs": [
    {
     "name": "stdout",
     "output_type": "stream",
     "text": [
      "Showing 100 models learned features for negative and postive decisions\n",
      "______________________________________________________________________\n",
      "\n",
      "\n",
      "\t-2.5134\tdårlig         \t\t2.2176\tgod            \n",
      "\t-1.8454\tikke orden     \t\t2.0373\thurtig         \n",
      "\t-1.7522\tuacceptabel    \t\t2.0333\tsuper          \n",
      "\t-1.7472\telendig        \t\t2.0238\tperfekt        \n",
      "\t-1.6706\tkilometer      \t\t1.9283\tnem            \n",
      "\t-1.6391\tikke god       \t\t1.8499\tfin            \n",
      "\t-1.6088\tførst          \t\t1.8285\tdejlig         \n",
      "\t-1.4937\tforkert        \t\t1.7523\t:-)            \n",
      "\t-1.4503\tlangsom        \t\t1.7110\ttilfreds       \n",
      "\t-1.4139\tikke tilfreds  \t\t1.6985\thurtigt        \n",
      "\t-1.3812\tikke modtage   \t\t1.5544\tfantastisk     \n",
      "\t-1.3790\tbetale         \t\t1.4693\t:)             \n",
      "\t-1.3671\tøv             \t\t1.2569\tsmile          \n",
      "\t-1.3622\tforsøge        \t\t1.2289\tvenlig         \n",
      "\t-1.3486\tuge            \t\t1.2043\tikke dårlig    \n",
      "\t-1.2826\tødelægge       \t\t1.1629\tfremragende    \n",
      "\t-1.2769\t:-(            \t\t1.1304\tingen problem  \n",
      "\t-1.2717\ttrætte         \t\t1.1241\tproblem        \n",
      "\t-1.2614\tsmadre         \t\t1.1052\tle             \n",
      "\t-1.2455\tforsinke       \t\t1.1026\tsætte finger   \n",
      "\t-1.2409\tumulig         \t\t1.0963\ttop            \n",
      "\t-1.2397\tgl             \t\t1.0920\tikke bedre     \n",
      "\t-1.2225\tsmide          \t\t1.0866\thjælpsom       \n",
      "\t-1.2199\tikke           \t\t1.0705\tingen klage    \n",
      "\t-1.1954\tikke anbefale  \t\t1.0479\teffektiv       \n",
      "\t-1.1913\tlang           \t\t0.9992\tbehagelig      \n",
      "\t-1.1913\tikke iorden    \t\t0.9932\tproblemfri     \n",
      "\t-1.1735\tmåtte          \t\t0.9746\tlynhurtig      \n",
      "\t-1.1620\tingen hjælpe   \t\t0.9715\tonfon          \n",
      "\t-1.1556\topsige         \t\t0.9559\tikke gøre      \n",
      "\t-1.1440\tingen god      \t\t0.9401\tkompetent      \n",
      "\t-1.1249\tikke aftalt    \t\t0.9386\tminus          \n",
      "\t-1.1249\tvække          \t\t0.9237\tikke klage     \n",
      "\t-1.1062\tværst          \t\t0.9223\t;-)            \n",
      "\t-1.0969\tskuffe         \t\t0.9209\tprofessionel   \n",
      "\t-1.0843\t:(             \t\t0.9197\tvarm anbefale  \n",
      "\t-1.0810\tsur            \t\t0.8786\tupåklagelig    \n",
      "\t-1.0780\tutilfredsstillende\t\t0.8559\tallerede       \n",
      "\t-1.0774\tlukke          \t\t0.8392\taltid få       \n",
      "\t-1.0466\tpåstå          \t\t0.8379\tselvom ikke    \n",
      "\t-1.0399\tstå            \t\t0.8377\tfungere        \n",
      "\t-1.0384\tgod nok        \t\t0.8262\tsmertefri      \n",
      "\t-1.0348\tforsvinde      \t\t0.8196\tuden problem   \n",
      "\t-1.0308\tingen måde     \t\t0.8169\tpositiv overraske\n",
      "\t-1.0156\tdistributionscenter\t\t0.8061\tug             \n",
      "\t-0.9941\trykke          \t\t0.7928\ttusind takke   \n",
      "\t-0.9916\tikke hjælpe    \t\t0.7856\tklar anbefale  \n",
      "\t-0.9860\tikke få        \t\t0.7849\tpræcis         \n",
      "\t-0.9834\tmåned          \t\t0.7758\tfin behandling \n",
      "\t-0.9763\turimelig       \t\t0.7752\tingen ventetid \n",
      "\t-0.9753\ttage           \t\t0.7700\tpositiv oplevelse\n",
      "\t-0.9731\tvirke ikke     \t\t0.7696\trigtig god     \n",
      "\t-0.9698\tbede           \t\t0.7559\ttid            \n",
      "\t-0.9692\tikke tid       \t\t0.7552\tstraks         \n",
      "\t-0.9582\tikke love      \t\t0.7498\tikke lang      \n",
      "\t-0.9525\thverken        \t\t0.7350\torden          \n",
      "\t-0.9432\tgrin           \t\t0.7331\tkanon          \n",
      "\t-0.9430\trod            \t\t0.7253\thel vej        \n",
      "\t-0.9394\tburde          \t\t0.7231\ttakke god      \n",
      "\t-0.9390\tuprofessionel  \t\t0.7156\tsmule          \n",
      "\t-0.9389\tpludselig      \t\t0.7133\toverskuelig    \n",
      "\t-0.9360\tlatterlig      \t\t0.6947\tuproblematisk  \n",
      "\t-0.9350\tlangsommelig   \t\t0.6850\tikke opleve    \n",
      "\t-0.9342\tundgå          \t\t0.6696\taldrig opleve  \n",
      "\t-0.9326\tikke ok        \t\t0.6289\tingen bemærke  \n",
      "\t-0.9314\tåbenbar        \t\t0.6278\tvelforberedt   \n",
      "\t-0.9303\thule           \t\t0.6239\tgerne igen     \n",
      "\t-0.9293\tspild          \t\t0.6210\tordne          \n",
      "\t-0.9244\thåbløs         \t\t0.6132\taltid god      \n",
      "\t-0.9188\tgebyr          \t\t0.6095\t:o)            \n",
      "\t-0.9175\tligge          \t\t0.6063\thave           \n",
      "\t-0.9159\tikke overholde \t\t0.6044\tløbe           \n",
      "\t-0.9137\tnægte          \t\t0.5998\ttilfredshed    \n",
      "\t-0.9113\tubehøvlet      \t\t0.5998\thave dårlig    \n",
      "\t-0.9062\tskod           \t\t0.5894\tuden skade     \n",
      "\t-0.9019\taldrig         \t\t0.5820\taftalt         \n",
      "\t-0.9004\tingen ankomme  \t\t0.5788\thøflig         \n",
      "\t-0.8973\tommer          \t\t0.5785\tvarm           \n",
      "\t-0.8914\tlang tid       \t\t0.5762\tspørgsmål      \n",
      "\t-0.8820\tstadig ikke    \t\t0.5733\tenkelt         \n",
      "\t-0.8783\tskidt          \t\t0.5660\tgod information\n",
      "\t-0.8775\tstykke         \t\t0.5645\tingen bøvle    \n",
      "\t-0.8770\tende           \t\t0.5595\tforvente       \n",
      "\t-0.8760\tforgæves       \t\t0.5587\tingen forbeholde\n",
      "\t-0.8757\tikke dør       \t\t0.5440\tbillig         \n",
      "\t-0.8753\tsløv           \t\t0.5364\thånd           \n",
      "\t-0.8707\thalvdel        \t\t0.5347\terfaring       \n",
      "\t-0.8703\tinkompetent    \t\t0.5289\tvirkelig god   \n",
      "\t-0.8692\tikke styr      \t\t0.5243\taften          \n",
      "\t-0.8661\tirriterende    \t\t0.5215\tvare           \n",
      "\t-0.8653\tforfærdelig    \t\t0.5192\tbekvem         \n",
      "\t-0.8611\tsnyde          \t\t0.5106\ttid uden       \n",
      "\t-0.8579\tstige          \t\t0.5078\thandle         \n",
      "\t-0.8533\tspilde         \t\t0.5067\tparre          \n",
      "\t-0.8492\tindhold        \t\t0.5059\tiorden         \n",
      "\t-0.8481\tlaang          \t\t0.5037\taltid tid      \n",
      "\t-0.8478\tbeskadige      \t\t0.4965\tnet            \n",
      "\t-0.8442\tikke rigtig    \t\t0.4950\tsikker         \n",
      "\t-0.8426\theld           \t\t0.4945\ttilføje        \n",
      "\t-0.8418\tuseriøs        \t\t0.4941\ttryg           \n"
     ]
    }
   ],
   "source": [
    "N = 100\n",
    "print(f'Showing {N} models learned features for negative and postive decisions')\n",
    "print('_'*70)\n",
    "print('\\n')\n",
    "show_most_informative_features(best_features, predictor, n=N)"
   ]
  }
 ],
 "metadata": {
  "kernelspec": {
   "display_name": "Hisia",
   "language": "python",
   "name": "hisia"
  },
  "language_info": {
   "codemirror_mode": {
    "name": "ipython",
    "version": 3
   },
   "file_extension": ".py",
   "mimetype": "text/x-python",
   "name": "python",
   "nbconvert_exporter": "python",
   "pygments_lexer": "ipython3",
   "version": "3.7.11"
  }
 },
 "nbformat": 4,
 "nbformat_minor": 4
}
